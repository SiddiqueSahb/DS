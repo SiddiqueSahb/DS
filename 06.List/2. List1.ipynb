{
 "cells": [
  {
   "cell_type": "markdown",
   "id": "e942eb41-552e-4bdc-8649-05766e6e4a1c",
   "metadata": {},
   "source": [
    "### How List are stored"
   ]
  },
  {
   "cell_type": "markdown",
   "id": "4008e500-eb2f-4240-987b-1b1b5484ba93",
   "metadata": {},
   "source": [
    "1] List actually stores the references of element.\n",
    "2] References are stored continously . References are of size 4 bytes\n",
    "3] List follows the concept of resizing to maintain the continuity."
   ]
  },
  {
   "cell_type": "markdown",
   "id": "a270ec04-9448-450c-8986-544222273562",
   "metadata": {},
   "source": [
    "### Looping on List"
   ]
  },
  {
   "cell_type": "code",
   "execution_count": 1,
   "id": "7643b90b-c1f6-4803-b21c-fecc874903c9",
   "metadata": {},
   "outputs": [],
   "source": [
    "li = [1,2,\"Arshad\",6,7,8]"
   ]
  },
  {
   "cell_type": "code",
   "execution_count": 3,
   "id": "48fdb096-1357-4345-88dd-180ff2f596b0",
   "metadata": {},
   "outputs": [
    {
     "name": "stdout",
     "output_type": "stream",
     "text": [
      "1\n",
      "2\n",
      "Arshad\n",
      "6\n",
      "7\n",
      "8\n"
     ]
    }
   ],
   "source": [
    "for i in range(len(li)):\n",
    "    print(li[i])"
   ]
  },
  {
   "cell_type": "code",
   "execution_count": 5,
   "id": "2a4e53c0-af9f-4f9f-95b5-46cbee6e82f5",
   "metadata": {},
   "outputs": [],
   "source": [
    "li = [1,2,\"Arshad\",6,7,8]"
   ]
  },
  {
   "cell_type": "code",
   "execution_count": 9,
   "id": "e886136a-b123-4ffc-bca4-2546164b7033",
   "metadata": {},
   "outputs": [
    {
     "name": "stdout",
     "output_type": "stream",
     "text": [
      "1\n",
      "2\n",
      "Arshad\n",
      "6\n",
      "7\n",
      "8\n"
     ]
    }
   ],
   "source": [
    "for ele in li:\n",
    "    print(ele)"
   ]
  },
  {
   "cell_type": "code",
   "execution_count": 10,
   "id": "7e48b36e-c6d5-407f-8d58-0ee6e6f0ae4b",
   "metadata": {},
   "outputs": [
    {
     "name": "stdout",
     "output_type": "stream",
     "text": [
      "Arshad\n",
      "6\n",
      "7\n",
      "8\n"
     ]
    }
   ],
   "source": [
    "for ele in li[2:]:\n",
    "    print(ele)"
   ]
  },
  {
   "cell_type": "markdown",
   "id": "c33485d8-604b-43cc-aec0-cf65f63466c4",
   "metadata": {},
   "source": [
    "### Negative Indexing in list"
   ]
  },
  {
   "cell_type": "code",
   "execution_count": 12,
   "id": "ac051178-13eb-496c-8ef9-0b4ff34a3fa6",
   "metadata": {},
   "outputs": [],
   "source": [
    "li = [1,2,3,4,5]"
   ]
  },
  {
   "cell_type": "code",
   "execution_count": 13,
   "id": "a06736b0-f703-4e11-854d-90cda28e581b",
   "metadata": {},
   "outputs": [
    {
     "data": {
      "text/plain": [
       "1"
      ]
     },
     "execution_count": 13,
     "metadata": {},
     "output_type": "execute_result"
    }
   ],
   "source": [
    "li[0] # It gives first element"
   ]
  },
  {
   "cell_type": "code",
   "execution_count": 15,
   "id": "b4223fce-e59d-44c3-a8de-b30a7a21c97c",
   "metadata": {},
   "outputs": [
    {
     "data": {
      "text/plain": [
       "5"
      ]
     },
     "execution_count": 15,
     "metadata": {},
     "output_type": "execute_result"
    }
   ],
   "source": [
    " li[-1] # It gives last element"
   ]
  },
  {
   "cell_type": "markdown",
   "id": "ba0da79f-7b45-44a0-b76c-2abae64114d0",
   "metadata": {},
   "source": [
    "### Sequencing in List"
   ]
  },
  {
   "cell_type": "markdown",
   "id": "10a081a6-de28-42d5-b888-65099e363eb3",
   "metadata": {},
   "source": [
    "li[start:end:step]"
   ]
  },
  {
   "cell_type": "code",
   "execution_count": 17,
   "id": "0702a969-4321-4d6f-9eb0-c323c61c7d3f",
   "metadata": {},
   "outputs": [
    {
     "data": {
      "text/plain": [
       "[1, 2, 3, 4, 5]"
      ]
     },
     "execution_count": 17,
     "metadata": {},
     "output_type": "execute_result"
    }
   ],
   "source": [
    "li"
   ]
  },
  {
   "cell_type": "code",
   "execution_count": 19,
   "id": "0e738d25-cfe3-495e-9216-40ccffa52637",
   "metadata": {},
   "outputs": [
    {
     "data": {
      "text/plain": [
       "[2, 3, 4, 5]"
      ]
     },
     "execution_count": 19,
     "metadata": {},
     "output_type": "execute_result"
    }
   ],
   "source": [
    "li[1:5:1] \n",
    "# It starts from 1st index goes till end-1 and take 1 step"
   ]
  },
  {
   "cell_type": "code",
   "execution_count": 20,
   "id": "687aaca6-ec18-4a3a-b5e2-06a355fcd87e",
   "metadata": {},
   "outputs": [
    {
     "data": {
      "text/plain": [
       "[2, 3]"
      ]
     },
     "execution_count": 20,
     "metadata": {},
     "output_type": "execute_result"
    }
   ],
   "source": [
    "li[1:3:1]"
   ]
  },
  {
   "cell_type": "code",
   "execution_count": 22,
   "id": "a3a1e5b8-bc87-4dbd-84a8-5815e8777ade",
   "metadata": {},
   "outputs": [
    {
     "data": {
      "text/plain": [
       "[2, 3, 4, 5]"
      ]
     },
     "execution_count": 22,
     "metadata": {},
     "output_type": "execute_result"
    }
   ],
   "source": [
    "li[1:]\n",
    "# It starts from 1st index and goes till end"
   ]
  },
  {
   "cell_type": "code",
   "execution_count": 23,
   "id": "429e82b2-12c1-4664-93e8-7b70f96c9223",
   "metadata": {},
   "outputs": [
    {
     "data": {
      "text/plain": [
       "[2, 4]"
      ]
     },
     "execution_count": 23,
     "metadata": {},
     "output_type": "execute_result"
    }
   ],
   "source": [
    "li[1::2]\n",
    "# It will start from 1st index and it will increment by 2"
   ]
  },
  {
   "cell_type": "code",
   "execution_count": 25,
   "id": "59042be7-35be-4889-ac5e-b414b2ce48b5",
   "metadata": {},
   "outputs": [
    {
     "data": {
      "text/plain": [
       "[1, 2, 3]"
      ]
     },
     "execution_count": 25,
     "metadata": {},
     "output_type": "execute_result"
    }
   ],
   "source": [
    "li[:3]\n",
    "# By default, it will start from 0th index and will go till end-1 i.e 2nd index \n",
    "# By default, it will take 1 step"
   ]
  },
  {
   "cell_type": "code",
   "execution_count": 26,
   "id": "cedcc577-34cc-4d72-b5f6-636777809308",
   "metadata": {},
   "outputs": [
    {
     "data": {
      "text/plain": [
       "5"
      ]
     },
     "execution_count": 26,
     "metadata": {},
     "output_type": "execute_result"
    }
   ],
   "source": [
    "li[-1]"
   ]
  },
  {
   "cell_type": "code",
   "execution_count": 27,
   "id": "046c928c-8a2c-411c-8cdf-0c14d5339c4c",
   "metadata": {},
   "outputs": [
    {
     "data": {
      "text/plain": [
       "[5]"
      ]
     },
     "execution_count": 27,
     "metadata": {},
     "output_type": "execute_result"
    }
   ],
   "source": [
    "li[-1:]"
   ]
  },
  {
   "cell_type": "code",
   "execution_count": 28,
   "id": "1d389cdd-f1fb-49d8-acae-68a691548116",
   "metadata": {},
   "outputs": [
    {
     "data": {
      "text/plain": [
       "[3, 4]"
      ]
     },
     "execution_count": 28,
     "metadata": {},
     "output_type": "execute_result"
    }
   ],
   "source": [
    "li[-3:-1]"
   ]
  }
 ],
 "metadata": {
  "kernelspec": {
   "display_name": "Python 3 (ipykernel)",
   "language": "python",
   "name": "python3"
  },
  "language_info": {
   "codemirror_mode": {
    "name": "ipython",
    "version": 3
   },
   "file_extension": ".py",
   "mimetype": "text/x-python",
   "name": "python",
   "nbconvert_exporter": "python",
   "pygments_lexer": "ipython3",
   "version": "3.11.7"
  }
 },
 "nbformat": 4,
 "nbformat_minor": 5
}
