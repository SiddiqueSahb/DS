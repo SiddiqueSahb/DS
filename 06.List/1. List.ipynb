{
 "cells": [
  {
   "cell_type": "markdown",
   "id": "6f73a223-7fa7-4127-aaf4-d93413ba3879",
   "metadata": {},
   "source": [
    "# List"
   ]
  },
  {
   "cell_type": "markdown",
   "id": "29e978ca-13da-4721-b370-d5f1c7860879",
   "metadata": {},
   "source": [
    "List are created using square bracket\n",
    "List store elements of different type\n",
    "Elements are stored in contiguous manner\n",
    "They are heterogenous in nature"
   ]
  },
  {
   "cell_type": "markdown",
   "id": "02f46450-8bb2-4f2e-80e2-10ecd807b0eb",
   "metadata": {},
   "source": [
    "## Create a List"
   ]
  },
  {
   "cell_type": "code",
   "execution_count": 12,
   "id": "c63879ac-797a-440a-b2ab-166fcc1686e9",
   "metadata": {},
   "outputs": [],
   "source": [
    "li = []          # empty list"
   ]
  },
  {
   "cell_type": "code",
   "execution_count": 13,
   "id": "e2eec5af-a8f8-43d6-ba57-3f91f0267341",
   "metadata": {},
   "outputs": [],
   "source": [
    "li = [1,2,3]    # we have initialized the list using 3 elements"
   ]
  },
  {
   "cell_type": "code",
   "execution_count": 2,
   "id": "bbfc1a17-bc3e-4aed-acba-e1b6a10b4bc6",
   "metadata": {},
   "outputs": [],
   "source": [
    "li = [1, 2, \"Arshad\", 3.4]"
   ]
  },
  {
   "cell_type": "markdown",
   "id": "9f5e3f64-41a3-4501-bce8-7917db56df36",
   "metadata": {},
   "source": [
    "## Accessing & Changing element in List"
   ]
  },
  {
   "cell_type": "code",
   "execution_count": null,
   "id": "1b3dd5f9-d70e-4709-9e10-889090e6c7f2",
   "metadata": {},
   "outputs": [],
   "source": [
    "# Slicing - we want part of the list"
   ]
  },
  {
   "cell_type": "code",
   "execution_count": 3,
   "id": "f072d75a-32a9-44cf-ac3d-5ba08bca7386",
   "metadata": {},
   "outputs": [
    {
     "data": {
      "text/plain": [
       "1"
      ]
     },
     "execution_count": 3,
     "metadata": {},
     "output_type": "execute_result"
    }
   ],
   "source": [
    "li[0]"
   ]
  },
  {
   "cell_type": "code",
   "execution_count": 4,
   "id": "adf7a5e9-3025-4715-b60f-9434ec5e0cbd",
   "metadata": {},
   "outputs": [
    {
     "data": {
      "text/plain": [
       "'Arshad'"
      ]
     },
     "execution_count": 4,
     "metadata": {},
     "output_type": "execute_result"
    }
   ],
   "source": [
    "li[2]"
   ]
  },
  {
   "cell_type": "code",
   "execution_count": 5,
   "id": "f84edf80-0e1d-41e4-889a-843051399777",
   "metadata": {},
   "outputs": [
    {
     "data": {
      "text/plain": [
       "[2, 'Arshad', 3.4]"
      ]
     },
     "execution_count": 5,
     "metadata": {},
     "output_type": "execute_result"
    }
   ],
   "source": [
    "li[1:]"
   ]
  },
  {
   "cell_type": "code",
   "execution_count": 6,
   "id": "bf983e98-53d0-4227-a18c-167af351aa55",
   "metadata": {},
   "outputs": [
    {
     "data": {
      "text/plain": [
       "['Arshad', 3.4]"
      ]
     },
     "execution_count": 6,
     "metadata": {},
     "output_type": "execute_result"
    }
   ],
   "source": [
    "li[2:]"
   ]
  },
  {
   "cell_type": "code",
   "execution_count": 7,
   "id": "dc7e8325-8354-4d71-9381-ede3357ce1a9",
   "metadata": {},
   "outputs": [
    {
     "data": {
      "text/plain": [
       "[1, 2, 'Arshad', 3.4]"
      ]
     },
     "execution_count": 7,
     "metadata": {},
     "output_type": "execute_result"
    }
   ],
   "source": [
    "li[:]"
   ]
  },
  {
   "cell_type": "markdown",
   "id": "a741a09e-e68b-4fd0-8fc8-279d75b9b9f8",
   "metadata": {},
   "source": [
    "## Insert & Append in the List"
   ]
  },
  {
   "cell_type": "markdown",
   "id": "f4c5ed72-4faf-4deb-aa68-e11aed8e7754",
   "metadata": {},
   "source": [
    "### Insert"
   ]
  },
  {
   "cell_type": "code",
   "execution_count": null,
   "id": "951ac505-9a4e-45b4-88e4-fbf8e518599a",
   "metadata": {},
   "outputs": [],
   "source": [
    "# Insert function - insert element at particular index\n",
    "# If index is not present, it will automatically insert element to the last"
   ]
  },
  {
   "cell_type": "code",
   "execution_count": 23,
   "id": "9a590cb8-d1ef-4ea2-9ee4-1c2ff23f3592",
   "metadata": {},
   "outputs": [],
   "source": [
    "li.insert(4,\"Arshad\") # - we are inserting string Arshad at 4th index of the list"
   ]
  },
  {
   "cell_type": "markdown",
   "id": "1130a278-c46b-458b-9c44-1da68e13cb40",
   "metadata": {},
   "source": [
    "### Append"
   ]
  },
  {
   "cell_type": "code",
   "execution_count": 11,
   "id": "af49421e-4c93-4e74-b681-5ad546eeb775",
   "metadata": {},
   "outputs": [],
   "source": [
    "# we want to add multiple element to the list\n",
    "# we use append function - It will create a list object & it will add to the list\n",
    "# append - It automatically insert to the last\n",
    "\n"
   ]
  },
  {
   "cell_type": "code",
   "execution_count": 20,
   "id": "8d25db5b-8f0b-4f4c-9a4b-7cd57762a49a",
   "metadata": {},
   "outputs": [],
   "source": [
    "li.append([9,10,11])"
   ]
  },
  {
   "cell_type": "markdown",
   "id": "a327c511-a4a8-46fb-a1be-dc2e49430266",
   "metadata": {},
   "source": [
    "### Extend"
   ]
  },
  {
   "cell_type": "code",
   "execution_count": null,
   "id": "3fb018c2-73b0-4a67-8758-bedc9fcbe49a",
   "metadata": {},
   "outputs": [],
   "source": [
    "# extend - If we want to insert multiple element to the list"
   ]
  },
  {
   "cell_type": "code",
   "execution_count": 18,
   "id": "07421864-1aea-4854-9150-156c12bfdf76",
   "metadata": {},
   "outputs": [],
   "source": [
    "li.extend([8,10,11])"
   ]
  },
  {
   "cell_type": "markdown",
   "id": "33a065d9-3576-4a3e-8598-522a1e1c3037",
   "metadata": {},
   "source": [
    "## Removing Elements from List"
   ]
  },
  {
   "cell_type": "markdown",
   "id": "794b4f43-21c7-4d86-99c9-6a0b37822577",
   "metadata": {},
   "source": [
    "### Remove"
   ]
  },
  {
   "cell_type": "markdown",
   "id": "cb6b8dc0-d198-40ca-be70-20235d6043bc",
   "metadata": {},
   "source": [
    "remove() - If we want to remove particular element from the list\n",
    "If same element present multiple times - it will remove the element whose index comes first"
   ]
  },
  {
   "cell_type": "code",
   "execution_count": 27,
   "id": "d61be85d-55cc-4396-8621-1f8c603ea588",
   "metadata": {},
   "outputs": [
    {
     "data": {
      "text/plain": [
       "[1,\n",
       " 2,\n",
       " 'Arshad',\n",
       " 3.4,\n",
       " 'Arshad',\n",
       " 'Siddique',\n",
       " [9, 10, 11],\n",
       " 10,\n",
       " 11,\n",
       " 12,\n",
       " 10,\n",
       " 11,\n",
       " 12,\n",
       " 8,\n",
       " 10,\n",
       " 11,\n",
       " 8,\n",
       " 10,\n",
       " 11,\n",
       " [9, 10, 11]]"
      ]
     },
     "execution_count": 27,
     "metadata": {},
     "output_type": "execute_result"
    }
   ],
   "source": [
    "li"
   ]
  },
  {
   "cell_type": "code",
   "execution_count": 28,
   "id": "8b9e2d70-0c2b-4844-8235-9458abb79d9d",
   "metadata": {},
   "outputs": [],
   "source": [
    "li.remove(\"Arshad\")"
   ]
  },
  {
   "cell_type": "code",
   "execution_count": 29,
   "id": "3e6341bf-1f96-48ad-aa0a-c45dcaa52e93",
   "metadata": {},
   "outputs": [
    {
     "data": {
      "text/plain": [
       "[1,\n",
       " 2,\n",
       " 3.4,\n",
       " 'Arshad',\n",
       " 'Siddique',\n",
       " [9, 10, 11],\n",
       " 10,\n",
       " 11,\n",
       " 12,\n",
       " 10,\n",
       " 11,\n",
       " 12,\n",
       " 8,\n",
       " 10,\n",
       " 11,\n",
       " 8,\n",
       " 10,\n",
       " 11,\n",
       " [9, 10, 11]]"
      ]
     },
     "execution_count": 29,
     "metadata": {},
     "output_type": "execute_result"
    }
   ],
   "source": [
    "li"
   ]
  },
  {
   "cell_type": "markdown",
   "id": "dde7be51-ea0c-4c81-9867-12807bf33050",
   "metadata": {},
   "source": [
    "### POP"
   ]
  },
  {
   "cell_type": "raw",
   "id": "af3ee043-f8dc-47a9-8357-51b90aa4d873",
   "metadata": {},
   "source": [
    "It will remove element from the list\n",
    "If we want to remove element from the particular index - pop()\n",
    "It returns the element from that particular index\n",
    "By default - It will remove element from the last"
   ]
  },
  {
   "cell_type": "code",
   "execution_count": 30,
   "id": "67da1483-8614-405e-8266-544c4ce13edf",
   "metadata": {},
   "outputs": [
    {
     "data": {
      "text/plain": [
       "[9, 10, 11]"
      ]
     },
     "execution_count": 30,
     "metadata": {},
     "output_type": "execute_result"
    }
   ],
   "source": [
    "li.pop(5)"
   ]
  },
  {
   "cell_type": "code",
   "execution_count": 33,
   "id": "e30659de-df4d-4abd-939d-cb4dc0c12a4a",
   "metadata": {},
   "outputs": [
    {
     "data": {
      "text/plain": [
       "10"
      ]
     },
     "execution_count": 33,
     "metadata": {},
     "output_type": "execute_result"
    }
   ],
   "source": [
    "li.pop(8)"
   ]
  },
  {
   "cell_type": "code",
   "execution_count": 34,
   "id": "f67f320d-5f94-49ce-9805-110782c12cc6",
   "metadata": {},
   "outputs": [
    {
     "data": {
      "text/plain": [
       "8"
      ]
     },
     "execution_count": 34,
     "metadata": {},
     "output_type": "execute_result"
    }
   ],
   "source": [
    "li.pop(10)"
   ]
  },
  {
   "cell_type": "markdown",
   "id": "eb0b35e9-4b62-4e1f-a0ef-44e96191433a",
   "metadata": {},
   "source": [
    "## Length of the list"
   ]
  },
  {
   "cell_type": "markdown",
   "id": "947c717b-38a5-4f79-a9ab-d340f518a983",
   "metadata": {},
   "source": [
    "### len"
   ]
  },
  {
   "cell_type": "markdown",
   "id": "4134ecc2-1dc6-468b-8416-89acdfd4cbda",
   "metadata": {},
   "source": [
    "It gives length of the string\n",
    "length - How many elements are present in the list"
   ]
  },
  {
   "cell_type": "code",
   "execution_count": 36,
   "id": "e2bb65d1-51da-44c6-8006-fd0596223e07",
   "metadata": {},
   "outputs": [
    {
     "data": {
      "text/plain": [
       "16"
      ]
     },
     "execution_count": 36,
     "metadata": {},
     "output_type": "execute_result"
    }
   ],
   "source": [
    "len(li)"
   ]
  },
  {
   "cell_type": "code",
   "execution_count": 37,
   "id": "9f908cfe-03ac-4275-b8ce-a92f45f1f9e3",
   "metadata": {},
   "outputs": [],
   "source": [
    "li = [5,6,7,8]"
   ]
  },
  {
   "cell_type": "code",
   "execution_count": 38,
   "id": "9b0f8b4a-c65d-4b5d-9d21-8a6ad8b949a6",
   "metadata": {},
   "outputs": [],
   "source": [
    "li.remove(5)"
   ]
  },
  {
   "cell_type": "code",
   "execution_count": 39,
   "id": "dd78a34b-65e6-4bcd-a999-78405f50970a",
   "metadata": {},
   "outputs": [
    {
     "data": {
      "text/plain": [
       "[6, 7, 8]"
      ]
     },
     "execution_count": 39,
     "metadata": {},
     "output_type": "execute_result"
    }
   ],
   "source": [
    "li\n"
   ]
  },
  {
   "cell_type": "code",
   "execution_count": 40,
   "id": "f695798b-2a69-4357-894d-8d1dea55fa20",
   "metadata": {},
   "outputs": [
    {
     "data": {
      "text/plain": [
       "6"
      ]
     },
     "execution_count": 40,
     "metadata": {},
     "output_type": "execute_result"
    }
   ],
   "source": [
    "li[0]"
   ]
  }
 ],
 "metadata": {
  "kernelspec": {
   "display_name": "Python 3 (ipykernel)",
   "language": "python",
   "name": "python3"
  },
  "language_info": {
   "codemirror_mode": {
    "name": "ipython",
    "version": 3
   },
   "file_extension": ".py",
   "mimetype": "text/x-python",
   "name": "python",
   "nbconvert_exporter": "python",
   "pygments_lexer": "ipython3",
   "version": "3.11.7"
  }
 },
 "nbformat": 4,
 "nbformat_minor": 5
}
