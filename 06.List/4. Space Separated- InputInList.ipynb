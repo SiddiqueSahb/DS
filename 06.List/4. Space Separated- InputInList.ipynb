{
 "cells": [
  {
   "cell_type": "markdown",
   "id": "421b7c6b-27af-4608-8a0d-deaa55e7ec77",
   "metadata": {},
   "source": [
    "### Space Separated Input"
   ]
  },
  {
   "cell_type": "code",
   "execution_count": 1,
   "id": "fe40009f-e7d3-4a45-910e-0bfcde2aa3d8",
   "metadata": {},
   "outputs": [
    {
     "name": "stdin",
     "output_type": "stream",
     "text": [
      " 6\n"
     ]
    }
   ],
   "source": [
    "n = int(input())"
   ]
  },
  {
   "cell_type": "code",
   "execution_count": 2,
   "id": "76475c0c-39f2-4350-a531-d8d0b34336d8",
   "metadata": {},
   "outputs": [
    {
     "data": {
      "text/plain": [
       "6"
      ]
     },
     "execution_count": 2,
     "metadata": {},
     "output_type": "execute_result"
    }
   ],
   "source": [
    "n"
   ]
  },
  {
   "cell_type": "code",
   "execution_count": 5,
   "id": "cccf3052-8b94-494f-971e-504c2d3b631d",
   "metadata": {},
   "outputs": [
    {
     "name": "stdin",
     "output_type": "stream",
     "text": [
      " 1 2 3 4 5\n"
     ]
    }
   ],
   "source": [
    "str = input()\n",
    "# Python automatically converts the input into a string\n",
    "# It will give you a space separated string \n",
    "# we want each integer into a list"
   ]
  },
  {
   "cell_type": "code",
   "execution_count": 6,
   "id": "c256cf0d-03d1-4416-ad4b-efed6e291879",
   "metadata": {},
   "outputs": [
    {
     "data": {
      "text/plain": [
       "'1 2 3 4 5'"
      ]
     },
     "execution_count": 6,
     "metadata": {},
     "output_type": "execute_result"
    }
   ],
   "source": [
    "str"
   ]
  },
  {
   "cell_type": "code",
   "execution_count": null,
   "id": "3c99f056-3a31-44f7-b329-7754f60cf1e0",
   "metadata": {},
   "outputs": [],
   "source": [
    "# We want to convert this space separated string into a list"
   ]
  },
  {
   "cell_type": "code",
   "execution_count": 7,
   "id": "bbe672f2-a849-4fbb-8c38-b5b067c05746",
   "metadata": {},
   "outputs": [],
   "source": [
    "li = []"
   ]
  },
  {
   "cell_type": "code",
   "execution_count": 8,
   "id": "32e7d46b-7897-449e-9f66-befd003a7988",
   "metadata": {},
   "outputs": [],
   "source": [
    "str_split = str.split(' ')\n",
    "# It will automatically split this string on the basis of space\n",
    "# split function works on the basis of delimiter"
   ]
  },
  {
   "cell_type": "code",
   "execution_count": 9,
   "id": "e5d00ebe-f39b-436d-ad4f-1ac17212d945",
   "metadata": {},
   "outputs": [
    {
     "data": {
      "text/plain": [
       "['1', '2', '3', '4', '5']"
      ]
     },
     "execution_count": 9,
     "metadata": {},
     "output_type": "execute_result"
    }
   ],
   "source": [
    "str_split"
   ]
  },
  {
   "cell_type": "code",
   "execution_count": 11,
   "id": "bcc3fc7f-0e08-4e37-bfce-c26315e23695",
   "metadata": {},
   "outputs": [],
   "source": [
    "for ele in str_split:\n",
    "    li.append(int(ele))\n",
    "\n",
    "# we can go through each element in the list and append that element by converting it into the integer"
   ]
  },
  {
   "cell_type": "code",
   "execution_count": 12,
   "id": "fb32775a-b301-42a5-9071-ff4dc726ac0d",
   "metadata": {},
   "outputs": [
    {
     "data": {
      "text/plain": [
       "[1, 2, 3, 4, 5]"
      ]
     },
     "execution_count": 12,
     "metadata": {},
     "output_type": "execute_result"
    }
   ],
   "source": [
    "li"
   ]
  },
  {
   "cell_type": "markdown",
   "id": "31550fe6-0992-4306-a753-02e2656c95d9",
   "metadata": {},
   "source": [
    "### In one line"
   ]
  },
  {
   "cell_type": "code",
   "execution_count": 13,
   "id": "1ce0b0fe-e550-4b6c-b9ce-fad21c737eb3",
   "metadata": {},
   "outputs": [
    {
     "name": "stdin",
     "output_type": "stream",
     "text": [
      " 1 2 3 4 5\n"
     ]
    }
   ],
   "source": [
    "li = [ int(x) for x in input().split()]"
   ]
  },
  {
   "cell_type": "code",
   "execution_count": 14,
   "id": "62f25b7a-c15d-4bb1-836c-e81dc9bbc822",
   "metadata": {},
   "outputs": [
    {
     "data": {
      "text/plain": [
       "[1, 2, 3, 4, 5]"
      ]
     },
     "execution_count": 14,
     "metadata": {},
     "output_type": "execute_result"
    }
   ],
   "source": [
    "li"
   ]
  },
  {
   "cell_type": "code",
   "execution_count": null,
   "id": "b21102e4-422e-47ae-bd10-fb3775d02945",
   "metadata": {},
   "outputs": [],
   "source": [
    "# We can do this in one line\n",
    "# We want list li = []\n",
    "# We will take space separated input li = [input()]\n",
    "# We will split that input using split function li = [input().split()]\n",
    "# We want to go through each element of the list li = [ for x in input().split() ]\n",
    "# Now, whatever x comes , convert that into the integer and add that element into the list li = [ int(x) for x in input().split()]"
   ]
  },
  {
   "cell_type": "code",
   "execution_count": 15,
   "id": "183fa84a-7b3b-475d-9787-4bc6e40be381",
   "metadata": {},
   "outputs": [
    {
     "name": "stdout",
     "output_type": "stream",
     "text": [
      "1\n",
      "2\n",
      "3\n",
      "4\n",
      "5\n"
     ]
    }
   ],
   "source": [
    "for ele in li:\n",
    "    print(ele)"
   ]
  }
 ],
 "metadata": {
  "kernelspec": {
   "display_name": "Python 3 (ipykernel)",
   "language": "python",
   "name": "python3"
  },
  "language_info": {
   "codemirror_mode": {
    "name": "ipython",
    "version": 3
   },
   "file_extension": ".py",
   "mimetype": "text/x-python",
   "name": "python",
   "nbconvert_exporter": "python",
   "pygments_lexer": "ipython3",
   "version": "3.11.7"
  }
 },
 "nbformat": 4,
 "nbformat_minor": 5
}
