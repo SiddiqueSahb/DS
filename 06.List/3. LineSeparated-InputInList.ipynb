{
 "cells": [
  {
   "cell_type": "markdown",
   "id": "4144927e-d413-44d3-a03f-66a1a18acc99",
   "metadata": {},
   "source": [
    "### Line Separated Input"
   ]
  },
  {
   "cell_type": "markdown",
   "id": "58018c3f-a1c7-4c53-90ee-a7dce32f306f",
   "metadata": {},
   "source": [
    "1] How many elements will be there in a list \n",
    "\n",
    "2] Then you will give each element of the list that will be line separated\n",
    "\n",
    "Line separated means -\n",
    "\n",
    "5 - \n",
    "no of elements you want in the list\n",
    "\n",
    "2\n",
    "\n",
    "3\n",
    "\n",
    "4\n",
    "\n",
    "5\n",
    "\n",
    "6"
   ]
  },
  {
   "cell_type": "code",
   "execution_count": null,
   "id": "003fb08a-acbe-4199-9c20-3477ee6c9f44",
   "metadata": {},
   "outputs": [],
   "source": [
    " n = input()"
   ]
  },
  {
   "cell_type": "code",
   "execution_count": 3,
   "id": "366f0a78-fea4-4d4e-b10b-35ee592556b0",
   "metadata": {},
   "outputs": [
    {
     "name": "stdin",
     "output_type": "stream",
     "text": [
      " 5\n"
     ]
    }
   ],
   "source": [
    "n = int(input())"
   ]
  },
  {
   "cell_type": "code",
   "execution_count": 4,
   "id": "7858afcd-7328-410d-aa66-4ba5949b7a4a",
   "metadata": {},
   "outputs": [
    {
     "data": {
      "text/plain": [
       "5"
      ]
     },
     "execution_count": 4,
     "metadata": {},
     "output_type": "execute_result"
    }
   ],
   "source": [
    "n"
   ]
  },
  {
   "cell_type": "code",
   "execution_count": 5,
   "id": "20af1e48-3b0f-42a5-adc6-3051c264e62d",
   "metadata": {},
   "outputs": [
    {
     "name": "stdin",
     "output_type": "stream",
     "text": [
      " 2\n",
      " 3\n",
      " 4\n",
      " 5\n",
      " 6\n"
     ]
    }
   ],
   "source": [
    "li = []\n",
    "for i in range(n):\n",
    "    curr = int(input())\n",
    "    li.append(curr)\n",
    "\n",
    "# Taking input & converting it into the int type\n",
    "# We are appending that int into the list"
   ]
  },
  {
   "cell_type": "code",
   "execution_count": 6,
   "id": "f4d2c917-1218-4937-bb69-0dfccb28e3c7",
   "metadata": {},
   "outputs": [
    {
     "data": {
      "text/plain": [
       "[2, 3, 4, 5, 6]"
      ]
     },
     "execution_count": 6,
     "metadata": {},
     "output_type": "execute_result"
    }
   ],
   "source": [
    "li"
   ]
  }
 ],
 "metadata": {
  "kernelspec": {
   "display_name": "Python 3 (ipykernel)",
   "language": "python",
   "name": "python3"
  },
  "language_info": {
   "codemirror_mode": {
    "name": "ipython",
    "version": 3
   },
   "file_extension": ".py",
   "mimetype": "text/x-python",
   "name": "python",
   "nbconvert_exporter": "python",
   "pygments_lexer": "ipython3",
   "version": "3.11.7"
  }
 },
 "nbformat": 4,
 "nbformat_minor": 5
}
