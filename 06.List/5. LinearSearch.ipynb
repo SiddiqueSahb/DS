{
 "cells": [
  {
   "cell_type": "markdown",
   "id": "70e5f2d5-428a-4cb5-a3ee-9c18b2efb6ee",
   "metadata": {},
   "source": [
    "## Linear Search"
   ]
  },
  {
   "cell_type": "code",
   "execution_count": 1,
   "id": "89547139-d7d1-4a63-83f9-f17fc8c227c2",
   "metadata": {},
   "outputs": [
    {
     "name": "stdin",
     "output_type": "stream",
     "text": [
      " 6\n"
     ]
    }
   ],
   "source": [
    "n = int(input())"
   ]
  },
  {
   "cell_type": "code",
   "execution_count": 2,
   "id": "08337c41-e901-4012-832d-d4e8ddab2648",
   "metadata": {},
   "outputs": [
    {
     "data": {
      "text/plain": [
       "6"
      ]
     },
     "execution_count": 2,
     "metadata": {},
     "output_type": "execute_result"
    }
   ],
   "source": [
    "n"
   ]
  },
  {
   "cell_type": "code",
   "execution_count": 3,
   "id": "64d5c9dc-b857-4781-a30e-e53905dfbc29",
   "metadata": {},
   "outputs": [
    {
     "name": "stdin",
     "output_type": "stream",
     "text": [
      " 2 4 8 6 10\n"
     ]
    }
   ],
   "source": [
    "li = [ int(x) for x in input().split() ]"
   ]
  },
  {
   "cell_type": "code",
   "execution_count": 4,
   "id": "9f82d325-4c89-48a2-b120-d88d1c316768",
   "metadata": {},
   "outputs": [
    {
     "data": {
      "text/plain": [
       "[2, 4, 8, 6, 10]"
      ]
     },
     "execution_count": 4,
     "metadata": {},
     "output_type": "execute_result"
    }
   ],
   "source": [
    "li"
   ]
  },
  {
   "cell_type": "code",
   "execution_count": 5,
   "id": "f9f159b5-d308-4754-80db-254319bf4058",
   "metadata": {},
   "outputs": [
    {
     "name": "stdin",
     "output_type": "stream",
     "text": [
      " 10\n"
     ]
    }
   ],
   "source": [
    "ele = int(input())"
   ]
  },
  {
   "cell_type": "code",
   "execution_count": 6,
   "id": "f0477aa6-fe7f-4ec5-ba54-2bd63a95d9a1",
   "metadata": {},
   "outputs": [
    {
     "data": {
      "text/plain": [
       "10"
      ]
     },
     "execution_count": 6,
     "metadata": {},
     "output_type": "execute_result"
    }
   ],
   "source": [
    "ele\n"
   ]
  },
  {
   "cell_type": "code",
   "execution_count": 1,
   "id": "1e89ff10-ab7f-45f9-b60e-63640a8ea499",
   "metadata": {},
   "outputs": [
    {
     "name": "stdin",
     "output_type": "stream",
     "text": [
      " 6\n"
     ]
    }
   ],
   "source": [
    "n = int(input())"
   ]
  },
  {
   "cell_type": "code",
   "execution_count": 2,
   "id": "eb5fd24a-c997-4b29-9034-570a2b1052ad",
   "metadata": {},
   "outputs": [
    {
     "name": "stdin",
     "output_type": "stream",
     "text": [
      " 2 4 7 9 10 13\n"
     ]
    }
   ],
   "source": [
    "li = [int(x) for x in input().split()]"
   ]
  },
  {
   "cell_type": "code",
   "execution_count": 3,
   "id": "53e0b335-3b36-420f-ab32-5463e9dcf342",
   "metadata": {},
   "outputs": [
    {
     "data": {
      "text/plain": [
       "[2, 4, 7, 9, 10, 13]"
      ]
     },
     "execution_count": 3,
     "metadata": {},
     "output_type": "execute_result"
    }
   ],
   "source": [
    "li"
   ]
  },
  {
   "cell_type": "code",
   "execution_count": 4,
   "id": "209aaa72-143f-496f-8300-db7ddb27c654",
   "metadata": {},
   "outputs": [
    {
     "name": "stdin",
     "output_type": "stream",
     "text": [
      " 7\n"
     ]
    }
   ],
   "source": [
    "ele = int(input())"
   ]
  },
  {
   "cell_type": "markdown",
   "id": "d6e87c9d-4fb3-4cce-a866-31ea9f001302",
   "metadata": {},
   "source": [
    "## Linear Search\n"
   ]
  },
  {
   "cell_type": "markdown",
   "id": "53435707-a0a9-4760-af9d-ff5df8572c9c",
   "metadata": {},
   "source": [
    "## https://www.youtube.com/watch?v=567332frcF0\n",
    "Linear search is the simplest searching algorithm that searches for an element in a list in sequential order.\n",
    "                                                               \n",
    "It is a sequential search algorithm where we start from one end and sequentially check each \n",
    "and every element of the list until the desired element is found or until all the element have been searched\n",
    "It is used to find target value within a list\n",
    "    \n",
    "It works on both sorted and unsorted list\n",
    "    \n",
    "T : O(n)"
   ]
  },
  {
   "cell_type": "markdown",
   "id": "8978b039-63cb-4726-9003-c288182d80ef",
   "metadata": {},
   "source": [
    "### Algorithm :"
   ]
  },
  {
   "cell_type": "markdown",
   "id": "28723203-9542-4910-8fc7-892864636390",
   "metadata": {},
   "source": [
    "1. Traverse the given list using a loop.\n",
    "2. In every iteration, compare the ​targetValue​ with the value of the element in\n",
    "the list in the current iteration.\n",
    "\n",
    "    ○ If the values match, print the current index of the list.\n",
    " \n",
    "    ○ If the values do not match, move on to the next list element.\n",
    "\n",
    "4. If no match is found, print -1."
   ]
  },
  {
   "cell_type": "code",
   "execution_count": null,
   "id": "57803857-9b72-4b1f-94a8-2d0356ac2e29",
   "metadata": {},
   "outputs": [],
   "source": [
    "for i in range(len(li)):\n",
    "    if(li[i]==ele):\n",
    "        print(i)\n",
    "        isFound = True\n",
    "        break\n",
    "if isFound is False:\n",
    "    print(-1)"
   ]
  }
 ],
 "metadata": {
  "kernelspec": {
   "display_name": "Python 3 (ipykernel)",
   "language": "python",
   "name": "python3"
  },
  "language_info": {
   "codemirror_mode": {
    "name": "ipython",
    "version": 3
   },
   "file_extension": ".py",
   "mimetype": "text/x-python",
   "name": "python",
   "nbconvert_exporter": "python",
   "pygments_lexer": "ipython3",
   "version": "3.11.7"
  }
 },
 "nbformat": 4,
 "nbformat_minor": 5
}
