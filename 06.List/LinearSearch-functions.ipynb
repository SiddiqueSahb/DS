{
 "cells": [
  {
   "cell_type": "code",
   "execution_count": 8,
   "id": "4b1c515d-4823-45fd-a4e9-686860402885",
   "metadata": {},
   "outputs": [
    {
     "name": "stdout",
     "output_type": "stream",
     "text": [
      "4\n"
     ]
    }
   ],
   "source": [
    "def linear_Search(li,x):\n",
    "    for i in range(len(li)):\n",
    "        if(li[i] == x):\n",
    "            return i\n",
    "    return -1\n",
    "\n",
    "li = [1,3,6,5,10]\n",
    "index = linear_Search(li,10)\n",
    "print(index)"
   ]
  }
 ],
 "metadata": {
  "kernelspec": {
   "display_name": "Python 3 (ipykernel)",
   "language": "python",
   "name": "python3"
  },
  "language_info": {
   "codemirror_mode": {
    "name": "ipython",
    "version": 3
   },
   "file_extension": ".py",
   "mimetype": "text/x-python",
   "name": "python",
   "nbconvert_exporter": "python",
   "pygments_lexer": "ipython3",
   "version": "3.11.7"
  }
 },
 "nbformat": 4,
 "nbformat_minor": 5
}
