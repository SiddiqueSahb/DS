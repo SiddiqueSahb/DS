{
 "cells": [
  {
   "cell_type": "markdown",
   "id": "a8cd6a88-fcc7-4490-8a98-1ed5041de2b7",
   "metadata": {},
   "source": [
    "### Break"
   ]
  },
  {
   "cell_type": "raw",
   "id": "db1b6efa-3386-481f-9fce-f876e9cf38e3",
   "metadata": {},
   "source": [
    "It is used to terminate the loop"
   ]
  },
  {
   "cell_type": "code",
   "execution_count": 1,
   "id": "02c0fa55-e859-40f8-b056-34b76ced652d",
   "metadata": {},
   "outputs": [
    {
     "name": "stdout",
     "output_type": "stream",
     "text": [
      "1\n",
      "2\n",
      "3\n",
      "4\n"
     ]
    }
   ],
   "source": [
    "\n",
    "i=1\n",
    "while i<10:\n",
    "    if i==5:\n",
    "        break\n",
    "    print(i)\n",
    "    i=i+1\n",
    "    \n",
    "    "
   ]
  },
  {
   "cell_type": "code",
   "execution_count": 6,
   "id": "e247706f-87ff-49eb-80ea-ff3ffa823149",
   "metadata": {},
   "outputs": [
    {
     "name": "stdin",
     "output_type": "stream",
     "text": [
      " 5\n"
     ]
    },
    {
     "name": "stdout",
     "output_type": "stream",
     "text": [
      "prime\n"
     ]
    }
   ],
   "source": [
    "n=int(input())\n",
    "i = 2\n",
    "flag=False\n",
    "while i < n:\n",
    "   if n % i == 0:\n",
    "    flag = True\n",
    "    break\n",
    "   i=i+1\n",
    "if flag:\n",
    "    print(\"not prime\")\n",
    "else:\n",
    "    print(\"prime\")"
   ]
  }
 ],
 "metadata": {
  "kernelspec": {
   "display_name": "Python 3 (ipykernel)",
   "language": "python",
   "name": "python3"
  },
  "language_info": {
   "codemirror_mode": {
    "name": "ipython",
    "version": 3
   },
   "file_extension": ".py",
   "mimetype": "text/x-python",
   "name": "python",
   "nbconvert_exporter": "python",
   "pygments_lexer": "ipython3",
   "version": "3.11.7"
  }
 },
 "nbformat": 4,
 "nbformat_minor": 5
}
