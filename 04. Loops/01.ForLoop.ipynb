{
 "cells": [
  {
   "cell_type": "markdown",
   "id": "8954559e-d7eb-4078-9ec2-e7f102e43f6d",
   "metadata": {},
   "source": [
    "ForLoop\n",
    "It is used to do something repeatedly.\n",
    "\n",
    "Syntax:\n",
    "for i in x:\n",
    "\n",
    "x is a sequence i.e collection of multiple things\n",
    "eg \n",
    "string - sequence / collection of characters \n",
    "s = \"abcdefgh\"\n",
    "\n",
    "for i in x:\n",
    "In this sequence, I want to go through each of these characters one by one\n",
    "Basically, we loop through all the element of the sequence\n",
    "x - sequence\n",
    "i - one element of that sequence\n",
    "\n",
    "range() -> It takes three arguments\n",
    "range(start, stop, stride)\n",
    "start - Where should I start from\n",
    "n - Where should I stop\n",
    "step - How do you want to reach from 0 to n\n",
    "\n",
    "Read -> range(0,n,1)\n",
    "Start from 0, go till n & increment by 1\n",
    "Note -> It doesn't go till n, It just stop before the stop i. n-1\n"
   ]
  },
  {
   "cell_type": "code",
   "execution_count": 1,
   "id": "120386b0-58f9-41fa-b05e-4936e06eddee",
   "metadata": {},
   "outputs": [
    {
     "name": "stdout",
     "output_type": "stream",
     "text": [
      "a\n",
      "b\n",
      "c\n",
      "d\n"
     ]
    }
   ],
   "source": [
    "s = \"abcd\"\n",
    "for c in s:\n",
    "    print(c)"
   ]
  },
  {
   "cell_type": "code",
   "execution_count": 3,
   "id": "7b38dbd4-281b-4fe8-8042-d681b995276c",
   "metadata": {},
   "outputs": [
    {
     "name": "stdin",
     "output_type": "stream",
     "text": [
      " 5\n"
     ]
    },
    {
     "name": "stdout",
     "output_type": "stream",
     "text": [
      "1\n",
      "2\n",
      "3\n",
      "4\n",
      "5\n"
     ]
    }
   ],
   "source": [
    "# Print num from 1 to n\n",
    "n = int(input())\n",
    "for i in range(1,n+1,1):\n",
    "    print(i)\n"
   ]
  },
  {
   "cell_type": "code",
   "execution_count": 5,
   "id": "a3090f3b-edf4-49d0-8a01-816cf8e9cf66",
   "metadata": {},
   "outputs": [
    {
     "name": "stdin",
     "output_type": "stream",
     "text": [
      " 5\n"
     ]
    },
    {
     "name": "stdout",
     "output_type": "stream",
     "text": [
      "0\n",
      "1\n",
      "2\n",
      "3\n",
      "4\n",
      "5\n"
     ]
    }
   ],
   "source": [
    "# If you give only one value to range, it will use it as stop\n",
    "# By default, start is 0 and step/stride is 1 ( increment by 1 ) \n",
    "\n",
    "n = int(input())\n",
    "for i in range(n+1):\n",
    "    print(i)"
   ]
  },
  {
   "cell_type": "code",
   "execution_count": null,
   "id": "dd854825-772a-4367-b323-4165d16be5b1",
   "metadata": {},
   "outputs": [],
   "source": [
    "# If you give only two value to range, it uses the first argument as start and second argument as stop\n",
    "# and step is by default 1 \n",
    "\n",
    "n = int(input())\n",
    "for i in range(1,n+1):\n",
    "    print(i)"
   ]
  },
  {
   "cell_type": "code",
   "execution_count": 6,
   "id": "b60d3e5f-a9b4-4ed7-b203-7c62bc8c2681",
   "metadata": {},
   "outputs": [
    {
     "name": "stdin",
     "output_type": "stream",
     "text": [
      " 5\n"
     ]
    },
    {
     "name": "stdout",
     "output_type": "stream",
     "text": [
      "5\n",
      "4\n",
      "3\n",
      "2\n",
      "1\n"
     ]
    }
   ],
   "source": [
    "# Print num from n to 1\n",
    "n = int(input())\n",
    "for i in range(n,0,-1):\n",
    "    print(i)\n",
    "\n",
    "\n",
    "# Go one step ahead to stop just before the stop.\n",
    "# Think about timeline"
   ]
  }
 ],
 "metadata": {
  "kernelspec": {
   "display_name": "Python 3 (ipykernel)",
   "language": "python",
   "name": "python3"
  },
  "language_info": {
   "codemirror_mode": {
    "name": "ipython",
    "version": 3
   },
   "file_extension": ".py",
   "mimetype": "text/x-python",
   "name": "python",
   "nbconvert_exporter": "python",
   "pygments_lexer": "ipython3",
   "version": "3.11.7"
  }
 },
 "nbformat": 4,
 "nbformat_minor": 5
}
