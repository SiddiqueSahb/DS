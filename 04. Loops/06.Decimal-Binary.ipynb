{
 "cells": [
  {
   "cell_type": "markdown",
   "id": "395594ec-8518-4b50-9e54-9bef0bf39d47",
   "metadata": {},
   "source": [
    "### Decimal to Binary"
   ]
  },
  {
   "cell_type": "code",
   "execution_count": 3,
   "id": "d3094b9a-ca3a-4530-bc34-ffd9939a008e",
   "metadata": {},
   "outputs": [
    {
     "name": "stdin",
     "output_type": "stream",
     "text": [
      " 10\n"
     ]
    },
    {
     "name": "stdout",
     "output_type": "stream",
     "text": [
      "1010\n"
     ]
    }
   ],
   "source": [
    "num=int(input())\n",
    "bin = 0\n",
    "place = 1 \n",
    "while num!=0:\n",
    "    rem = num % 2\n",
    "    num = num // 2\n",
    "    bin = bin + rem * place\n",
    "    place = place * 10\n",
    "print(bin)\n",
    "    "
   ]
  }
 ],
 "metadata": {
  "kernelspec": {
   "display_name": "Python 3 (ipykernel)",
   "language": "python",
   "name": "python3"
  },
  "language_info": {
   "codemirror_mode": {
    "name": "ipython",
    "version": 3
   },
   "file_extension": ".py",
   "mimetype": "text/x-python",
   "name": "python",
   "nbconvert_exporter": "python",
   "pygments_lexer": "ipython3",
   "version": "3.11.7"
  }
 },
 "nbformat": 4,
 "nbformat_minor": 5
}
