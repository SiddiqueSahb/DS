{
 "cells": [
  {
   "cell_type": "markdown",
   "id": "ac0737ae-e408-49a1-afbf-707d746028cf",
   "metadata": {},
   "source": [
    "### Binary to Decimal"
   ]
  },
  {
   "cell_type": "code",
   "execution_count": 4,
   "id": "40684663-52d4-4f84-9a82-81b44674ac8e",
   "metadata": {},
   "outputs": [
    {
     "name": "stdin",
     "output_type": "stream",
     "text": [
      " 110\n"
     ]
    },
    {
     "name": "stdout",
     "output_type": "stream",
     "text": [
      "6\n"
     ]
    }
   ],
   "source": [
    "num = int(input())\n",
    "dec = 0\n",
    "i = 0\n",
    "while num != 0:\n",
    "    rem = num % 10\n",
    "    num = num // 10\n",
    "    dec = dec + rem * pow(2,i)\n",
    "    i+=1\n",
    "print(dec)\n",
    "\n"
   ]
  },
  {
   "cell_type": "code",
   "execution_count": null,
   "id": "c4068833-387d-4194-91ee-384629c80920",
   "metadata": {},
   "outputs": [],
   "source": []
  }
 ],
 "metadata": {
  "kernelspec": {
   "display_name": "Python 3 (ipykernel)",
   "language": "python",
   "name": "python3"
  },
  "language_info": {
   "codemirror_mode": {
    "name": "ipython",
    "version": 3
   },
   "file_extension": ".py",
   "mimetype": "text/x-python",
   "name": "python",
   "nbconvert_exporter": "python",
   "pygments_lexer": "ipython3",
   "version": "3.11.7"
  }
 },
 "nbformat": 4,
 "nbformat_minor": 5
}
