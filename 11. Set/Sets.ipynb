{
 "cells": [
  {
   "cell_type": "markdown",
   "id": "5f86daca-b586-4f23-99da-3bcf40ecdfe1",
   "metadata": {},
   "source": [
    "## SET"
   ]
  },
  {
   "cell_type": "markdown",
   "id": "f2787e40-2b0d-4876-99db-d05542950577",
   "metadata": {},
   "source": [
    "SET\n",
    "\n",
    "-  Unordered collection of unique items ( unordered means - there is no index )\n",
    "-  Each element in the set must be unique & immutable ( we cannot change , we cannot modify )\n",
    "-  We cannot store list and dictionary in set bcz they are mutable\n",
    "-  Set ignores the duplicate item\n",
    "-  set -> mutable\n",
    "-  set items -> immutable"
   ]
  },
  {
   "cell_type": "markdown",
   "id": "2ddb2faa-bcc3-47ff-8bce-428de6c0bf29",
   "metadata": {},
   "source": [
    "### How to create set"
   ]
  },
  {
   "cell_type": "markdown",
   "id": "eb0abefd-11ac-4c32-86bc-ca6e9172a0dc",
   "metadata": {},
   "source": [
    "Syntax \n",
    "set_name = {item1,item2,item3}"
   ]
  },
  {
   "cell_type": "code",
   "execution_count": 40,
   "id": "a2f83f57-3143-4390-89c0-08b3fd38c02c",
   "metadata": {},
   "outputs": [],
   "source": [
    "collection = {1,2,3,9.0,\"abc\",(1,2,3)}"
   ]
  },
  {
   "cell_type": "code",
   "execution_count": 36,
   "id": "9ef6a116-f282-4400-8b99-7af240022178",
   "metadata": {},
   "outputs": [
    {
     "data": {
      "text/plain": [
       "{(1, 2, 3), 1, 2, 3, 9.0, 'abc'}"
      ]
     },
     "execution_count": 36,
     "metadata": {},
     "output_type": "execute_result"
    }
   ],
   "source": [
    "collection"
   ]
  },
  {
   "cell_type": "markdown",
   "id": "f0313998-4298-4d86-90eb-9403c09c59b4",
   "metadata": {},
   "source": [
    "### Accessing items in set using for loop"
   ]
  },
  {
   "cell_type": "markdown",
   "id": "442a7055-abb9-4108-9aba-e11af53ae82b",
   "metadata": {},
   "source": [
    "Since sets are unordered, \n",
    "you cannot access elements by index. \n",
    "However, you can iterate over the set to access each element."
   ]
  },
  {
   "cell_type": "code",
   "execution_count": null,
   "id": "ee01eb85-193c-433c-986a-936a0c587d30",
   "metadata": {},
   "outputs": [],
   "source": [
    "collection"
   ]
  },
  {
   "cell_type": "code",
   "execution_count": 42,
   "id": "f6d9bcdf-c5a9-4afe-af2a-ae2d635d8779",
   "metadata": {},
   "outputs": [
    {
     "name": "stdout",
     "output_type": "stream",
     "text": [
      "1\n",
      "2\n",
      "3\n",
      "abc\n",
      "9.0\n",
      "(1, 2, 3)\n"
     ]
    }
   ],
   "source": [
    "for item in collection:\n",
    "    print(item)"
   ]
  },
  {
   "cell_type": "markdown",
   "id": "8892526c-0013-41b2-91db-2b2b6e7f6cbd",
   "metadata": {},
   "source": [
    "### Empty set"
   ]
  },
  {
   "cell_type": "markdown",
   "id": "e010124f-e395-4d0c-99da-02dff524abc9",
   "metadata": {},
   "source": [
    "Syntax -\n",
    "set_name = set()"
   ]
  },
  {
   "cell_type": "code",
   "execution_count": 37,
   "id": "6e5747cf-1f82-4fd9-b357-60b8e18d6848",
   "metadata": {},
   "outputs": [],
   "source": [
    "collection = set()"
   ]
  },
  {
   "cell_type": "code",
   "execution_count": 38,
   "id": "9db3f554-1580-4d75-be95-a042bf2c19b5",
   "metadata": {},
   "outputs": [
    {
     "data": {
      "text/plain": [
       "set()"
      ]
     },
     "execution_count": 38,
     "metadata": {},
     "output_type": "execute_result"
    }
   ],
   "source": [
    "collection"
   ]
  },
  {
   "cell_type": "markdown",
   "id": "76ab917b-9ef7-4043-bb48-2c54d8117089",
   "metadata": {},
   "source": [
    "## Set Method"
   ]
  },
  {
   "cell_type": "code",
   "execution_count": 29,
   "id": "585fdf85-1138-4419-b301-13b1b5e6b955",
   "metadata": {},
   "outputs": [],
   "source": [
    "collection = set()"
   ]
  },
  {
   "cell_type": "code",
   "execution_count": 30,
   "id": "df8ef385-8766-48ab-8f65-e97f2e72bd8a",
   "metadata": {},
   "outputs": [
    {
     "data": {
      "text/plain": [
       "set()"
      ]
     },
     "execution_count": 30,
     "metadata": {},
     "output_type": "execute_result"
    }
   ],
   "source": [
    "collection"
   ]
  },
  {
   "cell_type": "markdown",
   "id": "1ebaaf29-93af-48b6-bd23-152e3a9e3873",
   "metadata": {},
   "source": [
    "### add"
   ]
  },
  {
   "cell_type": "markdown",
   "id": "0990bd80-1cbe-4c3c-8047-08e8aef9ccab",
   "metadata": {},
   "source": [
    "It is used to add an element in the set"
   ]
  },
  {
   "cell_type": "code",
   "execution_count": 31,
   "id": "7002f6b5-90e3-485a-bdc2-3b25d263c931",
   "metadata": {},
   "outputs": [],
   "source": [
    "collection.add(1)"
   ]
  },
  {
   "cell_type": "code",
   "execution_count": 32,
   "id": "ab3e56d5-296d-4a64-9a74-987f616b2b6c",
   "metadata": {},
   "outputs": [],
   "source": [
    "collection.add(2)"
   ]
  },
  {
   "cell_type": "code",
   "execution_count": 33,
   "id": "a0376981-cd51-4e35-8d55-2b0b8f2d578a",
   "metadata": {},
   "outputs": [],
   "source": [
    "collection.add(3)"
   ]
  },
  {
   "cell_type": "code",
   "execution_count": 8,
   "id": "7bf57e19-d4f4-4164-93b3-5d40497b6527",
   "metadata": {},
   "outputs": [],
   "source": [
    "collection.add(\"abc\")"
   ]
  },
  {
   "cell_type": "code",
   "execution_count": 9,
   "id": "0f88a607-fd13-4382-8364-b5ba556230b5",
   "metadata": {},
   "outputs": [],
   "source": [
    "collection.add((1,2,3))"
   ]
  },
  {
   "cell_type": "code",
   "execution_count": 10,
   "id": "62693d4e-7c3a-41b3-af93-88570bfc63c4",
   "metadata": {},
   "outputs": [
    {
     "data": {
      "text/plain": [
       "{(1, 2, 3), 1, 2, 3, 'abc'}"
      ]
     },
     "execution_count": 10,
     "metadata": {},
     "output_type": "execute_result"
    }
   ],
   "source": [
    "collection"
   ]
  },
  {
   "cell_type": "markdown",
   "id": "5f944099-649a-4611-b075-ac07c7c29825",
   "metadata": {},
   "source": [
    "### remove"
   ]
  },
  {
   "cell_type": "markdown",
   "id": "ec3ff9de-4532-46ea-bb89-83a6778184f9",
   "metadata": {},
   "source": [
    "It is used to remove an element from the set"
   ]
  },
  {
   "cell_type": "code",
   "execution_count": 11,
   "id": "ed0e9a18-1458-4735-8c67-12179acf3945",
   "metadata": {},
   "outputs": [],
   "source": [
    "collection.remove(\"abc\")"
   ]
  },
  {
   "cell_type": "code",
   "execution_count": 12,
   "id": "311cc09b-8655-4492-ab4e-487dbd234dce",
   "metadata": {},
   "outputs": [
    {
     "data": {
      "text/plain": [
       "{(1, 2, 3), 1, 2, 3}"
      ]
     },
     "execution_count": 12,
     "metadata": {},
     "output_type": "execute_result"
    }
   ],
   "source": [
    "collection"
   ]
  },
  {
   "cell_type": "markdown",
   "id": "a53327d3-dd3a-4231-abe3-40bfd653f660",
   "metadata": {},
   "source": [
    "### pop"
   ]
  },
  {
   "cell_type": "markdown",
   "id": "aa4813a5-88f8-4e06-b163-0b16ae738dd5",
   "metadata": {},
   "source": [
    "It is used to remove a random value from the set"
   ]
  },
  {
   "cell_type": "code",
   "execution_count": 14,
   "id": "00313c7a-df89-435a-b113-3001ce828579",
   "metadata": {},
   "outputs": [
    {
     "data": {
      "text/plain": [
       "1"
      ]
     },
     "execution_count": 14,
     "metadata": {},
     "output_type": "execute_result"
    }
   ],
   "source": [
    "collection.pop()"
   ]
  },
  {
   "cell_type": "code",
   "execution_count": 15,
   "id": "45368b33-69bd-4391-8d22-6db49e7b0a16",
   "metadata": {},
   "outputs": [
    {
     "data": {
      "text/plain": [
       "2"
      ]
     },
     "execution_count": 15,
     "metadata": {},
     "output_type": "execute_result"
    }
   ],
   "source": [
    "collection.pop()"
   ]
  },
  {
   "cell_type": "code",
   "execution_count": 16,
   "id": "9626e115-6dc1-4999-a95a-1ab22efcadd1",
   "metadata": {},
   "outputs": [
    {
     "data": {
      "text/plain": [
       "{(1, 2, 3), 3}"
      ]
     },
     "execution_count": 16,
     "metadata": {},
     "output_type": "execute_result"
    }
   ],
   "source": [
    "collection"
   ]
  },
  {
   "cell_type": "markdown",
   "id": "3a825d2b-4d62-4bfe-8f69-617193fe715b",
   "metadata": {},
   "source": [
    "### clear"
   ]
  },
  {
   "cell_type": "markdown",
   "id": "d4b6c20a-1bdd-4d08-b214-0a7bd00f4ce6",
   "metadata": {},
   "source": [
    "It empties the set"
   ]
  },
  {
   "cell_type": "code",
   "execution_count": 17,
   "id": "58d2ecf8-2dd1-40df-9b3a-346c59678b9e",
   "metadata": {},
   "outputs": [
    {
     "data": {
      "text/plain": [
       "{(1, 2, 3), 3}"
      ]
     },
     "execution_count": 17,
     "metadata": {},
     "output_type": "execute_result"
    }
   ],
   "source": [
    "collection"
   ]
  },
  {
   "cell_type": "code",
   "execution_count": 18,
   "id": "3699a038-14e1-48a1-823c-542c78de472e",
   "metadata": {},
   "outputs": [],
   "source": [
    "collection.clear()"
   ]
  },
  {
   "cell_type": "code",
   "execution_count": 19,
   "id": "7b34b972-428f-4ebc-aa20-f4dd0fd3c0b8",
   "metadata": {},
   "outputs": [
    {
     "data": {
      "text/plain": [
       "set()"
      ]
     },
     "execution_count": 19,
     "metadata": {},
     "output_type": "execute_result"
    }
   ],
   "source": [
    "collection"
   ]
  },
  {
   "cell_type": "markdown",
   "id": "d1f79aee-0a2c-4f6d-b28d-f877c75a40bf",
   "metadata": {},
   "source": [
    "### union"
   ]
  },
  {
   "cell_type": "markdown",
   "id": "8ae86907-7ca2-47ae-b98e-0d1842939aae",
   "metadata": {},
   "source": [
    "It combine both set values and returns a new set"
   ]
  },
  {
   "cell_type": "code",
   "execution_count": 20,
   "id": "71682671-6a80-4c90-ac6c-ce82540c6fc9",
   "metadata": {},
   "outputs": [],
   "source": [
    "set1 = {1,2,3,4,5}"
   ]
  },
  {
   "cell_type": "code",
   "execution_count": 23,
   "id": "ab7daef6-eabe-4278-ad5f-d477703ab03b",
   "metadata": {},
   "outputs": [],
   "source": [
    "set2 = {1,3,5,7}"
   ]
  },
  {
   "cell_type": "code",
   "execution_count": 24,
   "id": "a4cb5354-ceb2-40f8-a063-ee384bb9f0ad",
   "metadata": {},
   "outputs": [
    {
     "data": {
      "text/plain": [
       "{1, 2, 3, 4, 5, 7}"
      ]
     },
     "execution_count": 24,
     "metadata": {},
     "output_type": "execute_result"
    }
   ],
   "source": [
    "set1.union(set2)"
   ]
  },
  {
   "cell_type": "markdown",
   "id": "aa20cec2-eb05-4287-950e-317131243d44",
   "metadata": {},
   "source": [
    "### intersection"
   ]
  },
  {
   "cell_type": "markdown",
   "id": "c13619f4-e669-46b8-af32-f96a22536d77",
   "metadata": {},
   "source": [
    "It combine common values and returns a new set"
   ]
  },
  {
   "cell_type": "code",
   "execution_count": 25,
   "id": "38f58284-5711-493c-8422-db7980666a4d",
   "metadata": {},
   "outputs": [],
   "source": [
    "set1 = {1,2,3,4,5}"
   ]
  },
  {
   "cell_type": "code",
   "execution_count": 26,
   "id": "578b6e46-41ef-4297-9b2c-555e78328286",
   "metadata": {},
   "outputs": [],
   "source": [
    "set2 = {1,3,5,7}"
   ]
  },
  {
   "cell_type": "code",
   "execution_count": 27,
   "id": "45fdec8d-3043-475b-ba3a-52a0afe0af78",
   "metadata": {},
   "outputs": [
    {
     "data": {
      "text/plain": [
       "{1, 3, 5}"
      ]
     },
     "execution_count": 27,
     "metadata": {},
     "output_type": "execute_result"
    }
   ],
   "source": [
    "set1.intersection(set2)"
   ]
  }
 ],
 "metadata": {
  "kernelspec": {
   "display_name": "Python 3 (ipykernel)",
   "language": "python",
   "name": "python3"
  },
  "language_info": {
   "codemirror_mode": {
    "name": "ipython",
    "version": 3
   },
   "file_extension": ".py",
   "mimetype": "text/x-python",
   "name": "python",
   "nbconvert_exporter": "python",
   "pygments_lexer": "ipython3",
   "version": "3.11.7"
  }
 },
 "nbformat": 4,
 "nbformat_minor": 5
}
