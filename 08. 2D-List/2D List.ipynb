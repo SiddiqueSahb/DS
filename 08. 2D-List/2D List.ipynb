{
 "cells": [
  {
   "cell_type": "markdown",
   "id": "8c061b7f-b3eb-495f-bb84-752b1b1f4623",
   "metadata": {},
   "source": [
    "### Creating a 2D List"
   ]
  },
  {
   "cell_type": "code",
   "execution_count": 5,
   "id": "4bfac6c1-50d2-4f60-bfd8-a3f71c3e8bab",
   "metadata": {},
   "outputs": [],
   "source": [
    "li = [[1,2,3,4],[6,7,8,9],[11,12,13,14],[16,17,18,19]]"
   ]
  },
  {
   "cell_type": "code",
   "execution_count": 6,
   "id": "a81a92b1-8747-4b00-bcf9-4c89320199c7",
   "metadata": {},
   "outputs": [
    {
     "data": {
      "text/plain": [
       "[[1, 2, 3, 4], [6, 7, 8, 9], [11, 12, 13, 14], [16, 17, 18, 19]]"
      ]
     },
     "execution_count": 6,
     "metadata": {},
     "output_type": "execute_result"
    }
   ],
   "source": [
    "li"
   ]
  },
  {
   "cell_type": "markdown",
   "id": "7f7f27b2-488c-4f7c-bf02-5443ebe8cd54",
   "metadata": {},
   "source": [
    "### Accessing 2D List"
   ]
  },
  {
   "cell_type": "code",
   "execution_count": 10,
   "id": "4ec23cc7-d253-4421-a15f-9a9bb0f39086",
   "metadata": {},
   "outputs": [
    {
     "data": {
      "text/plain": [
       "3"
      ]
     },
     "execution_count": 10,
     "metadata": {},
     "output_type": "execute_result"
    }
   ],
   "source": [
    "li[0][2]      \n",
    "# we are trying to access an element of a list within a list\n",
    "# we are trying to access third element of a first sublist"
   ]
  },
  {
   "cell_type": "markdown",
   "id": "38823955-d41e-464a-81cd-4f014452a1d5",
   "metadata": {},
   "source": [
    "### Modifying 2D List"
   ]
  },
  {
   "cell_type": "code",
   "execution_count": 11,
   "id": "2544d694-8911-4671-a1af-a08b17eef12b",
   "metadata": {},
   "outputs": [],
   "source": [
    "li[0][2] = 144\n",
    "# We are assigning a new value to the list"
   ]
  }
 ],
 "metadata": {
  "kernelspec": {
   "display_name": "Python 3 (ipykernel)",
   "language": "python",
   "name": "python3"
  },
  "language_info": {
   "codemirror_mode": {
    "name": "ipython",
    "version": 3
   },
   "file_extension": ".py",
   "mimetype": "text/x-python",
   "name": "python",
   "nbconvert_exporter": "python",
   "pygments_lexer": "ipython3",
   "version": "3.11.7"
  }
 },
 "nbformat": 4,
 "nbformat_minor": 5
}
