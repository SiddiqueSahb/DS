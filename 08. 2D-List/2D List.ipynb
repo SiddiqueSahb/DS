{
 "cells": [
  {
   "cell_type": "markdown",
   "id": "8c061b7f-b3eb-495f-bb84-752b1b1f4623",
   "metadata": {},
   "source": [
    "### Creating a 2D List"
   ]
  },
  {
   "cell_type": "code",
   "execution_count": 5,
   "id": "4bfac6c1-50d2-4f60-bfd8-a3f71c3e8bab",
   "metadata": {},
   "outputs": [],
   "source": [
    "li = [[1,2,3,4],[6,7,8,9],[11,12,13,14],[16,17,18,19]]"
   ]
  },
  {
   "cell_type": "markdown",
   "id": "7f7f27b2-488c-4f7c-bf02-5443ebe8cd54",
   "metadata": {},
   "source": [
    "### Accessing 2D List"
   ]
  },
  {
   "cell_type": "code",
   "execution_count": 10,
   "id": "4ec23cc7-d253-4421-a15f-9a9bb0f39086",
   "metadata": {},
   "outputs": [
    {
     "data": {
      "text/plain": [
       "3"
      ]
     },
     "execution_count": 10,
     "metadata": {},
     "output_type": "execute_result"
    }
   ],
   "source": [
    "li[0][2]      \n",
    "# we are trying to access an element of a list within a list\n",
    "# we are trying to access third element of a first sublist"
   ]
  },
  {
   "cell_type": "markdown",
   "id": "38823955-d41e-464a-81cd-4f014452a1d5",
   "metadata": {},
   "source": [
    "### Modifying 2D List"
   ]
  },
  {
   "cell_type": "code",
   "execution_count": 11,
   "id": "2544d694-8911-4671-a1af-a08b17eef12b",
   "metadata": {},
   "outputs": [],
   "source": [
    "li[0][2] = 144\n",
    "# We are assigning a new value to the list"
   ]
  },
  {
   "cell_type": "markdown",
   "id": "623b4adf-272f-4379-9504-92af56f09f2c",
   "metadata": {},
   "source": [
    "## Iterating on 2D List"
   ]
  },
  {
   "cell_type": "code",
   "execution_count": 27,
   "id": "427b3987-8d74-4520-a563-c59235051916",
   "metadata": {},
   "outputs": [],
   "source": [
    "li = [ [1,2,3,4], [5,6,7,8], [9,10,11,12] ]\n"
   ]
  },
  {
   "cell_type": "code",
   "execution_count": 28,
   "id": "aa789e06-bad1-4ced-8e72-323b61210c45",
   "metadata": {},
   "outputs": [],
   "source": [
    "n = 3\n",
    "m = 4"
   ]
  },
  {
   "cell_type": "code",
   "execution_count": 31,
   "id": "aa4cef11-f535-48a6-8a63-34547acb9969",
   "metadata": {},
   "outputs": [
    {
     "name": "stdout",
     "output_type": "stream",
     "text": [
      "1 2 3 4 \n",
      "5 6 7 8 \n",
      "9 10 11 12 \n"
     ]
    }
   ],
   "source": [
    "for i in range(3):\n",
    "    for j in range(m):\n",
    "        print(li[i][j],end=' ')\n",
    "    print()"
   ]
  },
  {
   "cell_type": "markdown",
   "id": "71ce1e24-cabf-48b6-bbba-ec7b8d41ff24",
   "metadata": {},
   "source": [
    "## Example 1"
   ]
  },
  {
   "cell_type": "code",
   "execution_count": 35,
   "id": "4360ad52-1200-42c9-b4ea-66c971bf9752",
   "metadata": {},
   "outputs": [],
   "source": [
    "li = [ [1,2,3,4], [5,6], [9,10,11] ]"
   ]
  },
  {
   "cell_type": "code",
   "execution_count": 33,
   "id": "ac316552-b1d2-475e-85f4-dae548a8a8a6",
   "metadata": {},
   "outputs": [],
   "source": [
    "n = 3"
   ]
  },
  {
   "cell_type": "code",
   "execution_count": 34,
   "id": "adc8216e-6344-4ced-a144-696593a74c60",
   "metadata": {},
   "outputs": [
    {
     "name": "stdout",
     "output_type": "stream",
     "text": [
      "1 2 3 4 \n",
      "5 6 \n",
      "9 10 11 \n"
     ]
    }
   ],
   "source": [
    "for row in li:\n",
    "    for ele in row:\n",
    "        print(ele, end=' ')\n",
    "    print()"
   ]
  },
  {
   "cell_type": "markdown",
   "id": "447f0c0b-2059-4bd3-9645-02c980582aaf",
   "metadata": {},
   "source": [
    "## Example 2"
   ]
  },
  {
   "cell_type": "code",
   "execution_count": 2,
   "id": "b37f790e-2849-482a-a355-9e4faeb96ea3",
   "metadata": {},
   "outputs": [],
   "source": [
    "region_list = [\n",
    "    [\"US\", \"CANADA\"],\n",
    "    [\"INDIA\", \"CHINA\"],\n",
    "    [\"UK\", \"GERMANY\"]\n",
    "]"
   ]
  },
  {
   "cell_type": "markdown",
   "id": "62a01193-9a18-4845-9a67-b1ea5c975c9a",
   "metadata": {},
   "source": [
    "#### Access - US"
   ]
  },
  {
   "cell_type": "code",
   "execution_count": 3,
   "id": "4e12a4ae-8df5-4abb-b90f-f45dfd5b08d4",
   "metadata": {},
   "outputs": [
    {
     "name": "stdout",
     "output_type": "stream",
     "text": [
      "US\n"
     ]
    }
   ],
   "source": [
    "print(region_list[0][0])"
   ]
  },
  {
   "cell_type": "markdown",
   "id": "7013d431-e742-448e-9ac5-335c32c922b2",
   "metadata": {},
   "source": [
    "#### Access - CANADA"
   ]
  },
  {
   "cell_type": "code",
   "execution_count": 4,
   "id": "17164a3f-d8d1-4f90-bd6a-3f91125e0988",
   "metadata": {},
   "outputs": [
    {
     "name": "stdout",
     "output_type": "stream",
     "text": [
      "CANADA\n"
     ]
    }
   ],
   "source": [
    "print(region_list[0][1])"
   ]
  },
  {
   "cell_type": "markdown",
   "id": "fb98133d-c943-4f6c-ab40-a1da3e1f2d09",
   "metadata": {},
   "source": [
    "#### Access - UK"
   ]
  },
  {
   "cell_type": "code",
   "execution_count": 5,
   "id": "146c93d1-914b-48f9-be99-3822f57faf7a",
   "metadata": {},
   "outputs": [
    {
     "name": "stdout",
     "output_type": "stream",
     "text": [
      "UK\n"
     ]
    }
   ],
   "source": [
    "print(region_list[2][0])"
   ]
  },
  {
   "cell_type": "markdown",
   "id": "f0f79d1d-e9f3-46d7-a747-4fd36feb2b29",
   "metadata": {},
   "source": [
    "### Region"
   ]
  },
  {
   "cell_type": "code",
   "execution_count": 6,
   "id": "5966fc86-3ae8-4637-8237-f3a0e37a15cd",
   "metadata": {},
   "outputs": [
    {
     "name": "stdout",
     "output_type": "stream",
     "text": [
      "['US', 'CANADA']\n",
      "['INDIA', 'CHINA']\n",
      "['UK', 'GERMANY']\n"
     ]
    }
   ],
   "source": [
    "for region in region_list:\n",
    "    print(region)"
   ]
  },
  {
   "cell_type": "code",
   "execution_count": 8,
   "id": "b9236438-3a8a-4fdb-ab79-65d7a8d3f83e",
   "metadata": {},
   "outputs": [
    {
     "name": "stdout",
     "output_type": "stream",
     "text": [
      "US\n",
      "CANADA\n",
      "INDIA\n",
      "CHINA\n",
      "UK\n",
      "GERMANY\n"
     ]
    }
   ],
   "source": [
    "for region in region_list:\n",
    "    for country in region:\n",
    "        print(country)"
   ]
  },
  {
   "cell_type": "markdown",
   "id": "7944fd8c-6d07-4b14-86cf-3f2ee7e12ad8",
   "metadata": {},
   "source": [
    "https://www.youtube.com/watch?v=-XzeZhFvEmk"
   ]
  },
  {
   "cell_type": "markdown",
   "id": "c49782ad-a01d-4624-af67-da8e5567d076",
   "metadata": {},
   "source": [
    "## Example 3"
   ]
  },
  {
   "cell_type": "code",
   "execution_count": 9,
   "id": "bf1b643b-3b89-42d1-b299-3cf3a3cbcf26",
   "metadata": {},
   "outputs": [],
   "source": [
    "fruits =      [\"Apple\", \"Orange\", \"Banana\"]\n",
    "vegetables =  [\"carrot\", \"potato\", \"tomato\"]\n",
    "meats =       [\"chicken\", \"fish\", \"turkey\"]"
   ]
  },
  {
   "cell_type": "code",
   "execution_count": 11,
   "id": "a182628c-ba5c-4317-a45a-9317ce898833",
   "metadata": {},
   "outputs": [
    {
     "name": "stdout",
     "output_type": "stream",
     "text": [
      "['Apple', 'Orange', 'Banana']\n"
     ]
    }
   ],
   "source": [
    "print(fruits)"
   ]
  },
  {
   "cell_type": "code",
   "execution_count": 12,
   "id": "b2e7c6a8-ba8d-4b6a-aa85-17fd6e774788",
   "metadata": {},
   "outputs": [
    {
     "name": "stdout",
     "output_type": "stream",
     "text": [
      "['carrot', 'potato', 'tomato']\n"
     ]
    }
   ],
   "source": [
    "print(vegetables)"
   ]
  },
  {
   "cell_type": "code",
   "execution_count": 13,
   "id": "4b2979c9-1486-4972-9d09-f1196fb2fcda",
   "metadata": {},
   "outputs": [
    {
     "name": "stdout",
     "output_type": "stream",
     "text": [
      "['chicken', 'fish', 'turkey']\n"
     ]
    }
   ],
   "source": [
    "print(meats)"
   ]
  },
  {
   "cell_type": "code",
   "execution_count": 16,
   "id": "22b5e237-21a0-4e8f-bbbc-1ade5fbb4355",
   "metadata": {},
   "outputs": [],
   "source": [
    "groceries = [fruits, vegetables, meats]"
   ]
  },
  {
   "cell_type": "code",
   "execution_count": 18,
   "id": "db80ebfc-d59f-48c5-a67a-05ac00879703",
   "metadata": {},
   "outputs": [
    {
     "name": "stdout",
     "output_type": "stream",
     "text": [
      "['Apple', 'Orange', 'Banana']\n"
     ]
    }
   ],
   "source": [
    "print(groceries[0])"
   ]
  },
  {
   "cell_type": "code",
   "execution_count": 19,
   "id": "db7ea3fb-4d9d-42f3-a269-ab620b886a9c",
   "metadata": {},
   "outputs": [
    {
     "name": "stdout",
     "output_type": "stream",
     "text": [
      "['carrot', 'potato', 'tomato']\n"
     ]
    }
   ],
   "source": [
    "print(groceries[1])"
   ]
  },
  {
   "cell_type": "code",
   "execution_count": 20,
   "id": "28d7b4a0-5a3f-4561-85f5-860635e43b93",
   "metadata": {},
   "outputs": [
    {
     "name": "stdout",
     "output_type": "stream",
     "text": [
      "['chicken', 'fish', 'turkey']\n"
     ]
    }
   ],
   "source": [
    "print(groceries[2])"
   ]
  },
  {
   "cell_type": "code",
   "execution_count": 21,
   "id": "9bd0d959-1288-4a77-812a-0fb8ec395b32",
   "metadata": {},
   "outputs": [
    {
     "name": "stdout",
     "output_type": "stream",
     "text": [
      "[['Apple', 'Orange', 'Banana'], ['carrot', 'potato', 'tomato'], ['chicken', 'fish', 'turkey']]\n"
     ]
    }
   ],
   "source": [
    "print(groceries)"
   ]
  },
  {
   "cell_type": "markdown",
   "id": "b4aeba18-5225-4336-bcdb-5c5576bf0195",
   "metadata": {},
   "source": [
    "#### Apple"
   ]
  },
  {
   "cell_type": "code",
   "execution_count": 22,
   "id": "71c5bdb4-9393-4393-b51f-9782d37be57f",
   "metadata": {},
   "outputs": [
    {
     "name": "stdout",
     "output_type": "stream",
     "text": [
      "Apple\n"
     ]
    }
   ],
   "source": [
    "print(groceries[0][0])"
   ]
  },
  {
   "cell_type": "markdown",
   "id": "801cd3c9-2448-460b-91e3-51b2c5cb1f49",
   "metadata": {},
   "source": [
    "                        #############################################################################"
   ]
  },
  {
   "cell_type": "code",
   "execution_count": null,
   "id": "07910caf-5ced-449c-8425-878f2d2a4842",
   "metadata": {},
   "outputs": [],
   "source": [
    "fruits =      [\"Apple\", \"Orange\", \"Banana\"]\n",
    "vegetables =  [\"carrot\", \"potato\", \"tomato\"]\n",
    "meats =       [\"chicken\", \"fish\", \"turkey\"]"
   ]
  },
  {
   "cell_type": "code",
   "execution_count": null,
   "id": "a54008ae-2bfd-442d-83cb-ac49244415ab",
   "metadata": {},
   "outputs": [],
   "source": [
    "groceries = [fruits, vegetables, meats]"
   ]
  },
  {
   "cell_type": "code",
   "execution_count": 23,
   "id": "08b016a0-bfa8-43a4-bac0-2eb093a6ae62",
   "metadata": {},
   "outputs": [],
   "source": [
    "groceries = [ [\"Apple\", \"Orange\", \"Banana\"],\n",
    "              [\"carrot\", \"potato\", \"tomato\"], \n",
    "              [\"chicken\", \"fish\", \"turkey\"] \n",
    "            ]"
   ]
  },
  {
   "cell_type": "code",
   "execution_count": 24,
   "id": "540ca399-d785-4423-9e0e-c57787cf301e",
   "metadata": {},
   "outputs": [
    {
     "name": "stdout",
     "output_type": "stream",
     "text": [
      "['Apple', 'Orange', 'Banana']\n",
      "['carrot', 'potato', 'tomato']\n",
      "['chicken', 'fish', 'turkey']\n"
     ]
    }
   ],
   "source": [
    "for collection in groceries:\n",
    "    print(collection)"
   ]
  },
  {
   "cell_type": "code",
   "execution_count": 26,
   "id": "c6c46c56-470a-4a04-b1a3-d3d832e803ef",
   "metadata": {},
   "outputs": [
    {
     "name": "stdout",
     "output_type": "stream",
     "text": [
      "Apple Orange Banana \n",
      "carrot potato tomato \n",
      "chicken fish turkey \n"
     ]
    }
   ],
   "source": [
    "for collection in groceries:\n",
    "    for food in collection:\n",
    "        print(food, end=\" \")\n",
    "    print()"
   ]
  },
  {
   "cell_type": "markdown",
   "id": "3991289b-fa83-432b-8ba6-08f8b499579b",
   "metadata": {},
   "source": [
    "https://www.youtube.com/watch?v=Xy6qeQWQwFw"
   ]
  }
 ],
 "metadata": {
  "kernelspec": {
   "display_name": "Python 3 (ipykernel)",
   "language": "python",
   "name": "python3"
  },
  "language_info": {
   "codemirror_mode": {
    "name": "ipython",
    "version": 3
   },
   "file_extension": ".py",
   "mimetype": "text/x-python",
   "name": "python",
   "nbconvert_exporter": "python",
   "pygments_lexer": "ipython3",
   "version": "3.11.7"
  }
 },
 "nbformat": 4,
 "nbformat_minor": 5
}
