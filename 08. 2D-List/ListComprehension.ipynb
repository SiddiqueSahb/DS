{
 "cells": [
  {
   "cell_type": "markdown",
   "id": "08a368ad-490f-4a5f-a684-b92a388e4cf2",
   "metadata": {},
   "source": [
    "## List Comprehension"
   ]
  },
  {
   "cell_type": "code",
   "execution_count": null,
   "id": "2f90fe7c-1d8e-4c0f-9bb2-f9a1bcb559f6",
   "metadata": {},
   "outputs": [],
   "source": [
    "https://www.youtube.com/watch?v=uhvljGKWges\n",
    "https://www.youtube.com/watch?v=-_L0SHhFMC4"
   ]
  },
  {
   "cell_type": "markdown",
   "id": "95cdc7e9-7187-432e-8382-710de6cbcba2",
   "metadata": {},
   "source": [
    "List comprehension -\n",
    "It is  a way to create a new list from the existing list in a concise way\n",
    "\n",
    "Syntax : \n",
    "list = [ expression for item in iterable  if condition ==  true ]\n",
    "\n",
    "expression: operation or transformation that you want to perform on each item in the iterable.\n",
    "    \n",
    "iterable : collection of item over which you want to iterate. It can be list , tuple or any  other iterable\n",
    "\n",
    "condition: It allows you to filter items in the iterable based on a certain condition\n"
   ]
  },
  {
   "cell_type": "markdown",
   "id": "64f2b8a3-e7af-4b12-b10f-d08a21450fa5",
   "metadata": {},
   "source": [
    "### Example 1"
   ]
  },
  {
   "cell_type": "code",
   "execution_count": 1,
   "id": "377f91d8-0e2c-460c-a82d-48621df66cf1",
   "metadata": {},
   "outputs": [
    {
     "name": "stdout",
     "output_type": "stream",
     "text": [
      "[1, 4, 9, 16, 25]\n"
     ]
    }
   ],
   "source": [
    "li = [1,2,3,4,5]\n",
    "li_new = []\n",
    "for ele in li:\n",
    "    li_new.append(ele**2)\n",
    "print(li_new)"
   ]
  },
  {
   "cell_type": "code",
   "execution_count": 3,
   "id": "ec37d913-ddd8-4838-a21c-fff66bc698df",
   "metadata": {},
   "outputs": [
    {
     "name": "stdout",
     "output_type": "stream",
     "text": [
      "[1, 4, 9, 16, 25]\n"
     ]
    }
   ],
   "source": [
    "li_new = [ele**2 for ele in li]\n",
    "print(li_new)"
   ]
  },
  {
   "cell_type": "markdown",
   "id": "fb9bd9c8-55cd-4bca-9861-6562088b7541",
   "metadata": {},
   "source": [
    "### Example 2"
   ]
  },
  {
   "cell_type": "code",
   "execution_count": 8,
   "id": "345714c4-57ba-4ec5-a928-1593c205e659",
   "metadata": {},
   "outputs": [],
   "source": [
    "li_even_square = []\n",
    "for ele in li:\n",
    "    if ele%2 == 0:\n",
    "        li_even_square.append(ele**2)"
   ]
  },
  {
   "cell_type": "code",
   "execution_count": 9,
   "id": "8cb80025-c903-4627-bbef-7bb6cd7b20e4",
   "metadata": {},
   "outputs": [
    {
     "name": "stdout",
     "output_type": "stream",
     "text": [
      "[4, 16]\n"
     ]
    }
   ],
   "source": [
    "print(li_even_square)"
   ]
  },
  {
   "cell_type": "code",
   "execution_count": 6,
   "id": "5b5854a6-85be-4071-b979-822a6fffce51",
   "metadata": {},
   "outputs": [],
   "source": [
    "li_even_square = [ele**2 for ele in li  if ele%2 == 0]"
   ]
  },
  {
   "cell_type": "code",
   "execution_count": 7,
   "id": "70178086-832d-40dd-96ec-895a32ab57fd",
   "metadata": {},
   "outputs": [
    {
     "data": {
      "text/plain": [
       "[4, 16]"
      ]
     },
     "execution_count": 7,
     "metadata": {},
     "output_type": "execute_result"
    }
   ],
   "source": [
    "li_even_square"
   ]
  },
  {
   "cell_type": "markdown",
   "id": "38a8a974-efd2-48da-ba7f-7873f080b829",
   "metadata": {},
   "source": [
    "### Example 3"
   ]
  },
  {
   "cell_type": "code",
   "execution_count": 10,
   "id": "d4fd143d-2010-48cd-a3ba-f973b435a27f",
   "metadata": {},
   "outputs": [
    {
     "name": "stdout",
     "output_type": "stream",
     "text": [
      "['P', 'y', 't', 'h', 'o', 'n']\n"
     ]
    }
   ],
   "source": [
    "list = []\n",
    "for character in \"Python\":\n",
    "    list.append(character)\n",
    "print(list)"
   ]
  },
  {
   "cell_type": "code",
   "execution_count": 11,
   "id": "180b6a3a-96ec-4ac8-9d2d-79945ed30501",
   "metadata": {},
   "outputs": [],
   "source": [
    "list = [character for character in \"Python\" ]"
   ]
  },
  {
   "cell_type": "code",
   "execution_count": 12,
   "id": "7e9cfa8f-811b-4dd9-858f-97a0596de4cd",
   "metadata": {},
   "outputs": [
    {
     "data": {
      "text/plain": [
       "['P', 'y', 't', 'h', 'o', 'n']"
      ]
     },
     "execution_count": 12,
     "metadata": {},
     "output_type": "execute_result"
    }
   ],
   "source": [
    "list"
   ]
  }
 ],
 "metadata": {
  "kernelspec": {
   "display_name": "Python 3 (ipykernel)",
   "language": "python",
   "name": "python3"
  },
  "language_info": {
   "codemirror_mode": {
    "name": "ipython",
    "version": 3
   },
   "file_extension": ".py",
   "mimetype": "text/x-python",
   "name": "python",
   "nbconvert_exporter": "python",
   "pygments_lexer": "ipython3",
   "version": "3.11.7"
  }
 },
 "nbformat": 4,
 "nbformat_minor": 5
}
