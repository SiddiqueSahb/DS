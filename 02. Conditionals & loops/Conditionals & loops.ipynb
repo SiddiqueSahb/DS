{
 "cells": [
  {
   "cell_type": "markdown",
   "id": "0e26f03a-6db0-43c3-83f6-326cef833247",
   "metadata": {},
   "source": [
    "### Print 1 to N\n"
   ]
  },
  {
   "cell_type": "code",
   "execution_count": 3,
   "id": "7c3e7ac8-5977-47b1-8ffa-0567b412e98f",
   "metadata": {},
   "outputs": [
    {
     "name": "stdin",
     "output_type": "stream",
     "text": [
      " 5\n"
     ]
    },
    {
     "name": "stdout",
     "output_type": "stream",
     "text": [
      "1\n",
      "2\n",
      "3\n",
      "4\n",
      "5\n"
     ]
    }
   ],
   "source": [
    "n = int(input())\n",
    "i = 1\n",
    "while(i <= n):\n",
    "    print(i)\n",
    "    i = i + 1"
   ]
  },
  {
   "cell_type": "markdown",
   "id": "89dccfc1-054d-4816-9701-a5ed8bbceb5a",
   "metadata": {},
   "source": [
    "### Sum of All numbers from 1 to N\n"
   ]
  },
  {
   "cell_type": "code",
   "execution_count": 1,
   "id": "4347ab8c-6d48-4a13-9fa7-bac51e6e6f05",
   "metadata": {},
   "outputs": [
    {
     "name": "stdin",
     "output_type": "stream",
     "text": [
      " 5\n"
     ]
    },
    {
     "name": "stdout",
     "output_type": "stream",
     "text": [
      "15\n"
     ]
    }
   ],
   "source": [
    "\n",
    "sum = 0\n",
    "i = 1\n",
    "n = int(input())\n",
    "while  i <= n:\n",
    "    sum = sum + i\n",
    "    i=i+1\n",
    "print(sum)"
   ]
  },
  {
   "cell_type": "markdown",
   "id": "2cff62f8-e6b9-4b13-a86f-de92b88d1e0e",
   "metadata": {},
   "source": [
    "### Sum of All Even numbers\n"
   ]
  },
  {
   "cell_type": "code",
   "execution_count": 3,
   "id": "cb428db8-69d5-4023-9f2e-dc901247973e",
   "metadata": {},
   "outputs": [
    {
     "name": "stdin",
     "output_type": "stream",
     "text": [
      " 10\n"
     ]
    },
    {
     "name": "stdout",
     "output_type": "stream",
     "text": [
      "30\n"
     ]
    }
   ],
   "source": [
    "n = int(input())\n",
    "sum = 0\n",
    "i = 1\n",
    "while(i<=n):\n",
    "    if i%2 == 0:\n",
    "     sum = sum + i\n",
    "    i=i+1;\n",
    "print(sum)\n",
    "    "
   ]
  },
  {
   "cell_type": "markdown",
   "id": "f8f6a954-e197-48ca-9a65-dfa4e79d96c0",
   "metadata": {},
   "source": [
    "### Check whether the number is prime or not"
   ]
  },
  {
   "cell_type": "code",
   "execution_count": 6,
   "id": "64c55a9d-c82f-47af-a53a-283c977eaef6",
   "metadata": {},
   "outputs": [
    {
     "name": "stdin",
     "output_type": "stream",
     "text": [
      " 3\n"
     ]
    },
    {
     "name": "stdout",
     "output_type": "stream",
     "text": [
      "Prime\n"
     ]
    }
   ],
   "source": [
    "n = int(input())\n",
    "d = 2\n",
    "flag=False\n",
    "while(d < n):\n",
    "    if(n%d == 0):\n",
    "       flag = True\n",
    "    d = d+1\n",
    "if flag:\n",
    "    print(\"Not a prime\")\n",
    "else:\n",
    "    print(\"Prime\")"
   ]
  },
  {
   "cell_type": "markdown",
   "id": "3235f694-d6a4-47bf-a782-2e5f6d8e3227",
   "metadata": {},
   "source": [
    "### Print All Prime from 2 to N"
   ]
  },
  {
   "cell_type": "code",
   "execution_count": 11,
   "id": "27aa724a-6da7-4db1-8860-f2271df6d110",
   "metadata": {},
   "outputs": [
    {
     "name": "stdin",
     "output_type": "stream",
     "text": [
      " 9\n"
     ]
    },
    {
     "name": "stdout",
     "output_type": "stream",
     "text": [
      "2\n",
      "3\n",
      "5\n",
      "7\n"
     ]
    }
   ],
   "source": [
    "n = int(input())\n",
    "k = 2\n",
    "while(k <= n ):\n",
    " d = 2\n",
    " flag = False\n",
    " while(d < k):\n",
    "    if k%d == 0:\n",
    "        flag = True\n",
    "    d = d + 1\n",
    " if not(flag):\n",
    "   print(k)\n",
    " k = k + 1"
   ]
  }
 ],
 "metadata": {
  "kernelspec": {
   "display_name": "Python 3 (ipykernel)",
   "language": "python",
   "name": "python3"
  },
  "language_info": {
   "codemirror_mode": {
    "name": "ipython",
    "version": 3
   },
   "file_extension": ".py",
   "mimetype": "text/x-python",
   "name": "python",
   "nbconvert_exporter": "python",
   "pygments_lexer": "ipython3",
   "version": "3.11.7"
  }
 },
 "nbformat": 4,
 "nbformat_minor": 5
}
