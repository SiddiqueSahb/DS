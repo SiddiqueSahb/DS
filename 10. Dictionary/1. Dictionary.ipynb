{
 "cells": [
  {
   "cell_type": "markdown",
   "id": "9ca84bca-7993-46ed-947e-907575a3956b",
   "metadata": {},
   "source": [
    "### Syntax"
   ]
  },
  {
   "cell_type": "markdown",
   "id": "79c26d5f-6b62-408f-836c-3d17b364805f",
   "metadata": {},
   "source": [
    " It is a Collection of key-value pairs\n",
    "\n",
    "A Python dictionary is a collection of items, similar to lists and tuples\n",
    "\n",
    "\n",
    "However, unlike lists and tuples, each item in a dictionary is a key-value pair (consisting of a key and a value)."
   ]
  },
  {
   "cell_type": "markdown",
   "id": "be7e9dfa-2890-4fd4-b45f-674dd1cdd30c",
   "metadata": {},
   "source": [
    "\n",
    "dict_name = {key1 : value1, key2: value2, key3: value3}"
   ]
  },
  {
   "cell_type": "code",
   "execution_count": 1,
   "id": "546d7ab3-56ee-4031-a28f-c308591c2111",
   "metadata": {},
   "outputs": [],
   "source": [
    "cars = {'brand':'Audi', 'model':'q7'}"
   ]
  },
  {
   "cell_type": "code",
   "execution_count": 2,
   "id": "6c3cab49-27fe-43b8-abc7-f084fb64f8e5",
   "metadata": {},
   "outputs": [
    {
     "data": {
      "text/plain": [
       "{'brand': 'Audi', 'model': 'q7'}"
      ]
     },
     "execution_count": 2,
     "metadata": {},
     "output_type": "execute_result"
    }
   ],
   "source": [
    "cars"
   ]
  },
  {
   "cell_type": "markdown",
   "id": "fee5005f-3ca6-4e92-be4e-e547f6f0ccea",
   "metadata": {},
   "source": [
    "#### Dictionary cannot have two items with same key"
   ]
  },
  {
   "cell_type": "code",
   "execution_count": 3,
   "id": "82eb1fe8-5c82-439a-bc7a-d342c58675fb",
   "metadata": {},
   "outputs": [],
   "source": [
    "cars = {'brand':'Audi', 'model':'q7', 'model': 'q8'}"
   ]
  },
  {
   "cell_type": "code",
   "execution_count": 4,
   "id": "422953e8-f09d-44aa-9faa-0866f61982fb",
   "metadata": {},
   "outputs": [
    {
     "data": {
      "text/plain": [
       "{'brand': 'Audi', 'model': 'q8'}"
      ]
     },
     "execution_count": 4,
     "metadata": {},
     "output_type": "execute_result"
    }
   ],
   "source": [
    "cars"
   ]
  },
  {
   "cell_type": "markdown",
   "id": "58e3c042-a733-407f-a42f-172488ef4740",
   "metadata": {},
   "source": [
    "#### Dictionary are mutable"
   ]
  },
  {
   "cell_type": "code",
   "execution_count": 10,
   "id": "893334c5-65d4-418c-a8d2-6b4beea2936a",
   "metadata": {},
   "outputs": [],
   "source": [
    "cars['model'] = 'q10'\n",
    "# Here, we are trying to update the value\n",
    "# We can make changes to any value in dictionary"
   ]
  },
  {
   "cell_type": "code",
   "execution_count": 9,
   "id": "a8f54698-4409-406c-9a78-bc5fa1e04987",
   "metadata": {},
   "outputs": [
    {
     "data": {
      "text/plain": [
       "{'brand': 'Audi', 'model': 'q10'}"
      ]
     },
     "execution_count": 9,
     "metadata": {},
     "output_type": "execute_result"
    }
   ],
   "source": [
    "cars"
   ]
  },
  {
   "cell_type": "markdown",
   "id": "b674d941-1f4e-4ef2-8847-b75ee6c98065",
   "metadata": {},
   "source": [
    "#### Length of a Dictionary"
   ]
  },
  {
   "cell_type": "markdown",
   "id": "6af4e64d-75dc-42b8-9c1b-f4cc9c3c4d1c",
   "metadata": {},
   "source": [
    "Can be determined using the len() function\n",
    "\n",
    "Gives the count of key-value pairs of a dictionary"
   ]
  },
  {
   "cell_type": "code",
   "execution_count": 11,
   "id": "0750d5da-8b9e-4c05-a430-fb722e130621",
   "metadata": {},
   "outputs": [
    {
     "data": {
      "text/plain": [
       "2"
      ]
     },
     "execution_count": 11,
     "metadata": {},
     "output_type": "execute_result"
    }
   ],
   "source": [
    "len(cars)"
   ]
  },
  {
   "cell_type": "markdown",
   "id": "5b185a44-63f2-492b-9648-69207109dd92",
   "metadata": {},
   "source": [
    "#### dict() - Constructor"
   ]
  },
  {
   "cell_type": "markdown",
   "id": "fc8366bf-4ebf-41c1-b31c-85d8f9e90caf",
   "metadata": {},
   "source": [
    "It is an alternative way to create a dictionary"
   ]
  },
  {
   "cell_type": "code",
   "execution_count": 13,
   "id": "ddfb0d03-7974-42d4-8f4c-65fb9745aa9d",
   "metadata": {},
   "outputs": [],
   "source": [
    "car = dict(brand=\"Audi\", model=\"q7\")"
   ]
  },
  {
   "cell_type": "code",
   "execution_count": 14,
   "id": "b2b01a7a-130c-4d34-94ec-7ec47e84d698",
   "metadata": {},
   "outputs": [
    {
     "data": {
      "text/plain": [
       "{'brand': 'Audi', 'model': 'q7'}"
      ]
     },
     "execution_count": 14,
     "metadata": {},
     "output_type": "execute_result"
    }
   ],
   "source": [
    "car"
   ]
  }
 ],
 "metadata": {
  "kernelspec": {
   "display_name": "Python 3 (ipykernel)",
   "language": "python",
   "name": "python3"
  },
  "language_info": {
   "codemirror_mode": {
    "name": "ipython",
    "version": 3
   },
   "file_extension": ".py",
   "mimetype": "text/x-python",
   "name": "python",
   "nbconvert_exporter": "python",
   "pygments_lexer": "ipython3",
   "version": "3.11.7"
  }
 },
 "nbformat": 4,
 "nbformat_minor": 5
}
