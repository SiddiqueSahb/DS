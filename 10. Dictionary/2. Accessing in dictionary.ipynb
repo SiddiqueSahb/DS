{
 "cells": [
  {
   "cell_type": "markdown",
   "id": "21f5643b-6443-4811-b005-1476db13a4cf",
   "metadata": {},
   "source": [
    "# Accessing items in Dictionary"
   ]
  },
  {
   "cell_type": "code",
   "execution_count": 3,
   "id": "44479c71-3fee-492b-a39e-f9647094f7f7",
   "metadata": {},
   "outputs": [],
   "source": [
    "cars = {'brand' : 'Audi', 'model' : 'q7'}"
   ]
  },
  {
   "cell_type": "code",
   "execution_count": 4,
   "id": "743a44c8-6dde-488c-883d-e32de96f5c86",
   "metadata": {},
   "outputs": [
    {
     "data": {
      "text/plain": [
       "{'brand': 'Audi', 'model': 'q7'}"
      ]
     },
     "execution_count": 4,
     "metadata": {},
     "output_type": "execute_result"
    }
   ],
   "source": [
    "cars"
   ]
  },
  {
   "cell_type": "markdown",
   "id": "ac04714e-fc0e-4ebf-a93e-996f392f5015",
   "metadata": {},
   "source": [
    "### Accessing values using Key Name"
   ]
  },
  {
   "cell_type": "markdown",
   "id": "eafc79ce-a145-4a47-a07c-762781950b0d",
   "metadata": {},
   "source": [
    "Syntax -\n",
    "dict_name[key]"
   ]
  },
  {
   "cell_type": "code",
   "execution_count": 5,
   "id": "0e05bf3f-6aa8-43f9-9c16-5459e4336b5c",
   "metadata": {},
   "outputs": [
    {
     "data": {
      "text/plain": [
       "'Audi'"
      ]
     },
     "execution_count": 5,
     "metadata": {},
     "output_type": "execute_result"
    }
   ],
   "source": [
    "cars['brand']"
   ]
  },
  {
   "cell_type": "markdown",
   "id": "2fbbfac5-e1e1-4dc6-a5b1-5ecf634ec2df",
   "metadata": {},
   "source": [
    "### Accessing values using get method"
   ]
  },
  {
   "cell_type": "markdown",
   "id": "4d942519-6fdb-4995-a71c-8b2c1330765f",
   "metadata": {},
   "source": [
    "syntax - dict_name.get(key)"
   ]
  },
  {
   "cell_type": "code",
   "execution_count": 7,
   "id": "40240771-49c0-4426-9086-c56c4f1d0ba7",
   "metadata": {},
   "outputs": [
    {
     "data": {
      "text/plain": [
       "'Audi'"
      ]
     },
     "execution_count": 7,
     "metadata": {},
     "output_type": "execute_result"
    }
   ],
   "source": [
    "cars.get('brand')"
   ]
  },
  {
   "cell_type": "markdown",
   "id": "d597b88f-9f7f-4751-8a40-227471d8b97b",
   "metadata": {},
   "source": [
    "### Accessing values using values method"
   ]
  },
  {
   "cell_type": "markdown",
   "id": "0c870c05-e3b9-42fa-9019-9dc63237b63c",
   "metadata": {},
   "source": [
    "Returns a view object containing values as a list\n",
    "\n",
    "Syntax - \n",
    "dict_name.values()"
   ]
  },
  {
   "cell_type": "code",
   "execution_count": 14,
   "id": "3ddcce61-6a09-40b5-a0dc-42cb08a7c80a",
   "metadata": {},
   "outputs": [],
   "source": [
    "cars = {'brand' : 'Audi', 'model' : 'q7'}"
   ]
  },
  {
   "cell_type": "code",
   "execution_count": 19,
   "id": "7f250042-42ea-4f26-9437-865ca0343709",
   "metadata": {},
   "outputs": [],
   "source": [
    "car_values = cars.values()\n",
    "\n",
    "#cars.values() - returns a view object that is pointed by car_values variable"
   ]
  },
  {
   "cell_type": "code",
   "execution_count": 16,
   "id": "587a91d9-32d7-48d9-a469-75e6e735c4aa",
   "metadata": {},
   "outputs": [
    {
     "data": {
      "text/plain": [
       "dict_values(['Audi', 'q7'])"
      ]
     },
     "execution_count": 16,
     "metadata": {},
     "output_type": "execute_result"
    }
   ],
   "source": [
    "car_values"
   ]
  },
  {
   "cell_type": "code",
   "execution_count": 17,
   "id": "79cc4cf6-d85f-4c1b-8edf-bfed77083978",
   "metadata": {},
   "outputs": [],
   "source": [
    "cars['fuel type'] = 'diesel'"
   ]
  },
  {
   "cell_type": "code",
   "execution_count": 18,
   "id": "280c9f6f-bae0-4718-9b14-809a26901c51",
   "metadata": {},
   "outputs": [
    {
     "data": {
      "text/plain": [
       "dict_values(['Audi', 'q7', 'diesel'])"
      ]
     },
     "execution_count": 18,
     "metadata": {},
     "output_type": "execute_result"
    }
   ],
   "source": [
    "car_values"
   ]
  },
  {
   "cell_type": "markdown",
   "id": "478db0e0-6424-4606-be10-c0438e9d2454",
   "metadata": {},
   "source": [
    "### Accessing keys using keys() Method"
   ]
  },
  {
   "cell_type": "code",
   "execution_count": 8,
   "id": "aecb8ebc-b615-4a81-a724-66e8aaa2de57",
   "metadata": {},
   "outputs": [],
   "source": [
    "cars = {'brand' : 'Audi', 'model' : 'q7'}"
   ]
  },
  {
   "cell_type": "code",
   "execution_count": 10,
   "id": "34619376-f2fa-4a69-bbdf-bfa0275b35f7",
   "metadata": {},
   "outputs": [],
   "source": [
    "car_keys = cars.keys()"
   ]
  },
  {
   "cell_type": "code",
   "execution_count": 11,
   "id": "55d974b5-708a-4c91-9e89-090412863866",
   "metadata": {},
   "outputs": [
    {
     "data": {
      "text/plain": [
       "dict_keys(['brand', 'model'])"
      ]
     },
     "execution_count": 11,
     "metadata": {},
     "output_type": "execute_result"
    }
   ],
   "source": [
    "car_keys"
   ]
  },
  {
   "cell_type": "code",
   "execution_count": 13,
   "id": "85e2eaf4-12a2-452b-a97b-4186ef1cff4b",
   "metadata": {},
   "outputs": [],
   "source": [
    "cars['fuel type'] = 'Diesel'"
   ]
  },
  {
   "cell_type": "code",
   "execution_count": 14,
   "id": "f2e81861-dff5-4c09-aea8-4164181b2a28",
   "metadata": {},
   "outputs": [
    {
     "data": {
      "text/plain": [
       "dict_keys(['brand', 'model', 'fuel type'])"
      ]
     },
     "execution_count": 14,
     "metadata": {},
     "output_type": "execute_result"
    }
   ],
   "source": [
    "car_keys"
   ]
  },
  {
   "cell_type": "markdown",
   "id": "db537976-2672-495b-a308-c514ffc09aef",
   "metadata": {},
   "source": [
    "### Accessing items using items method"
   ]
  },
  {
   "cell_type": "markdown",
   "id": "b409b3df-cd30-4dfc-a2d4-261f44411e64",
   "metadata": {},
   "source": [
    "Returns a view object containing items as a list\n",
    "\n",
    "Syntax - \n",
    "dict_name.items()"
   ]
  },
  {
   "cell_type": "code",
   "execution_count": 20,
   "id": "ce777087-f7e8-4697-b521-f2cd07d82b22",
   "metadata": {},
   "outputs": [],
   "source": [
    "cars = {'brand' : 'Audi', 'model' : 'q7'}"
   ]
  },
  {
   "cell_type": "code",
   "execution_count": 21,
   "id": "21dfb489-0f38-4e2b-b247-e793507889d6",
   "metadata": {},
   "outputs": [],
   "source": [
    "car_items = cars.items()"
   ]
  },
  {
   "cell_type": "code",
   "execution_count": 22,
   "id": "7e9e7d54-40e0-4e89-9f95-991679ccbadf",
   "metadata": {},
   "outputs": [
    {
     "data": {
      "text/plain": [
       "dict_items([('brand', 'Audi'), ('model', 'q7')])"
      ]
     },
     "execution_count": 22,
     "metadata": {},
     "output_type": "execute_result"
    }
   ],
   "source": [
    "car_items"
   ]
  },
  {
   "cell_type": "code",
   "execution_count": 23,
   "id": "ec35626e-ddb9-44cb-8222-3f1e1a9aca42",
   "metadata": {},
   "outputs": [],
   "source": [
    "cars['fuel type'] = 'diesel'"
   ]
  },
  {
   "cell_type": "code",
   "execution_count": 24,
   "id": "f5b7e161-2abf-4931-8c7d-9e02d18c7a54",
   "metadata": {},
   "outputs": [
    {
     "data": {
      "text/plain": [
       "dict_items([('brand', 'Audi'), ('model', 'q7'), ('fuel type', 'diesel')])"
      ]
     },
     "execution_count": 24,
     "metadata": {},
     "output_type": "execute_result"
    }
   ],
   "source": [
    "car_items"
   ]
  },
  {
   "cell_type": "markdown",
   "id": "0ada0fe1-2ad2-43b3-a827-d44658e4fc37",
   "metadata": {},
   "source": [
    "Returns a view object containing keys as a list\n",
    "\n",
    "View object reflects any changes done to the dictionary\n",
    "\n",
    "It means that -\n",
    "\n",
    "If we make any changes to the dictionary , those changes will be reflected to this object view\n",
    "\n",
    "We can view the changes in dictionary\n",
    "\n",
    "\n",
    "car_items -> variable\n",
    "\n",
    "cars.items() -> Return view object that will be pointed by car_keys variable"
   ]
  }
 ],
 "metadata": {
  "kernelspec": {
   "display_name": "Python 3 (ipykernel)",
   "language": "python",
   "name": "python3"
  },
  "language_info": {
   "codemirror_mode": {
    "name": "ipython",
    "version": 3
   },
   "file_extension": ".py",
   "mimetype": "text/x-python",
   "name": "python",
   "nbconvert_exporter": "python",
   "pygments_lexer": "ipython3",
   "version": "3.11.7"
  }
 },
 "nbformat": 4,
 "nbformat_minor": 5
}
