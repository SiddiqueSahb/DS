{
 "cells": [
  {
   "cell_type": "markdown",
   "id": "48236ac5-98b8-445a-91fd-de7559da124c",
   "metadata": {},
   "source": [
    "## Removing item in Dictionary"
   ]
  },
  {
   "cell_type": "markdown",
   "id": "f0d792cc-eb22-4bbc-9083-8c6fec4e2377",
   "metadata": {},
   "source": [
    "### Remove an item using pop method"
   ]
  },
  {
   "cell_type": "markdown",
   "id": "497f96e7-4107-4bb6-a492-090006a50789",
   "metadata": {},
   "source": [
    "removes an item using the key of the item\n",
    "\n",
    "returns the value of deleted items \n",
    "\n",
    "Syntax - \n",
    "dict_name.pop(key)\n",
    "\n",
    "key - key of the element that you want to delete"
   ]
  },
  {
   "cell_type": "code",
   "execution_count": 24,
   "id": "9cae34ef-f859-4486-8fbc-1ae3a58b6524",
   "metadata": {},
   "outputs": [],
   "source": [
    "car = {'brand' : 'BMW' , 'model' : 'q7'}"
   ]
  },
  {
   "cell_type": "code",
   "execution_count": 25,
   "id": "fa7f085f-4074-47c5-9c48-a7457ff45f2f",
   "metadata": {},
   "outputs": [
    {
     "data": {
      "text/plain": [
       "{'brand': 'BMW', 'model': 'q7'}"
      ]
     },
     "execution_count": 25,
     "metadata": {},
     "output_type": "execute_result"
    }
   ],
   "source": [
    "car"
   ]
  },
  {
   "cell_type": "code",
   "execution_count": 26,
   "id": "baf4a1bd-1487-4b82-9559-1c8fc683e3df",
   "metadata": {},
   "outputs": [
    {
     "data": {
      "text/plain": [
       "'q7'"
      ]
     },
     "execution_count": 26,
     "metadata": {},
     "output_type": "execute_result"
    }
   ],
   "source": [
    "car.pop('model')"
   ]
  },
  {
   "cell_type": "code",
   "execution_count": 27,
   "id": "bd91b9d6-604a-4715-be4f-9bcb87e2aa99",
   "metadata": {},
   "outputs": [
    {
     "data": {
      "text/plain": [
       "{'brand': 'BMW'}"
      ]
     },
     "execution_count": 27,
     "metadata": {},
     "output_type": "execute_result"
    }
   ],
   "source": [
    "car"
   ]
  },
  {
   "cell_type": "markdown",
   "id": "468ce800-2b77-4be5-81ea-6417c4457d5a",
   "metadata": {},
   "source": [
    "### Removing an item using popItem() method"
   ]
  },
  {
   "cell_type": "markdown",
   "id": "eff465dc-736f-454e-a201-5623cfa26e44",
   "metadata": {},
   "source": [
    "Remove last inserted item\n",
    "\n",
    "Return the deleted item as a tuple\n",
    "\n",
    "Syntax -\n",
    "\n",
    "dict_name.popitem()"
   ]
  },
  {
   "cell_type": "code",
   "execution_count": 30,
   "id": "8d7355c8-65a8-463d-abfc-df9e65ab901f",
   "metadata": {},
   "outputs": [],
   "source": [
    "car = {'brand' : 'BMW' , 'model' : 'q7'}"
   ]
  },
  {
   "cell_type": "code",
   "execution_count": 31,
   "id": "d5cec52c-9bd8-4479-a4d8-3028f4eddfb1",
   "metadata": {},
   "outputs": [
    {
     "data": {
      "text/plain": [
       "('model', 'q7')"
      ]
     },
     "execution_count": 31,
     "metadata": {},
     "output_type": "execute_result"
    }
   ],
   "source": [
    "car.popitem()"
   ]
  },
  {
   "cell_type": "markdown",
   "id": "c45fde96-cfa2-4f7d-8d47-47d2dcc1deb2",
   "metadata": {},
   "source": [
    "### Removing an item using del keyword"
   ]
  },
  {
   "cell_type": "markdown",
   "id": "eefbac3b-a5d5-438b-933a-1334a305f64b",
   "metadata": {},
   "source": [
    "Removes an item using the key of the item\n",
    "\n",
    "It simply deletes the item\n",
    "\n",
    "It never returns the item\n",
    "\n",
    "Syntax - \n",
    "\n",
    "del dict_name[key]"
   ]
  },
  {
   "cell_type": "code",
   "execution_count": 32,
   "id": "7dbd0cec-3192-49cc-8118-3128fa7b7acf",
   "metadata": {},
   "outputs": [],
   "source": [
    "car = {'brand' : 'BMW' , 'model' : 'q7'}"
   ]
  },
  {
   "cell_type": "code",
   "execution_count": 33,
   "id": "d6b67b11-10cf-4260-81a0-4ed409e4952d",
   "metadata": {},
   "outputs": [],
   "source": [
    "del car['model']"
   ]
  },
  {
   "cell_type": "code",
   "execution_count": 34,
   "id": "86ebb1e9-2005-4426-a77d-6394c95c4e36",
   "metadata": {},
   "outputs": [
    {
     "data": {
      "text/plain": [
       "{'brand': 'BMW'}"
      ]
     },
     "execution_count": 34,
     "metadata": {},
     "output_type": "execute_result"
    }
   ],
   "source": [
    "car"
   ]
  },
  {
   "cell_type": "markdown",
   "id": "9d6f5d8f-6d8a-401e-9096-9ab76c24300c",
   "metadata": {},
   "source": [
    "### Removing a dictionary using del keyword"
   ]
  },
  {
   "cell_type": "markdown",
   "id": "57463118-d615-48ac-8018-cc3b8c8df39d",
   "metadata": {},
   "source": [
    "Removes the entire dictionary\n",
    "\n",
    "Syntax -\n",
    "\n",
    "del dict_name"
   ]
  },
  {
   "cell_type": "code",
   "execution_count": 36,
   "id": "bab3c01d-b282-4393-b5d4-511b2c69d6a3",
   "metadata": {},
   "outputs": [],
   "source": [
    "car = {'brand' : 'BMW' , 'model' : 'q7'}"
   ]
  },
  {
   "cell_type": "code",
   "execution_count": 37,
   "id": "4d680ce1-9e5c-4f4c-ad55-941012fc8966",
   "metadata": {},
   "outputs": [],
   "source": [
    "del car"
   ]
  },
  {
   "cell_type": "markdown",
   "id": "f999f242-d534-44ae-aa10-282d5359fd9c",
   "metadata": {},
   "source": [
    "### Empty a dictionary using clear() method"
   ]
  },
  {
   "cell_type": "markdown",
   "id": "73be8012-7e21-4d64-8d5c-3f386836c11f",
   "metadata": {},
   "source": [
    "Empties a dictionary\n",
    "\n",
    "Syntax - \n",
    "dict_name.clear"
   ]
  },
  {
   "cell_type": "code",
   "execution_count": 38,
   "id": "5480d593-9e35-4656-a74c-03e2bd4465fa",
   "metadata": {},
   "outputs": [],
   "source": [
    "car = {'brand' : 'BMW' , 'model' : 'q7'}"
   ]
  },
  {
   "cell_type": "code",
   "execution_count": 39,
   "id": "b0ebfe7e-9c5c-4f7c-a5da-52339249f78e",
   "metadata": {},
   "outputs": [],
   "source": [
    "car.clear()"
   ]
  },
  {
   "cell_type": "code",
   "execution_count": 40,
   "id": "45c58933-3385-4525-b7c6-d0a44106b9db",
   "metadata": {},
   "outputs": [
    {
     "data": {
      "text/plain": [
       "{}"
      ]
     },
     "execution_count": 40,
     "metadata": {},
     "output_type": "execute_result"
    }
   ],
   "source": [
    "car"
   ]
  }
 ],
 "metadata": {
  "kernelspec": {
   "display_name": "Python 3 (ipykernel)",
   "language": "python",
   "name": "python3"
  },
  "language_info": {
   "codemirror_mode": {
    "name": "ipython",
    "version": 3
   },
   "file_extension": ".py",
   "mimetype": "text/x-python",
   "name": "python",
   "nbconvert_exporter": "python",
   "pygments_lexer": "ipython3",
   "version": "3.11.7"
  }
 },
 "nbformat": 4,
 "nbformat_minor": 5
}
