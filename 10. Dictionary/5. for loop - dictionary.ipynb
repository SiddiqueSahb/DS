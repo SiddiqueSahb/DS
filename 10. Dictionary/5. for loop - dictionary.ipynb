{
 "cells": [
  {
   "cell_type": "markdown",
   "id": "13ad7b62-d3bd-4491-a794-094c56daed7f",
   "metadata": {},
   "source": [
    "# for loop with dictionary"
   ]
  },
  {
   "cell_type": "markdown",
   "id": "590be242-ed17-43a0-a765-ee6f97fcfbcc",
   "metadata": {},
   "source": [
    "## Iterate over dictionary"
   ]
  },
  {
   "cell_type": "code",
   "execution_count": 14,
   "id": "38b2f485-1d66-4a86-b4ea-e0e374e3731b",
   "metadata": {},
   "outputs": [],
   "source": [
    "#for loop can be used to iterate over a dictionary\n",
    "\n",
    "#for x in course:\n",
    "# This statement allow us to access each keys of this dictionary\n",
    "# keys are assigned to this variable x one at a time\n",
    "# x is a variable that holds each key of this dictionary one at a time\n",
    "# we can use print(x) to print each key of a dictionary\n"
   ]
  },
  {
   "cell_type": "code",
   "execution_count": 1,
   "id": "a12efbea-6c6a-4dc1-8872-7f4d6930441a",
   "metadata": {},
   "outputs": [],
   "source": [
    "course = {'name' : 'Python', 'instructor' : 'John'}"
   ]
  },
  {
   "cell_type": "code",
   "execution_count": 2,
   "id": "58bed637-6cdd-4f3c-b324-256129c5f1fb",
   "metadata": {},
   "outputs": [
    {
     "data": {
      "text/plain": [
       "{'name': 'Python', 'instructor': 'John'}"
      ]
     },
     "execution_count": 2,
     "metadata": {},
     "output_type": "execute_result"
    }
   ],
   "source": [
    "course"
   ]
  },
  {
   "cell_type": "code",
   "execution_count": 3,
   "id": "c30f0a7d-89bb-4bac-93f1-d0f28f6db93a",
   "metadata": {},
   "outputs": [
    {
     "name": "stdout",
     "output_type": "stream",
     "text": [
      "name\n",
      "instructor\n"
     ]
    }
   ],
   "source": [
    "for x in course:\n",
    "    print(x)"
   ]
  },
  {
   "cell_type": "markdown",
   "id": "e1a83d05-e988-41ac-b0d1-0a0276fb95d5",
   "metadata": {},
   "source": [
    "## Accessing values in dictionary"
   ]
  },
  {
   "cell_type": "code",
   "execution_count": 6,
   "id": "b7d90c02-60d5-4f78-8205-f05c5f49f78b",
   "metadata": {},
   "outputs": [
    {
     "data": {
      "text/plain": [
       "{'name': 'Python', 'instructor': 'John'}"
      ]
     },
     "execution_count": 6,
     "metadata": {},
     "output_type": "execute_result"
    }
   ],
   "source": [
    "course"
   ]
  },
  {
   "cell_type": "code",
   "execution_count": 4,
   "id": "70c2c3ac-fabe-4f5e-b735-bb190af322ed",
   "metadata": {},
   "outputs": [
    {
     "name": "stdout",
     "output_type": "stream",
     "text": [
      "Python\n",
      "John\n"
     ]
    }
   ],
   "source": [
    "for x in course:\n",
    "    print(course[x])\n",
    "\n",
    "# Each value of this can be accessed using square bracket notation.\n",
    "# Within the squared bracket, we can pass  the key of the dictionary whose value you want to access.\n",
    "# x will access first key i.e name & at runtime , x will get replaced with name "
   ]
  },
  {
   "cell_type": "markdown",
   "id": "78a95ccc-f19d-44b0-809b-b1fd23cf6a1a",
   "metadata": {},
   "source": [
    "#### Alternate method to access value in dictionary"
   ]
  },
  {
   "cell_type": "code",
   "execution_count": 5,
   "id": "f5ffa8f5-5767-4cbb-abb1-77dbf8ff1dd0",
   "metadata": {},
   "outputs": [
    {
     "name": "stdout",
     "output_type": "stream",
     "text": [
      "Python\n",
      "John\n"
     ]
    }
   ],
   "source": [
    "for x in course.values():\n",
    "    print(x)\n",
    "\n",
    "# This values method allow us to access values in dictionary.\n",
    "# The value will be assigned to the variable y one at a time."
   ]
  },
  {
   "cell_type": "markdown",
   "id": "65f2159f-7578-42f4-9c91-0e2ea5c0e647",
   "metadata": {},
   "source": [
    "## Accessing keys of a dictionary"
   ]
  },
  {
   "cell_type": "markdown",
   "id": "0dba5370-c072-429e-b8ac-b511dd785ac9",
   "metadata": {},
   "source": [
    "Keys can be accessed using keys method"
   ]
  },
  {
   "cell_type": "code",
   "execution_count": 7,
   "id": "2db19321-ed3c-4d1e-aa55-acae8d3dbc90",
   "metadata": {},
   "outputs": [
    {
     "data": {
      "text/plain": [
       "{'name': 'Python', 'instructor': 'John'}"
      ]
     },
     "execution_count": 7,
     "metadata": {},
     "output_type": "execute_result"
    }
   ],
   "source": [
    "course"
   ]
  },
  {
   "cell_type": "code",
   "execution_count": 8,
   "id": "8c392745-fd30-4d3c-b0d6-337c6fdd328e",
   "metadata": {},
   "outputs": [
    {
     "name": "stdout",
     "output_type": "stream",
     "text": [
      "name\n",
      "instructor\n"
     ]
    }
   ],
   "source": [
    "for x in course.keys():\n",
    "    print(x)"
   ]
  },
  {
   "cell_type": "markdown",
   "id": "2776288e-380c-4a1d-950d-228c55550432",
   "metadata": {},
   "source": [
    "## Accessing keys and values of a dcitionary"
   ]
  },
  {
   "cell_type": "markdown",
   "id": "7d1ef910-a93b-49b9-bac5-a74b115d7015",
   "metadata": {},
   "source": [
    "Keys and values can be accessed using items() method\n",
    "\n",
    "items() method returns both key & value of a dictionary\n",
    "\n",
    "These key and value can be accessed by the variable x,y\n",
    "\n",
    "x - represent key\n",
    "\n",
    "y - represent value"
   ]
  },
  {
   "cell_type": "code",
   "execution_count": 10,
   "id": "b4142aba-aa30-4e81-bdca-db28aabe7338",
   "metadata": {},
   "outputs": [
    {
     "data": {
      "text/plain": [
       "{'name': 'Python', 'instructor': 'John'}"
      ]
     },
     "execution_count": 10,
     "metadata": {},
     "output_type": "execute_result"
    }
   ],
   "source": [
    "course"
   ]
  },
  {
   "cell_type": "code",
   "execution_count": null,
   "id": "114e02fe-1132-4968-91f2-2569307eae13",
   "metadata": {},
   "outputs": [],
   "source": [
    "for x,y in course.items():\n",
    "    print(x,y)\n",
    "\n",
    "# print(x,y)\n",
    "# x - recieve one key\n",
    "# y - recieve one value"
   ]
  }
 ],
 "metadata": {
  "kernelspec": {
   "display_name": "Python 3 (ipykernel)",
   "language": "python",
   "name": "python3"
  },
  "language_info": {
   "codemirror_mode": {
    "name": "ipython",
    "version": 3
   },
   "file_extension": ".py",
   "mimetype": "text/x-python",
   "name": "python",
   "nbconvert_exporter": "python",
   "pygments_lexer": "ipython3",
   "version": "3.11.7"
  }
 },
 "nbformat": 4,
 "nbformat_minor": 5
}
