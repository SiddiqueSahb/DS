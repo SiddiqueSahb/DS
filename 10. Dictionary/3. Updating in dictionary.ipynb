{
 "cells": [
  {
   "cell_type": "markdown",
   "id": "3cbc3ba1-39dd-489f-ad7d-41c718c4c946",
   "metadata": {},
   "source": [
    "## Changing values using keynames"
   ]
  },
  {
   "cell_type": "markdown",
   "id": "48823434-870a-4897-9576-5c70be5efd9f",
   "metadata": {},
   "source": [
    "Syntax -\n",
    "\n",
    "dict_name[key] = value"
   ]
  },
  {
   "cell_type": "code",
   "execution_count": 1,
   "id": "6a21ae57-a08b-447c-9d5a-1f4e4ce3031b",
   "metadata": {},
   "outputs": [],
   "source": [
    "car = {'brand': 'Audi', 'model' : 's5' }"
   ]
  },
  {
   "cell_type": "code",
   "execution_count": 2,
   "id": "1f5cfb8d-e752-46e0-8df7-3da7c9d1a62a",
   "metadata": {},
   "outputs": [
    {
     "data": {
      "text/plain": [
       "{'brand': 'Audi', 'model': 's5'}"
      ]
     },
     "execution_count": 2,
     "metadata": {},
     "output_type": "execute_result"
    }
   ],
   "source": [
    "car"
   ]
  },
  {
   "cell_type": "code",
   "execution_count": 3,
   "id": "3a661bc1-cc65-40cf-b2e4-4246e3a11a0f",
   "metadata": {},
   "outputs": [],
   "source": [
    "car['model'] = 's15'"
   ]
  },
  {
   "cell_type": "code",
   "execution_count": 4,
   "id": "d6879ed1-27d5-4004-8088-a21c23bde35e",
   "metadata": {},
   "outputs": [
    {
     "data": {
      "text/plain": [
       "{'brand': 'Audi', 'model': 's15'}"
      ]
     },
     "execution_count": 4,
     "metadata": {},
     "output_type": "execute_result"
    }
   ],
   "source": [
    "car"
   ]
  },
  {
   "cell_type": "markdown",
   "id": "a4b2ddd5-cd3e-4f9c-9fda-2058e0381a52",
   "metadata": {},
   "source": [
    "## Changing values using update method"
   ]
  },
  {
   "cell_type": "markdown",
   "id": "efedd0db-86a0-4cfc-a414-7a88886ce0fc",
   "metadata": {},
   "source": [
    "Syntax - \n",
    "\n",
    "dict_name.update(dictionary)"
   ]
  },
  {
   "cell_type": "code",
   "execution_count": 7,
   "id": "bb5dc6a1-9fb4-4323-87f9-6c49207d09e5",
   "metadata": {},
   "outputs": [],
   "source": [
    "car = {'brand': 'Audi', 'model' : 's5' }"
   ]
  },
  {
   "cell_type": "code",
   "execution_count": 8,
   "id": "762cc908-a1cf-4c47-96b6-f2e04a645d42",
   "metadata": {},
   "outputs": [],
   "source": [
    "car.update({'model':'s10'})"
   ]
  },
  {
   "cell_type": "code",
   "execution_count": 9,
   "id": "63708a75-ca5e-4d26-9d32-443bc8cf6d22",
   "metadata": {},
   "outputs": [
    {
     "data": {
      "text/plain": [
       "{'brand': 'Audi', 'model': 's10'}"
      ]
     },
     "execution_count": 9,
     "metadata": {},
     "output_type": "execute_result"
    }
   ],
   "source": [
    "car"
   ]
  },
  {
   "cell_type": "markdown",
   "id": "f4ac0ef1-643d-4381-8b70-935a73cdd5d3",
   "metadata": {},
   "source": [
    "## Adding new items using Key Names"
   ]
  },
  {
   "cell_type": "markdown",
   "id": "4133c899-49dc-4cae-b822-2544275794ff",
   "metadata": {},
   "source": [
    "Syntax -\n",
    "\n",
    "dict_name[new_key] = new_value"
   ]
  },
  {
   "cell_type": "code",
   "execution_count": 10,
   "id": "1961ff9e-0b74-46b4-b941-249885fbfa7d",
   "metadata": {},
   "outputs": [
    {
     "data": {
      "text/plain": [
       "{'brand': 'Audi', 'model': 's10'}"
      ]
     },
     "execution_count": 10,
     "metadata": {},
     "output_type": "execute_result"
    }
   ],
   "source": [
    "car"
   ]
  },
  {
   "cell_type": "code",
   "execution_count": 11,
   "id": "52896b50-b408-4cda-aa46-dfc265087e67",
   "metadata": {},
   "outputs": [],
   "source": [
    "car['color'] = 'Red'"
   ]
  },
  {
   "cell_type": "code",
   "execution_count": 12,
   "id": "8761f90f-b5a5-493a-9e74-1ff85bf187b2",
   "metadata": {},
   "outputs": [
    {
     "data": {
      "text/plain": [
       "{'brand': 'Audi', 'model': 's10', 'color': 'Red'}"
      ]
     },
     "execution_count": 12,
     "metadata": {},
     "output_type": "execute_result"
    }
   ],
   "source": [
    "car"
   ]
  },
  {
   "cell_type": "markdown",
   "id": "5ea5e00d-707c-4b42-bbfc-73132584cf3b",
   "metadata": {},
   "source": [
    "## Adding new items using update method"
   ]
  },
  {
   "cell_type": "markdown",
   "id": "aeff564d-3a02-42d1-8271-7e4569bc8bc6",
   "metadata": {},
   "source": [
    "syntax -\n",
    "\n",
    "dict_name.update(dictionary)"
   ]
  },
  {
   "cell_type": "code",
   "execution_count": 14,
   "id": "650e5a75-a06c-4291-a897-0085883a27b2",
   "metadata": {},
   "outputs": [
    {
     "data": {
      "text/plain": [
       "{'brand': 'Audi', 'model': 's10', 'color': 'Red'}"
      ]
     },
     "execution_count": 14,
     "metadata": {},
     "output_type": "execute_result"
    }
   ],
   "source": [
    "car"
   ]
  },
  {
   "cell_type": "code",
   "execution_count": 15,
   "id": "35eceffd-7120-4624-9a1c-cdfc0e8b34aa",
   "metadata": {},
   "outputs": [],
   "source": [
    "car.update({'fuel type' : 'diesel'})"
   ]
  },
  {
   "cell_type": "code",
   "execution_count": 16,
   "id": "1d3b9226-541a-4bbb-8891-a954c899fcde",
   "metadata": {},
   "outputs": [
    {
     "data": {
      "text/plain": [
       "{'brand': 'Audi', 'model': 's10', 'color': 'Red', 'fuel type': 'diesel'}"
      ]
     },
     "execution_count": 16,
     "metadata": {},
     "output_type": "execute_result"
    }
   ],
   "source": [
    "car"
   ]
  }
 ],
 "metadata": {
  "kernelspec": {
   "display_name": "Python 3 (ipykernel)",
   "language": "python",
   "name": "python3"
  },
  "language_info": {
   "codemirror_mode": {
    "name": "ipython",
    "version": 3
   },
   "file_extension": ".py",
   "mimetype": "text/x-python",
   "name": "python",
   "nbconvert_exporter": "python",
   "pygments_lexer": "ipython3",
   "version": "3.11.7"
  }
 },
 "nbformat": 4,
 "nbformat_minor": 5
}
