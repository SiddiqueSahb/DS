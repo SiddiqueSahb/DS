{
 "cells": [
  {
   "cell_type": "markdown",
   "id": "51cce980-5d79-4184-a66c-fbfdaa53fb38",
   "metadata": {},
   "source": [
    "global variable - defined outside the function\n",
    "\n",
    "local variale - defined inside the function\n",
    "\n",
    "You can access global variable inside the function\n",
    "\n",
    "You cannot access local variable outside the function\n",
    "\n",
    "\n",
    "If you want to change a global variable, python assumes you want to create a local variable\n",
    "so, we specify using global keyword telling that we want to use global variable\n",
    "\n",
    "\n",
    "If you want to access local variable outside the function , return the value & store it in a variable.\n",
    "Then access it"
   ]
  },
  {
   "cell_type": "markdown",
   "id": "8de465bb-ed6a-4944-9319-9eb39724c089",
   "metadata": {},
   "source": [
    "a1 = 10 # global variable\n",
    "def f1():\n",
    "    b1 = 12 # local variable\n",
    "print(a1)"
   ]
  },
  {
   "cell_type": "code",
   "execution_count": 2,
   "id": "abad7208-a18f-42a6-8c8e-9252f6cafb0d",
   "metadata": {},
   "outputs": [
    {
     "name": "stdout",
     "output_type": "stream",
     "text": [
      "10\n"
     ]
    },
    {
     "ename": "NameError",
     "evalue": "name 'b1' is not defined",
     "output_type": "error",
     "traceback": [
      "\u001b[0;31m---------------------------------------------------------------------------\u001b[0m",
      "\u001b[0;31mNameError\u001b[0m                                 Traceback (most recent call last)",
      "Cell \u001b[0;32mIn[2], line 5\u001b[0m\n\u001b[1;32m      3\u001b[0m     b1 \u001b[38;5;241m=\u001b[39m \u001b[38;5;241m12\u001b[39m\n\u001b[1;32m      4\u001b[0m \u001b[38;5;28mprint\u001b[39m(a1)\n\u001b[0;32m----> 5\u001b[0m \u001b[38;5;28mprint\u001b[39m(b1)\n",
      "\u001b[0;31mNameError\u001b[0m: name 'b1' is not defined"
     ]
    }
   ],
   "source": [
    "a1 = 10\n",
    "def f1():\n",
    "    b1 = 12\n",
    "print(a1)\n",
    "print(b1)"
   ]
  },
  {
   "cell_type": "markdown",
   "id": "66c7c56b-b387-4869-9424-9f2b29717b9d",
   "metadata": {},
   "source": [
    "We cannot print the local variable outside the function"
   ]
  },
  {
   "cell_type": "code",
   "execution_count": 4,
   "id": "3195d442-59a8-4d3b-af7c-1827808ca0ae",
   "metadata": {},
   "outputs": [
    {
     "name": "stdout",
     "output_type": "stream",
     "text": [
      "10\n",
      "12\n"
     ]
    }
   ],
   "source": [
    "a1 = 10\n",
    "def f1():\n",
    "    b1 = 12\n",
    "    print(b1)\n",
    "print(a1)\n",
    "f1()\n"
   ]
  },
  {
   "cell_type": "code",
   "execution_count": 5,
   "id": "aa44a7b9-02d6-4c5a-a76e-e93019a4e59c",
   "metadata": {},
   "outputs": [
    {
     "name": "stdout",
     "output_type": "stream",
     "text": [
      "10\n",
      "12\n",
      "10\n"
     ]
    }
   ],
   "source": [
    "a1 = 10\n",
    "def f1():\n",
    "    b1 = 12\n",
    "    print(b1)\n",
    "    print(a1)\n",
    "print(a1)\n",
    "f1()\n"
   ]
  },
  {
   "cell_type": "markdown",
   "id": "62940aec-e832-459f-91fd-ed4376e571f4",
   "metadata": {},
   "source": [
    "You can print global variable inside the function"
   ]
  },
  {
   "cell_type": "code",
   "execution_count": 6,
   "id": "3d754da0-8d5a-4fb8-bfe9-462721e8f773",
   "metadata": {},
   "outputs": [
    {
     "name": "stdout",
     "output_type": "stream",
     "text": [
      "10\n",
      "12\n",
      "10\n"
     ]
    }
   ],
   "source": [
    "\n",
    "def f1():\n",
    "    b1 = 12\n",
    "    print(b1)\n",
    "    print(a1)\n",
    "\n",
    "a1 = 10\n",
    "print(a1)\n",
    "f1()\n"
   ]
  },
  {
   "cell_type": "markdown",
   "id": "cd130363-4246-498e-8e46-10186b0650df",
   "metadata": {},
   "source": [
    "You can access any global variable defined before the function call"
   ]
  },
  {
   "cell_type": "code",
   "execution_count": 7,
   "id": "c928e421-5933-4192-9a98-52befb1ca3f1",
   "metadata": {},
   "outputs": [
    {
     "name": "stdout",
     "output_type": "stream",
     "text": [
      "13\n",
      "12\n",
      "13\n"
     ]
    }
   ],
   "source": [
    "a4 = 13\n",
    "def f4():\n",
    "    a4 = 12\n",
    "    print(a4)\n",
    "    \n",
    "\n",
    "print(a4)\n",
    "f4()\n",
    "print(a4)\n"
   ]
  },
  {
   "cell_type": "code",
   "execution_count": 8,
   "id": "3d6fca2d-fd65-4c23-a6ca-f2f661f08060",
   "metadata": {},
   "outputs": [
    {
     "name": "stdout",
     "output_type": "stream",
     "text": [
      "13\n",
      "12\n",
      "12\n"
     ]
    }
   ],
   "source": [
    "a4 = 13\n",
    "def f4():\n",
    "    global a4  #specifically saying- we are using a4 that is globally available\n",
    "    a4 = 12 \n",
    "    print(a4)\n",
    "    \n",
    "\n",
    "print(a4)\n",
    "f4()\n",
    "print(a4)\n"
   ]
  },
  {
   "cell_type": "code",
   "execution_count": 10,
   "id": "4cbf4b86-a4dd-44bf-a0ba-97da5fe67104",
   "metadata": {},
   "outputs": [
    {
     "name": "stdout",
     "output_type": "stream",
     "text": [
      "10\n"
     ]
    }
   ],
   "source": [
    "def f():\n",
    "    b = 10\n",
    "    return b\n",
    "x = f()\n",
    "print(x)"
   ]
  }
 ],
 "metadata": {
  "kernelspec": {
   "display_name": "Python 3 (ipykernel)",
   "language": "python",
   "name": "python3"
  },
  "language_info": {
   "codemirror_mode": {
    "name": "ipython",
    "version": 3
   },
   "file_extension": ".py",
   "mimetype": "text/x-python",
   "name": "python",
   "nbconvert_exporter": "python",
   "pygments_lexer": "ipython3",
   "version": "3.11.7"
  }
 },
 "nbformat": 4,
 "nbformat_minor": 5
}
