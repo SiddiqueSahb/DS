{
 "cells": [
  {
   "cell_type": "markdown",
   "id": "9943c745-cb78-44d6-8218-299b63cdc073",
   "metadata": {},
   "source": [
    "### https://www.programiz.com/python-programming/function"
   ]
  },
  {
   "cell_type": "markdown",
   "id": "fbcc1ebe-d5f7-4e2f-bb8e-121152a4e892",
   "metadata": {},
   "source": [
    "Functions are block of code that performs a specific task \n",
    "\n",
    "Functions :\n",
    "\n",
    "increases the reaadability\n",
    "\n",
    "modularise the code\n",
    "\n",
    "helps in easy debugging\n",
    "\n"
   ]
  },
  {
   "cell_type": "markdown",
   "id": "2ef14dbd-ffcb-4ea7-b047-5c3098e27295",
   "metadata": {},
   "source": [
    "### Function Declaration"
   ]
  },
  {
   "cell_type": "code",
   "execution_count": 1,
   "id": "b35366fa-d84d-43f1-a7b4-47f1b2ce9667",
   "metadata": {},
   "outputs": [],
   "source": [
    "def greet():\n",
    "    print('Hello Arshad')"
   ]
  },
  {
   "cell_type": "markdown",
   "id": "392b7c64-d42f-4837-9121-96f08dbdfc61",
   "metadata": {},
   "source": [
    "### Function call"
   ]
  },
  {
   "cell_type": "code",
   "execution_count": 2,
   "id": "074f12be-2d26-4370-801c-daad810d4070",
   "metadata": {},
   "outputs": [
    {
     "name": "stdout",
     "output_type": "stream",
     "text": [
      "Hello Arshad\n"
     ]
    }
   ],
   "source": [
    "greet()"
   ]
  },
  {
   "cell_type": "code",
   "execution_count": 3,
   "id": "fe362003-d3e7-48f5-9678-2ab2d244b133",
   "metadata": {},
   "outputs": [
    {
     "name": "stdout",
     "output_type": "stream",
     "text": [
      "Arshad\n"
     ]
    }
   ],
   "source": [
    "def greet(name):\n",
    "    print(name)\n",
    "greet('Arshad')"
   ]
  },
  {
   "cell_type": "markdown",
   "id": "6686e0c0-3451-467a-963f-d1788abd8ac8",
   "metadata": {},
   "source": [
    "### Add two numbers"
   ]
  },
  {
   "cell_type": "code",
   "execution_count": 4,
   "id": "0c91b7c8-7b8e-49e3-9fec-c713710ad6ca",
   "metadata": {},
   "outputs": [
    {
     "name": "stdout",
     "output_type": "stream",
     "text": [
      "9\n"
     ]
    }
   ],
   "source": [
    "def add_numbers(num1,num2):\n",
    "    sum =  num1 + num2\n",
    "    print(sum)\n",
    "    \n",
    "add_numbers(5,4)"
   ]
  },
  {
   "cell_type": "code",
   "execution_count": 6,
   "id": "829dd080-1dae-4726-961c-31f28d8510ed",
   "metadata": {},
   "outputs": [
    {
     "name": "stdout",
     "output_type": "stream",
     "text": [
      "25\n"
     ]
    }
   ],
   "source": [
    "def find_square(num):\n",
    "    result = num * num\n",
    "    return result\n",
    "\n",
    "square = find_square(5)\n",
    "print(square)"
   ]
  }
 ],
 "metadata": {
  "kernelspec": {
   "display_name": "Python 3 (ipykernel)",
   "language": "python",
   "name": "python3"
  },
  "language_info": {
   "codemirror_mode": {
    "name": "ipython",
    "version": 3
   },
   "file_extension": ".py",
   "mimetype": "text/x-python",
   "name": "python",
   "nbconvert_exporter": "python",
   "pygments_lexer": "ipython3",
   "version": "3.11.7"
  }
 },
 "nbformat": 4,
 "nbformat_minor": 5
}
