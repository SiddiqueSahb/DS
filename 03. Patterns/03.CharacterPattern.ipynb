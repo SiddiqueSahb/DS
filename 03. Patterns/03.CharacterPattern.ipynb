{
 "cells": [
  {
   "cell_type": "markdown",
   "id": "89a79005-3835-4af1-938e-f3223a64042d",
   "metadata": {},
   "source": [
    "\n",
    "1] Find ASCII of 'A'\n",
    "2] Add k-1 in int\n",
    "3] Find char corresponding to number in step 2\n",
    "\n",
    "ord() -> gives an ascii value of a given character, It works for only a character\n",
    "chr() -> gives char corresponding to ascii value\n"
   ]
  },
  {
   "cell_type": "code",
   "execution_count": 5,
   "id": "bce0b0d2-e3ac-496c-b868-0f859e17a8fc",
   "metadata": {},
   "outputs": [
    {
     "name": "stdin",
     "output_type": "stream",
     "text": [
      " 2\n"
     ]
    },
    {
     "name": "stdout",
     "output_type": "stream",
     "text": [
      "B\n"
     ]
    }
   ],
   "source": [
    "# print  kth character\n",
    "k = int(input())\n",
    "# 'A' + k - 1\n",
    "\n",
    "x = ord('A')   \n",
    "Ascii = x + k - 1\n",
    "targetChar  =  chr(Ascii)\n",
    "print(targetChar)"
   ]
  },
  {
   "cell_type": "code",
   "execution_count": 3,
   "id": "231171f5-f05f-4254-9e72-332a599ac39c",
   "metadata": {},
   "outputs": [
    {
     "name": "stdin",
     "output_type": "stream",
     "text": [
      " 5\n"
     ]
    },
    {
     "name": "stdout",
     "output_type": "stream",
     "text": [
      "ABCDE\n",
      "ABCDE\n",
      "ABCDE\n",
      "ABCDE\n",
      "ABCDE\n"
     ]
    }
   ],
   "source": [
    "n = int(input())\n",
    "i=1 \n",
    "while i<=n:\n",
    "    j=1\n",
    "    while j<=n:\n",
    "        p = chr(ord('A') + j - 1)\n",
    "        print(p,end = '')\n",
    "        j = j+1\n",
    "    print()\n",
    "    i = i+1\n"
   ]
  },
  {
   "cell_type": "code",
   "execution_count": 10,
   "id": "3d46152e-1100-438a-b01d-368bf065f66a",
   "metadata": {},
   "outputs": [
    {
     "name": "stdin",
     "output_type": "stream",
     "text": [
      " 5\n"
     ]
    },
    {
     "name": "stdout",
     "output_type": "stream",
     "text": [
      "A \n",
      "B C \n",
      "C D E \n",
      "D E F G \n",
      "E F G H I \n"
     ]
    }
   ],
   "source": [
    "n = int(input())\n",
    "i=1 \n",
    "while i<=n:\n",
    "    j=1\n",
    "    k = ord('A') + i - 1\n",
    "    while j<=i:\n",
    "        print(chr(k),end = \" \")\n",
    "        j = j + 1 \n",
    "        k = k + 1\n",
    "    print()\n",
    "    i = i+1"
   ]
  },
  {
   "cell_type": "code",
   "execution_count": 13,
   "id": "93d92198-4e6d-46c1-b0f0-acfa0d4e86d4",
   "metadata": {},
   "outputs": [
    {
     "name": "stdin",
     "output_type": "stream",
     "text": [
      " 5\n"
     ]
    },
    {
     "name": "stdout",
     "output_type": "stream",
     "text": [
      "A B C D E \n",
      "A B C D E \n",
      "A B C D E \n",
      "A B C D E \n",
      "A B C D E \n"
     ]
    }
   ],
   "source": [
    "n = int(input())\n",
    "i=1\n",
    "while i<=n:\n",
    "    j=1\n",
    "    k = ord('A') + i - 1\n",
    "    while j<=i:\n",
    "        print(chr(k),end=\" \")\n",
    "        j = j + 1\n",
    "    print()\n",
    "    i = i + 1"
   ]
  },
  {
   "cell_type": "code",
   "execution_count": null,
   "id": "e4361681-196f-4773-8ded-f667b3de3bbb",
   "metadata": {},
   "outputs": [],
   "source": []
  }
 ],
 "metadata": {
  "kernelspec": {
   "display_name": "Python 3 (ipykernel)",
   "language": "python",
   "name": "python3"
  },
  "language_info": {
   "codemirror_mode": {
    "name": "ipython",
    "version": 3
   },
   "file_extension": ".py",
   "mimetype": "text/x-python",
   "name": "python",
   "nbconvert_exporter": "python",
   "pygments_lexer": "ipython3",
   "version": "3.11.7"
  }
 },
 "nbformat": 4,
 "nbformat_minor": 5
}
