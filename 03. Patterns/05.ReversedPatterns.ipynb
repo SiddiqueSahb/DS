{
 "cells": [
  {
   "cell_type": "code",
   "execution_count": null,
   "id": "3ffd731c-9c2b-4db2-8406-f37a3f61f249",
   "metadata": {},
   "outputs": [],
   "source": [
    "   *\n",
    "\n",
    "  **\n",
    "       \n",
    " ***\n",
    "\n",
    "****\n",
    "\n",
    "1] No of Rows = N\n",
    "\n",
    "2] No of columns in each row -\n",
    "\n",
    "    1] print space -> n - i\n",
    "\n",
    "    2] print stars -> i\n",
    "\n",
    "3] What to print"
   ]
  },
  {
   "cell_type": "code",
   "execution_count": 1,
   "id": "33dc708d-21b6-409b-80e1-21313e7352b8",
   "metadata": {},
   "outputs": [
    {
     "name": "stdin",
     "output_type": "stream",
     "text": [
      " 5\n"
     ]
    },
    {
     "name": "stdout",
     "output_type": "stream",
     "text": [
      "        * \n",
      "      * * \n",
      "    * * * \n",
      "  * * * * \n",
      "* * * * * \n"
     ]
    }
   ],
   "source": [
    "n = int(input())\n",
    "i=1\n",
    "while i<=n:\n",
    "    spaces = 1\n",
    "    while spaces <= n - i:\n",
    "        print(' ', end=\" \")\n",
    "        spaces  = spaces + 1\n",
    "    star = 1\n",
    "    while star <= i:\n",
    "        print(\"*\", end = \" \")\n",
    "        star = star + 1\n",
    "    print()\n",
    "    i=i+1"
   ]
  },
  {
   "cell_type": "code",
   "execution_count": 4,
   "id": "629132c4-2783-4f77-85d5-4feda04d74ff",
   "metadata": {},
   "outputs": [
    {
     "name": "stdin",
     "output_type": "stream",
     "text": [
      " 4\n"
     ]
    },
    {
     "name": "stdout",
     "output_type": "stream",
     "text": [
      "      1 \n",
      "    2 3 \n",
      "  3 4 5 \n",
      "4 5 6 7 \n"
     ]
    }
   ],
   "source": [
    "\n",
    "n = int(input())\n",
    "i=1\n",
    "k=1\n",
    "while i<=n:\n",
    "    space=1\n",
    "    while space<= n-i:\n",
    "        print(' ', end=\" \")\n",
    "        space = space + 1\n",
    "    j = 1\n",
    "    while j<=i:\n",
    "        print(k,end=\" \")\n",
    "        j = j+1\n",
    "        k=k+1\n",
    "    print()\n",
    "    i=i+1"
   ]
  }
 ],
 "metadata": {
  "kernelspec": {
   "display_name": "Python 3 (ipykernel)",
   "language": "python",
   "name": "python3"
  },
  "language_info": {
   "codemirror_mode": {
    "name": "ipython",
    "version": 3
   },
   "file_extension": ".py",
   "mimetype": "text/x-python",
   "name": "python",
   "nbconvert_exporter": "python",
   "pygments_lexer": "ipython3",
   "version": "3.11.7"
  }
 },
 "nbformat": 4,
 "nbformat_minor": 5
}
