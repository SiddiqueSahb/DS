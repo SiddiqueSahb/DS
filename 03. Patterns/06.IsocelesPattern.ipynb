{
 "cells": [
  {
   "cell_type": "markdown",
   "id": "721dff4d-65f2-4eea-b096-f05b757ffc49",
   "metadata": {},
   "source": [
    "   1\n",
    "  121\n",
    " 12321\n",
    "1234321"
   ]
  },
  {
   "cell_type": "code",
   "execution_count": 1,
   "id": "ca199a09-4435-4dc2-b013-84a5fb9c3da5",
   "metadata": {},
   "outputs": [
    {
     "name": "stdin",
     "output_type": "stream",
     "text": [
      " 4\n"
     ]
    },
    {
     "name": "stdout",
     "output_type": "stream",
     "text": [
      "      1 \n",
      "    1 2 \n",
      "  1 2 3 \n",
      "1 2 3 4 \n"
     ]
    }
   ],
   "source": [
    "n = int(input())\n",
    "i=1\n",
    "while i<=n:\n",
    "    space = 1\n",
    "    # spaces\n",
    "    while space <= n-i:\n",
    "        print(' ',end = \" \")\n",
    "        space = space + 1\n",
    "    p = 1\n",
    "    j=1\n",
    "    # increasing seq\n",
    "    while j<=i :\n",
    "        print(p, end = ' ')\n",
    "        j = j+1\n",
    "        p = p+1\n",
    "    # decreasing seq\n",
    "    print()\n",
    "    i = i+1"
   ]
  },
  {
   "cell_type": "code",
   "execution_count": null,
   "id": "f1d636a4-774a-4813-92a5-c21cbefbc641",
   "metadata": {},
   "outputs": [],
   "source": []
  }
 ],
 "metadata": {
  "kernelspec": {
   "display_name": "Python 3 (ipykernel)",
   "language": "python",
   "name": "python3"
  },
  "language_info": {
   "codemirror_mode": {
    "name": "ipython",
    "version": 3
   },
   "file_extension": ".py",
   "mimetype": "text/x-python",
   "name": "python",
   "nbconvert_exporter": "python",
   "pygments_lexer": "ipython3",
   "version": "3.11.7"
  }
 },
 "nbformat": 4,
 "nbformat_minor": 5
}
