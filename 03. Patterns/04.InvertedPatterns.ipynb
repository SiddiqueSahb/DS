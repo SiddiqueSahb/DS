{
 "cells": [
  {
   "cell_type": "markdown",
   "id": "7221b49c-d740-4607-9ca3-5a6a92e90996",
   "metadata": {},
   "source": [
    "\n",
    "\n",
    "1] No of Rows \n",
    "\n",
    "2] No of Columns in each row\n",
    "\n",
    "3] what to print\n",
    "\n",
    "\n",
    "Note -> n-i+1"
   ]
  },
  {
   "cell_type": "code",
   "execution_count": 1,
   "id": "9a4894ae-f170-48e8-9a99-bd5cfd795bb9",
   "metadata": {},
   "outputs": [
    {
     "name": "stdin",
     "output_type": "stream",
     "text": [
      " 5\n"
     ]
    },
    {
     "name": "stdout",
     "output_type": "stream",
     "text": [
      "* * * * * \n",
      "* * * * \n",
      "* * * \n",
      "* * \n",
      "* \n"
     ]
    }
   ],
   "source": [
    "n = int(input())\n",
    "i = 1\n",
    "while i<=n:\n",
    "    j = 1\n",
    "    while j<= n-i+1:\n",
    "        print(\"*\",end=\" \")\n",
    "        j = j+1\n",
    "    print()\n",
    "    i=i+1"
   ]
  }
 ],
 "metadata": {
  "kernelspec": {
   "display_name": "Python 3 (ipykernel)",
   "language": "python",
   "name": "python3"
  },
  "language_info": {
   "codemirror_mode": {
    "name": "ipython",
    "version": 3
   },
   "file_extension": ".py",
   "mimetype": "text/x-python",
   "name": "python",
   "nbconvert_exporter": "python",
   "pygments_lexer": "ipython3",
   "version": "3.11.7"
  }
 },
 "nbformat": 4,
 "nbformat_minor": 5
}
