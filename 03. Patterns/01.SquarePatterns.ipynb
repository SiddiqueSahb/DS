{
 "cells": [
  {
   "cell_type": "markdown",
   "id": "3acec316-9087-425b-96f3-5a9cf618e5dd",
   "metadata": {},
   "source": [
    "1111\n",
    "2222\n",
    "3333\n",
    "4444"
   ]
  },
  {
   "cell_type": "code",
   "execution_count": 2,
   "id": "8bef5977-fbca-4fc9-8fbd-2ab1f3bb5c18",
   "metadata": {},
   "outputs": [
    {
     "name": "stdin",
     "output_type": "stream",
     "text": [
      " 4\n"
     ]
    },
    {
     "name": "stdout",
     "output_type": "stream",
     "text": [
      "1 1 1 1 \n",
      "2 2 2 2 \n",
      "3 3 3 3 \n",
      "4 4 4 4 \n"
     ]
    }
   ],
   "source": [
    "n = int(input())\n",
    "i = 1\n",
    "while(i <= n):\n",
    "    j = 1\n",
    "    while(j <=n ):\n",
    "        print(i,end=\" \")\n",
    "        j=j+1\n",
    "    print()\n",
    "    i = i+1\n",
    " \n",
    "    "
   ]
  },
  {
   "cell_type": "markdown",
   "id": "fe2e3118-7228-4fa5-ba7c-fb8b9fbeb2c7",
   "metadata": {},
   "source": [
    "1234\n",
    "1234\n",
    "1234\n",
    "1234"
   ]
  },
  {
   "cell_type": "code",
   "execution_count": 3,
   "id": "5779180c-0783-4c15-9e79-84f8fc747481",
   "metadata": {},
   "outputs": [
    {
     "name": "stdin",
     "output_type": "stream",
     "text": [
      " 4\n"
     ]
    },
    {
     "name": "stdout",
     "output_type": "stream",
     "text": [
      "1 2 3 4 \n",
      "1 2 3 4 \n",
      "1 2 3 4 \n",
      "1 2 3 4 \n"
     ]
    }
   ],
   "source": [
    "n = int(input())\n",
    "i = 1\n",
    "while(i <= n):\n",
    "    j = 1\n",
    "    while(j <= n):\n",
    "        print(j, end = \" \")\n",
    "        j = j+1\n",
    "    print()\n",
    "    i = i+1"
   ]
  },
  {
   "cell_type": "markdown",
   "id": "53694a2d-2629-4b1c-bdd8-62a0e536ad43",
   "metadata": {},
   "source": [
    "4 3 2 1\n",
    "4 3 2 1\n",
    "4 3 2 1\n",
    "4 3 2 1\n"
   ]
  },
  {
   "cell_type": "code",
   "execution_count": 7,
   "id": "f860c2f3-3cb9-4ad4-ac57-92336ed3ee3b",
   "metadata": {},
   "outputs": [
    {
     "name": "stdin",
     "output_type": "stream",
     "text": [
      " 4\n"
     ]
    },
    {
     "name": "stdout",
     "output_type": "stream",
     "text": [
      "4 3 2 1 \n",
      "4 3 2 1 \n",
      "4 3 2 1 \n",
      "4 3 2 1 \n"
     ]
    }
   ],
   "source": [
    "n = int(input())\n",
    "i = 1\n",
    "while( i<=n ):\n",
    "    j = 1 ;\n",
    "    while(j <=n ):\n",
    "        print(n-j+1, end = \" \")\n",
    "        j = j + 1\n",
    "    print()\n",
    "    i = i+1\n",
    "        "
   ]
  }
 ],
 "metadata": {
  "kernelspec": {
   "display_name": "Python 3 (ipykernel)",
   "language": "python",
   "name": "python3"
  },
  "language_info": {
   "codemirror_mode": {
    "name": "ipython",
    "version": 3
   },
   "file_extension": ".py",
   "mimetype": "text/x-python",
   "name": "python",
   "nbconvert_exporter": "python",
   "pygments_lexer": "ipython3",
   "version": "3.11.7"
  }
 },
 "nbformat": 4,
 "nbformat_minor": 5
}
