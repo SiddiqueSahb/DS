{
 "cells": [
  {
   "cell_type": "markdown",
   "id": "69484e3d-0a95-471a-bb35-da724229dd8d",
   "metadata": {},
   "source": [
    "## Variables"
   ]
  },
  {
   "cell_type": "markdown",
   "id": "482c0a3c-ecb4-441c-8730-362e13845e3e",
   "metadata": {},
   "source": [
    "- Variables - storage area / container to hold data\n",
    "- Name given to a memory location in a program"
   ]
  },
  {
   "cell_type": "code",
   "execution_count": null,
   "id": "8c9df5e3-420a-4bf3-8c9e-fd9cd95ab0bf",
   "metadata": {},
   "outputs": [],
   "source": [
    "Syntax\n",
    "variable = value\n",
    "Value will get assigned to the variable"
   ]
  },
  {
   "cell_type": "code",
   "execution_count": 6,
   "id": "a631d249-cba9-410e-98b6-9c8efbe2348e",
   "metadata": {},
   "outputs": [],
   "source": [
    "name = \"John\"\n",
    "age = 25"
   ]
  },
  {
   "cell_type": "code",
   "execution_count": 7,
   "id": "b2bb615c-58c2-4b55-94dc-2380a4705384",
   "metadata": {},
   "outputs": [
    {
     "name": "stdout",
     "output_type": "stream",
     "text": [
      "John\n",
      "25\n"
     ]
    }
   ],
   "source": [
    "print(name)  # Accessing value of a variable\n",
    "print(age)   "
   ]
  },
  {
   "cell_type": "markdown",
   "id": "09fb97ac-685d-4a30-a5a4-e3da5e9affec",
   "metadata": {},
   "source": [
    "## Identifier"
   ]
  },
  {
   "cell_type": "markdown",
   "id": "96806e3c-039b-4def-b0a6-52507bf71b05",
   "metadata": {},
   "source": [
    "name of the variables / functions\n",
    "- Identifiers cannot start with digit\n",
    "- we cannot use special symbols in our identifier\n",
    "- Identifier can be of any length\n",
    "- Can be combination of uppercase, lowercase , digits or underscore(_)"
   ]
  },
  {
   "cell_type": "markdown",
   "id": "5af082cb-dbaf-4825-8bed-d50ed9c96ac0",
   "metadata": {},
   "source": [
    "## Datatypes"
   ]
  },
  {
   "cell_type": "markdown",
   "id": "3e7f8ea9-eca0-45d2-94bc-af8129b75e2e",
   "metadata": {},
   "source": [
    "- It specify the type of data that a variables hold\n",
    "- Primary datatypes - Integer, String, Float, Boolean, None"
   ]
  },
  {
   "cell_type": "code",
   "execution_count": 8,
   "id": "ebb889f0-b192-4853-89c0-58250b3fa8f4",
   "metadata": {},
   "outputs": [
    {
     "name": "stdout",
     "output_type": "stream",
     "text": [
      "<class 'str'>\n",
      "<class 'int'>\n"
     ]
    }
   ],
   "source": [
    "print(type(name))\n",
    "print(type(age))\n",
    "#Here, variable age is holding integer type of data"
   ]
  },
  {
   "cell_type": "markdown",
   "id": "54c901d2-50d2-45b0-b40d-3e82047ea5b5",
   "metadata": {},
   "source": [
    "## Keywords"
   ]
  },
  {
   "cell_type": "markdown",
   "id": "1a7909fe-b86a-4943-beb5-616cdf380208",
   "metadata": {},
   "source": [
    "Keywords are reserved keywords in python"
   ]
  },
  {
   "cell_type": "markdown",
   "id": "33bd591c-7927-49cc-be6d-5cb1fa948173",
   "metadata": {},
   "source": [
    "## Comments"
   ]
  },
  {
   "cell_type": "markdown",
   "id": "68892a0f-f6ab-4936-97a4-f02dc3f6fac0",
   "metadata": {},
   "source": [
    "#single line\n",
    "\n",
    "\"\"\" multi-line comment \"\"\""
   ]
  },
  {
   "cell_type": "markdown",
   "id": "65228d02-723a-4413-bd6a-c298c0880279",
   "metadata": {},
   "source": [
    "## Operators"
   ]
  },
  {
   "cell_type": "markdown",
   "id": "d486e7a0-3797-45c3-8fca-97e874eaa5d4",
   "metadata": {},
   "source": [
    "Operators are special symbols that perform operations on variables and values.\n",
    "- Arithmetic Operators\n",
    "- Assignment Operators\n",
    "- Comparison Operators\n",
    "- Logical Operators\n",
    "- Bitwise Operators\n",
    "- Special Operators"
   ]
  },
  {
   "cell_type": "markdown",
   "id": "5110dca6-6b04-47f8-bfce-a1951d912d6c",
   "metadata": {},
   "source": [
    "https://www.programiz.com/python-programming/operators"
   ]
  },
  {
   "cell_type": "markdown",
   "id": "2390a62c-8f19-410a-9399-32c2cfc1805c",
   "metadata": {},
   "source": [
    "## Type Conversion"
   ]
  },
  {
   "cell_type": "markdown",
   "id": "4ad0b7a6-a281-412c-ab93-bd16377bed6c",
   "metadata": {},
   "source": [
    "- To convert from one datatype to another datatype"
   ]
  },
  {
   "cell_type": "code",
   "execution_count": 10,
   "id": "2526453a-0e58-49d6-801e-59db08f2624e",
   "metadata": {},
   "outputs": [
    {
     "name": "stdout",
     "output_type": "stream",
     "text": [
      "<class 'str'>\n"
     ]
    },
    {
     "ename": "TypeError",
     "evalue": "can only concatenate str (not \"int\") to str",
     "output_type": "error",
     "traceback": [
      "\u001b[0;31m---------------------------------------------------------------------------\u001b[0m",
      "\u001b[0;31mTypeError\u001b[0m                                 Traceback (most recent call last)",
      "Cell \u001b[0;32mIn[10], line 4\u001b[0m\n\u001b[1;32m      2\u001b[0m b \u001b[38;5;241m=\u001b[39m \u001b[38;5;241m5\u001b[39m\n\u001b[1;32m      3\u001b[0m \u001b[38;5;28mprint\u001b[39m(\u001b[38;5;28mtype\u001b[39m(a))\n\u001b[0;32m----> 4\u001b[0m \u001b[38;5;28mprint\u001b[39m(a\u001b[38;5;241m+\u001b[39mb)\n",
      "\u001b[0;31mTypeError\u001b[0m: can only concatenate str (not \"int\") to str"
     ]
    }
   ],
   "source": [
    "a = \"2\"\n",
    "b = 5\n",
    "print(type(a))\n",
    "print(a+b)"
   ]
  },
  {
   "cell_type": "code",
   "execution_count": 11,
   "id": "e8981d2b-6425-401e-8e7a-30f8c6e81130",
   "metadata": {},
   "outputs": [
    {
     "name": "stdout",
     "output_type": "stream",
     "text": [
      "<class 'float'>\n",
      "7.0\n"
     ]
    }
   ],
   "source": [
    "a = float(\"2\")\n",
    "b = 5\n",
    "print(type(a))\n",
    "print(a+b)"
   ]
  },
  {
   "cell_type": "markdown",
   "id": "125826c6-10c8-40bc-af22-66f19e461132",
   "metadata": {},
   "source": [
    "## Input in python"
   ]
  },
  {
   "cell_type": "markdown",
   "id": "5358edcd-83fa-4d51-a4a6-8782b6c2b14c",
   "metadata": {},
   "source": [
    "input() used to accept values from the user\n",
    "- result for input() is always a string"
   ]
  },
  {
   "cell_type": "code",
   "execution_count": 15,
   "id": "0906ee6e-4ea9-4f53-ba49-be898dca0222",
   "metadata": {},
   "outputs": [
    {
     "name": "stdin",
     "output_type": "stream",
     "text": [
      "Enter your name John\n"
     ]
    },
    {
     "name": "stdout",
     "output_type": "stream",
     "text": [
      "John\n"
     ]
    }
   ],
   "source": [
    "name = input(\"Enter your name\")\n",
    "print(name)"
   ]
  },
  {
   "cell_type": "code",
   "execution_count": 16,
   "id": "4c01f577-b88e-4af1-bff8-3e3cd6950822",
   "metadata": {},
   "outputs": [
    {
     "name": "stdin",
     "output_type": "stream",
     "text": [
      "Enter your age 25\n"
     ]
    },
    {
     "name": "stdout",
     "output_type": "stream",
     "text": [
      "25\n",
      "<class 'str'>\n"
     ]
    }
   ],
   "source": [
    "age = input(\"Enter your age\")\n",
    "print(age)\n",
    "print(type(age))"
   ]
  },
  {
   "cell_type": "code",
   "execution_count": 17,
   "id": "00be82a3-03bf-4e21-96e2-301f04bda4d8",
   "metadata": {},
   "outputs": [
    {
     "name": "stdin",
     "output_type": "stream",
     "text": [
      "Enter your age 25\n"
     ]
    },
    {
     "name": "stdout",
     "output_type": "stream",
     "text": [
      "25\n",
      "<class 'int'>\n"
     ]
    }
   ],
   "source": [
    "age = int(input(\"Enter your age\"))\n",
    "print(age)\n",
    "print(type(age))"
   ]
  },
  {
   "cell_type": "markdown",
   "id": "91495a7f-143c-4a49-a3ec-93d8f1b13b8f",
   "metadata": {},
   "source": [
    "https://www.youtube.com/watch?v=t2_Q2BRzeEE&list=PLGjplNEQ1it8-0CmoljS5yeV-GlKSUEt0&index=1\n"
   ]
  }
 ],
 "metadata": {
  "kernelspec": {
   "display_name": "Python 3 (ipykernel)",
   "language": "python",
   "name": "python3"
  },
  "language_info": {
   "codemirror_mode": {
    "name": "ipython",
    "version": 3
   },
   "file_extension": ".py",
   "mimetype": "text/x-python",
   "name": "python",
   "nbconvert_exporter": "python",
   "pygments_lexer": "ipython3",
   "version": "3.11.7"
  }
 },
 "nbformat": 4,
 "nbformat_minor": 5
}
