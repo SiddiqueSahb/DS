{
 "cells": [
  {
   "cell_type": "markdown",
   "id": "fa2489ee-e855-42ec-b21d-77ac99c0fa6a",
   "metadata": {},
   "source": [
    "### String\n"
   ]
  },
  {
   "cell_type": "markdown",
   "id": "053d5e21-60da-4eb6-8008-86ceed5569f4",
   "metadata": {},
   "source": [
    "String -->  Sequence of characters\n",
    "They must be enclosed in single, double / triple quotes.\n",
    "Strings are immutable -> they cannot be changed, once they are created.\n",
    "\n",
    "There are no character types in python\n",
    "Single length string are considered as character\n",
    "\n",
    "Negative Indexing gives last element"
   ]
  },
  {
   "cell_type": "markdown",
   "id": "3011101c-e661-4c9a-ae9a-5fbeffc81bba",
   "metadata": {},
   "source": [
    "### How to create String"
   ]
  },
  {
   "cell_type": "code",
   "execution_count": 9,
   "id": "95c53ef5-fe8b-4cc6-8108-0657246bd392",
   "metadata": {},
   "outputs": [],
   "source": [
    "s = \"Arshad\""
   ]
  },
  {
   "cell_type": "code",
   "execution_count": 10,
   "id": "0fdcecdf-d95b-494c-b074-1fed4091c8da",
   "metadata": {},
   "outputs": [
    {
     "name": "stdout",
     "output_type": "stream",
     "text": [
      "Arshad\n"
     ]
    }
   ],
   "source": [
    "print(s)"
   ]
  },
  {
   "cell_type": "markdown",
   "id": "2967fdcb-e0e3-44a0-b4e0-fe686866af15",
   "metadata": {},
   "source": [
    "### Indexing"
   ]
  },
  {
   "cell_type": "code",
   "execution_count": 11,
   "id": "32dd2481-53f8-4ffc-92ff-394f1618da3b",
   "metadata": {},
   "outputs": [
    {
     "data": {
      "text/plain": [
       "'A'"
      ]
     },
     "execution_count": 11,
     "metadata": {},
     "output_type": "execute_result"
    }
   ],
   "source": [
    "s[0]"
   ]
  },
  {
   "cell_type": "code",
   "execution_count": 12,
   "id": "c3cf6acf-83b9-4de0-b099-6658232a9550",
   "metadata": {},
   "outputs": [
    {
     "data": {
      "text/plain": [
       "'r'"
      ]
     },
     "execution_count": 12,
     "metadata": {},
     "output_type": "execute_result"
    }
   ],
   "source": [
    "s[1]"
   ]
  },
  {
   "cell_type": "markdown",
   "id": "1076f42e-c016-4f22-a5d8-1b290fc11908",
   "metadata": {},
   "source": [
    "### Negative Indexing"
   ]
  },
  {
   "cell_type": "code",
   "execution_count": 13,
   "id": "3ca15c27-e942-4a50-8d64-7dc421a97251",
   "metadata": {},
   "outputs": [
    {
     "data": {
      "text/plain": [
       "'d'"
      ]
     },
     "execution_count": 13,
     "metadata": {},
     "output_type": "execute_result"
    }
   ],
   "source": [
    "s[-1]"
   ]
  },
  {
   "cell_type": "code",
   "execution_count": 14,
   "id": "fd1f508f-0a0b-4563-97af-86aa1d62da4f",
   "metadata": {},
   "outputs": [
    {
     "data": {
      "text/plain": [
       "'a'"
      ]
     },
     "execution_count": 14,
     "metadata": {},
     "output_type": "execute_result"
    }
   ],
   "source": [
    "s[-2]"
   ]
  },
  {
   "cell_type": "markdown",
   "id": "931e6c34-c499-4558-a86e-06fc9e08ab38",
   "metadata": {},
   "source": [
    "### Single length String"
   ]
  },
  {
   "cell_type": "code",
   "execution_count": 15,
   "id": "91c22d6e-3e77-464a-a429-e4b36ad248c0",
   "metadata": {},
   "outputs": [
    {
     "data": {
      "text/plain": [
       "str"
      ]
     },
     "execution_count": 15,
     "metadata": {},
     "output_type": "execute_result"
    }
   ],
   "source": [
    "s = 'a'\n",
    "type(s)"
   ]
  },
  {
   "cell_type": "markdown",
   "id": "a2fcf748-2e56-4faf-bbcb-656dc5dbd1a3",
   "metadata": {},
   "source": [
    "### How Strings are stored"
   ]
  },
  {
   "cell_type": "markdown",
   "id": "303ab044-2527-4fde-8540-6decd8c101bb",
   "metadata": {},
   "source": [
    "Variable name has reference to a variable\n",
    "\n",
    "It just point to memory location\n",
    "\n",
    "when you write print(a) -> It goes to that memory location and print the content in it.\n"
   ]
  },
  {
   "cell_type": "markdown",
   "id": "b180bd46-7e25-4f07-8b4e-dc30283256a5",
   "metadata": {},
   "source": [
    "### String Concatenation"
   ]
  },
  {
   "cell_type": "markdown",
   "id": "c89b968b-a4b6-444c-aca0-5e702dd0c5f5",
   "metadata": {},
   "source": [
    "String concatenation means adding something to string\n",
    "\n",
    "Concatenation happens using plus operator\n"
   ]
  },
  {
   "cell_type": "code",
   "execution_count": 3,
   "id": "17bb15af-1f8c-41c8-8c10-7a49e055b3b9",
   "metadata": {},
   "outputs": [
    {
     "name": "stdout",
     "output_type": "stream",
     "text": [
      "red\n"
     ]
    }
   ],
   "source": [
    "a = \"red\"\n",
    "print(a)\n"
   ]
  },
  {
   "cell_type": "code",
   "execution_count": 11,
   "id": "2e5f0b8d-cd80-49f7-848e-afc3c728cb3b",
   "metadata": {},
   "outputs": [
    {
     "name": "stdout",
     "output_type": "stream",
     "text": [
      "redblueblueblueblueblueblueblueblue\n"
     ]
    }
   ],
   "source": [
    "a = a + \"blue\"\n",
    "print(a)"
   ]
  },
  {
   "cell_type": "code",
   "execution_count": null,
   "id": "05d76932-fcc8-4dd4-8362-44897b77b6c7",
   "metadata": {},
   "outputs": [],
   "source": [
    "a = a*3\n",
    "### same string will be repeated three times"
   ]
  },
  {
   "cell_type": "code",
   "execution_count": 12,
   "id": "dff59c00-d933-46d1-93d6-c9fcdf92ca5c",
   "metadata": {},
   "outputs": [
    {
     "data": {
      "text/plain": [
       "'redblueblueblueblueblueblueblueblue'"
      ]
     },
     "execution_count": 12,
     "metadata": {},
     "output_type": "execute_result"
    }
   ],
   "source": [
    "a"
   ]
  },
  {
   "cell_type": "code",
   "execution_count": 13,
   "id": "aa8498a7-047b-45ea-a144-cb17cc0ebfdb",
   "metadata": {},
   "outputs": [
    {
     "ename": "TypeError",
     "evalue": "can only concatenate str (not \"int\") to str",
     "output_type": "error",
     "traceback": [
      "\u001b[0;31m---------------------------------------------------------------------------\u001b[0m",
      "\u001b[0;31mTypeError\u001b[0m                                 Traceback (most recent call last)",
      "Cell \u001b[0;32mIn[13], line 2\u001b[0m\n\u001b[1;32m      1\u001b[0m \u001b[38;5;66;03m# You cannot add an int to string\u001b[39;00m\n\u001b[0;32m----> 2\u001b[0m a \u001b[38;5;241m=\u001b[39m a \u001b[38;5;241m+\u001b[39m \u001b[38;5;241m3\u001b[39m\n",
      "\u001b[0;31mTypeError\u001b[0m: can only concatenate str (not \"int\") to str"
     ]
    }
   ],
   "source": [
    "# You cannot add an int to string\n",
    "a = a + 3"
   ]
  },
  {
   "cell_type": "code",
   "execution_count": 16,
   "id": "9a00e501-49ff-4d7a-a2ef-1d4b81476727",
   "metadata": {},
   "outputs": [
    {
     "data": {
      "text/plain": [
       "'redblueblueblueblueblueblueblueblue333'"
      ]
     },
     "execution_count": 16,
     "metadata": {},
     "output_type": "execute_result"
    }
   ],
   "source": [
    "# Convert int into str using str(), then append it\n",
    "a = a + str(3)\n",
    "a"
   ]
  },
  {
   "cell_type": "markdown",
   "id": "f8bfd3e0-d29f-4224-af8d-ca80d30b4338",
   "metadata": {},
   "source": [
    "### String Slicing"
   ]
  },
  {
   "cell_type": "code",
   "execution_count": 1,
   "id": "1cec90df-67ef-4e24-8af4-5eda929157f5",
   "metadata": {},
   "outputs": [],
   "source": [
    "s=\"Arshad\""
   ]
  },
  {
   "cell_type": "code",
   "execution_count": 2,
   "id": "f35e1601-102c-42b9-bbec-c45e17b070ed",
   "metadata": {},
   "outputs": [
    {
     "data": {
      "text/plain": [
       "'rsh'"
      ]
     },
     "execution_count": 2,
     "metadata": {},
     "output_type": "execute_result"
    }
   ],
   "source": [
    "s[1:4]"
   ]
  },
  {
   "cell_type": "code",
   "execution_count": 3,
   "id": "0becd731-c2e6-4eac-a3ce-9dbb1f40c71f",
   "metadata": {},
   "outputs": [
    {
     "data": {
      "text/plain": [
       "'rh'"
      ]
     },
     "execution_count": 3,
     "metadata": {},
     "output_type": "execute_result"
    }
   ],
   "source": [
    "s[1:4:2]"
   ]
  },
  {
   "cell_type": "code",
   "execution_count": 4,
   "id": "98ea9282-0233-427f-8ce6-daf25fa558ce",
   "metadata": {},
   "outputs": [
    {
     "data": {
      "text/plain": [
       "'ah'"
      ]
     },
     "execution_count": 4,
     "metadata": {},
     "output_type": "execute_result"
    }
   ],
   "source": [
    "s[4:2:-1]"
   ]
  },
  {
   "cell_type": "markdown",
   "id": "030c20d8-7c56-40e8-949f-226239bd1be0",
   "metadata": {},
   "source": [
    "### Iterating on String"
   ]
  },
  {
   "cell_type": "code",
   "execution_count": 5,
   "id": "85b22e13-e062-46af-b82a-6d8e10cb96bc",
   "metadata": {},
   "outputs": [],
   "source": [
    "str = \"Arshad Siddique\""
   ]
  },
  {
   "cell_type": "code",
   "execution_count": 8,
   "id": "7759e243-cb34-4da4-9475-b36b0812d09c",
   "metadata": {},
   "outputs": [
    {
     "name": "stdout",
     "output_type": "stream",
     "text": [
      "3\n"
     ]
    }
   ],
   "source": [
    "count = 0\n",
    "for letter in str:\n",
    "    if letter == 'd':\n",
    "        count+=1\n",
    "print(count)"
   ]
  },
  {
   "cell_type": "code",
   "execution_count": 11,
   "id": "b0134625-b24d-4598-9484-4ae8f34bab65",
   "metadata": {},
   "outputs": [
    {
     "name": "stdout",
     "output_type": "stream",
     "text": [
      "3\n"
     ]
    }
   ],
   "source": [
    "count = 0\n",
    "for letter in range(len(str)):\n",
    "    if str[letter] == 'd':\n",
    "        count+=1\n",
    "print(count)"
   ]
  },
  {
   "cell_type": "markdown",
   "id": "6276a1a3-b5da-4cce-ba0f-29513a505de6",
   "metadata": {},
   "source": [
    "### in & not in operation on string"
   ]
  },
  {
   "cell_type": "code",
   "execution_count": 12,
   "id": "4a391db5-17e4-43ef-9793-02cb3e1d966e",
   "metadata": {},
   "outputs": [],
   "source": [
    "str = \"Arshad\"\n"
   ]
  },
  {
   "cell_type": "code",
   "execution_count": 14,
   "id": "d00d2ec7-7489-4f65-b7ff-e0dff1522d3b",
   "metadata": {},
   "outputs": [
    {
     "name": "stdout",
     "output_type": "stream",
     "text": [
      "It is a substring\n"
     ]
    }
   ],
   "source": [
    "if \"Arsh\" in str:\n",
    "    print(\"It is a substring\")\n",
    "else:\n",
    "    print(\"It is not a substring\")"
   ]
  },
  {
   "cell_type": "raw",
   "id": "c6857248-b0f1-4d7c-bc95-6da6c26b7153",
   "metadata": {},
   "source": [
    "in --> checks a substring\n",
    "not in --> checks not a substring"
   ]
  },
  {
   "cell_type": "markdown",
   "id": "0c571762-b5f9-443b-8262-f5ae7aea1f4f",
   "metadata": {},
   "source": [
    "### Comparison Operator on String"
   ]
  },
  {
   "cell_type": "markdown",
   "id": "4043d001-3415-4ec0-a240-3fbe8510b52a",
   "metadata": {},
   "source": [
    "< > <= >= == !=\n",
    "\n",
    "It will compare character by character & see values are equal\n",
    "They are compared on the basis of ASCII value\n",
    "Every character has ASCII value\n",
    "If all the character are same, whoever length is greater will be greater"
   ]
  },
  {
   "cell_type": "code",
   "execution_count": 2,
   "id": "4d135424-6a71-4396-a647-e2302544a424",
   "metadata": {},
   "outputs": [
    {
     "name": "stdout",
     "output_type": "stream",
     "text": [
      "True\n"
     ]
    }
   ],
   "source": [
    "a = \"abce\" >= \"abcdef\"\n",
    "print(a)"
   ]
  },
  {
   "cell_type": "markdown",
   "id": "595d3a77-a746-40a7-a3a7-492dcd070b14",
   "metadata": {},
   "source": [
    "### Operation on Strings"
   ]
  },
  {
   "cell_type": "markdown",
   "id": "dd830d62-b28c-4e07-8f61-52ea368e484e",
   "metadata": {},
   "source": [
    "### replace()"
   ]
  },
  {
   "cell_type": "markdown",
   "id": "f5cc870d-6081-4ef1-8f4e-640321705fd8",
   "metadata": {},
   "source": [
    "replace - replace string with another string\n",
    "It returns a new string"
   ]
  },
  {
   "cell_type": "code",
   "execution_count": 5,
   "id": "094b0bf4-a9cb-4dfb-8389-b8910b073805",
   "metadata": {},
   "outputs": [
    {
     "name": "stdout",
     "output_type": "stream",
     "text": [
      "My name is Arshad\n"
     ]
    }
   ],
   "source": [
    "str = \"My name is Parikh\"\n",
    "str = str.replace(\"Parikh\",\"Arshad\")\n",
    "print(str)\n",
    "\n",
    "# I want to replace Parikh with Rohan\n",
    "# How many times you want to replace "
   ]
  },
  {
   "cell_type": "code",
   "execution_count": 6,
   "id": "a91b23a5-3e07-4aa0-8769-0170d5ef727c",
   "metadata": {},
   "outputs": [
    {
     "name": "stdout",
     "output_type": "stream",
     "text": [
      "My name is Arshad Parikh\n"
     ]
    }
   ],
   "source": [
    "str = \"My name is Parikh Parikh\"\n",
    "str = str.replace(\"Parikh\",\"Arshad\",1)\n",
    "print(str)\n",
    "\n",
    "# I want to replace Parikh with Rohan\n",
    "# How many times you want to replace "
   ]
  },
  {
   "cell_type": "markdown",
   "id": "2678d63f-e96a-4967-9f7e-6f6cd2afa6cc",
   "metadata": {},
   "source": [
    "### find()"
   ]
  },
  {
   "cell_type": "markdown",
   "id": "8cf31d2d-7796-45d2-a605-0f70c647f163",
   "metadata": {},
   "source": [
    "find - \n",
    "find something in a string\n",
    "It actually finds a substring in a string\n",
    "It returns the index of that substring"
   ]
  },
  {
   "cell_type": "code",
   "execution_count": 7,
   "id": "ed0ebce5-33f0-4172-82bc-a5f441b43f0d",
   "metadata": {},
   "outputs": [
    {
     "name": "stdout",
     "output_type": "stream",
     "text": [
      "11\n"
     ]
    }
   ],
   "source": [
    "str = \"My Name is Arshad\"\n",
    "index = str.find(\"Ars\")\n",
    "print(index)"
   ]
  },
  {
   "cell_type": "markdown",
   "id": "55aa84ce-ee7c-4a55-a719-04d273b16052",
   "metadata": {},
   "source": [
    "### lower()"
   ]
  },
  {
   "cell_type": "markdown",
   "id": "a72feaf7-89bc-4aef-8710-94d04467c1af",
   "metadata": {},
   "source": [
    "lower -\n",
    "It converts all the string into lowercase"
   ]
  },
  {
   "cell_type": "code",
   "execution_count": 10,
   "id": "dac33234-9d04-4a3d-9ce2-4f8377188736",
   "metadata": {},
   "outputs": [
    {
     "name": "stdout",
     "output_type": "stream",
     "text": [
      "my name is arshad\n"
     ]
    }
   ],
   "source": [
    "str = \"My Name is Arshad\"\n",
    "str = str.lower()\n",
    "print(str)"
   ]
  },
  {
   "cell_type": "markdown",
   "id": "f3de56b1-ba37-4179-baca-e84df5180d12",
   "metadata": {},
   "source": [
    "### upper()"
   ]
  },
  {
   "cell_type": "markdown",
   "id": "d562434a-0397-4609-9348-545a54f00b0a",
   "metadata": {},
   "source": [
    "upper -\n",
    "It converts all the string into uppercase"
   ]
  },
  {
   "cell_type": "code",
   "execution_count": 12,
   "id": "13bdd7e8-a9f3-4e88-b2a6-7cbf17023eb8",
   "metadata": {},
   "outputs": [
    {
     "name": "stdout",
     "output_type": "stream",
     "text": [
      "MY NAME IS ARSHAD\n"
     ]
    }
   ],
   "source": [
    "str = \"My Name is Arshad\"\n",
    "str = str.upper()\n",
    "print(str)"
   ]
  },
  {
   "cell_type": "markdown",
   "id": "18e51e3e-cf44-49b3-8a4d-ae8e3e67d69b",
   "metadata": {},
   "source": [
    "### split()"
   ]
  },
  {
   "cell_type": "markdown",
   "id": "f6d595f6-9ccd-4cf5-a57a-cd37c9dbc555",
   "metadata": {},
   "source": [
    "It returns a list of strings.\n",
    "If you don't pass any delimiter, then it will automatically split on the basis of space.\n",
    "If you pass delimiter, it will split on the basis of delimiter.\n",
    "How many times you want to split\n"
   ]
  },
  {
   "cell_type": "code",
   "execution_count": 17,
   "id": "fc8070eb-b7c8-4b83-b2d1-1bdd14a984b0",
   "metadata": {},
   "outputs": [
    {
     "name": "stdout",
     "output_type": "stream",
     "text": [
      "['My', 'Name is Arshad']\n"
     ]
    }
   ],
   "source": [
    "str = \"My Name is Arshad\"\n",
    "str = str.split(' ',1)\n",
    "print(str)\n",
    "\n",
    "# If we pass one, it will split into two elements\n",
    "# If we pass two, it will split into three elements"
   ]
  }
 ],
 "metadata": {
  "kernelspec": {
   "display_name": "Python 3 (ipykernel)",
   "language": "python",
   "name": "python3"
  },
  "language_info": {
   "codemirror_mode": {
    "name": "ipython",
    "version": 3
   },
   "file_extension": ".py",
   "mimetype": "text/x-python",
   "name": "python",
   "nbconvert_exporter": "python",
   "pygments_lexer": "ipython3",
   "version": "3.11.7"
  }
 },
 "nbformat": 4,
 "nbformat_minor": 5
}
