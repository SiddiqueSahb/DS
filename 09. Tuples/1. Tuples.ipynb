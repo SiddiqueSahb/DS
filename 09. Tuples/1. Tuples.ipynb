{
 "cells": [
  {
   "cell_type": "markdown",
   "id": "b0e9ab31-0a45-471c-bc5b-f2959ce01e4c",
   "metadata": {},
   "source": [
    "## Tuples"
   ]
  },
  {
   "cell_type": "markdown",
   "id": "89fbe34c-5ca2-4a9f-9b32-88cc9dd13b41",
   "metadata": {},
   "source": [
    "Tuples are collection of items which are indexed, ordered & immutable (immutable means - we cannot make any changes to tuple)\n",
    "\n",
    "Tuples are wrapped within round brackets"
   ]
  },
  {
   "cell_type": "markdown",
   "id": "5b17dae8-7193-4050-9c63-3802d8aedfd1",
   "metadata": {},
   "source": [
    "Each item has an index,\n",
    "we can access them using the index\n",
    "\n",
    "We cannot change,add or remove element of tuple bcz it is immutable\n",
    "\n",
    "list - mutable\n",
    "tuples - immutable"
   ]
  },
  {
   "cell_type": "markdown",
   "id": "6cd6aeec-3f4a-440a-8f78-1ba6dd9df023",
   "metadata": {},
   "source": [
    "### Syntax"
   ]
  },
  {
   "cell_type": "markdown",
   "id": "48c7a7d0-7923-4b20-be10-649935916ccb",
   "metadata": {},
   "source": [
    "### tuple_name = ( item1, item2, item3 )"
   ]
  },
  {
   "cell_type": "code",
   "execution_count": 1,
   "id": "183d761e-6523-4dc1-a84a-395d11fc35da",
   "metadata": {},
   "outputs": [],
   "source": [
    "car = ('Audi','BMW','Merecedes')"
   ]
  },
  {
   "cell_type": "markdown",
   "id": "e0ac1d74-5b84-47f7-a5fe-095215677fdf",
   "metadata": {},
   "source": [
    "### Access"
   ]
  },
  {
   "cell_type": "code",
   "execution_count": 3,
   "id": "f96a34ab-8f61-4aa9-aaeb-839eea592609",
   "metadata": {},
   "outputs": [
    {
     "data": {
      "text/plain": [
       "'Audi'"
      ]
     },
     "execution_count": 3,
     "metadata": {},
     "output_type": "execute_result"
    }
   ],
   "source": [
    "car[0]\n",
    "# we are trying to access element at index 0"
   ]
  },
  {
   "cell_type": "code",
   "execution_count": 5,
   "id": "0c66b72e-7e9b-40ce-85c4-f0d9a4381f2b",
   "metadata": {},
   "outputs": [
    {
     "ename": "TypeError",
     "evalue": "'tuple' object does not support item assignment",
     "output_type": "error",
     "traceback": [
      "\u001b[0;31m---------------------------------------------------------------------------\u001b[0m",
      "\u001b[0;31mTypeError\u001b[0m                                 Traceback (most recent call last)",
      "Cell \u001b[0;32mIn[5], line 1\u001b[0m\n\u001b[0;32m----> 1\u001b[0m car[\u001b[38;5;241m0\u001b[39m] \u001b[38;5;241m=\u001b[39m \u001b[38;5;124m'\u001b[39m\u001b[38;5;124mFerrari\u001b[39m\u001b[38;5;124m'\u001b[39m\n",
      "\u001b[0;31mTypeError\u001b[0m: 'tuple' object does not support item assignment"
     ]
    }
   ],
   "source": [
    "car[0] = 'Ferrari'\n",
    "# Here, we are tring to replace Audi with ferrari using assignment operator"
   ]
  },
  {
   "cell_type": "markdown",
   "id": "90eb1dc3-b7b5-48ed-b210-aa6f5e885e08",
   "metadata": {},
   "source": [
    "### Tuples can have duplicates"
   ]
  },
  {
   "cell_type": "code",
   "execution_count": 7,
   "id": "597ea971-7758-487f-aba7-35ecd305ca6a",
   "metadata": {},
   "outputs": [],
   "source": [
    "car = ('Audi','BMW','Merecedes','Merecedes')"
   ]
  },
  {
   "cell_type": "code",
   "execution_count": 8,
   "id": "04039273-9ec4-4fcb-9604-997f210becbe",
   "metadata": {},
   "outputs": [
    {
     "data": {
      "text/plain": [
       "('Audi', 'BMW', 'Merecedes', 'Merecedes')"
      ]
     },
     "execution_count": 8,
     "metadata": {},
     "output_type": "execute_result"
    }
   ],
   "source": [
    "car"
   ]
  },
  {
   "cell_type": "markdown",
   "id": "43f4de11-dbce-40b4-a7e9-80c650e64865",
   "metadata": {},
   "source": [
    "### Tuple with one item"
   ]
  },
  {
   "cell_type": "code",
   "execution_count": 9,
   "id": "7658d4de-ff48-4438-b6ed-4855ff65424b",
   "metadata": {},
   "outputs": [],
   "source": [
    "car  = ('Audi',)"
   ]
  },
  {
   "cell_type": "code",
   "execution_count": 10,
   "id": "0b51dbc1-914b-49d6-8019-b2d86502cc82",
   "metadata": {},
   "outputs": [
    {
     "data": {
      "text/plain": [
       "('Audi',)"
      ]
     },
     "execution_count": 10,
     "metadata": {},
     "output_type": "execute_result"
    }
   ],
   "source": [
    "car"
   ]
  },
  {
   "cell_type": "markdown",
   "id": "7b492d8b-a5a7-4a76-be1a-e6dee052acf6",
   "metadata": {},
   "source": [
    "### Length of tuple"
   ]
  },
  {
   "cell_type": "code",
   "execution_count": 11,
   "id": "c416fdc3-e415-4482-933e-105a8d8d33ba",
   "metadata": {},
   "outputs": [
    {
     "data": {
      "text/plain": [
       "1"
      ]
     },
     "execution_count": 11,
     "metadata": {},
     "output_type": "execute_result"
    }
   ],
   "source": [
    "len(car)\n",
    "#We can determine the length of tuple using the len() function"
   ]
  },
  {
   "cell_type": "markdown",
   "id": "d11904f9-83d3-4a27-9bd1-1874593fecb9",
   "metadata": {},
   "source": [
    "### Tuple Constructor - tuple() "
   ]
  },
  {
   "cell_type": "markdown",
   "id": "b55d8c34-6127-4a87-bd7a-8ff90d274ce2",
   "metadata": {},
   "source": [
    "It is an alternative way to create a tuple"
   ]
  },
  {
   "cell_type": "code",
   "execution_count": 18,
   "id": "e7ebb12a-24f5-4265-a2d0-e7e827785c48",
   "metadata": {},
   "outputs": [],
   "source": [
    "cars  = tuple(('Audi','Merecedes','BMW'))"
   ]
  },
  {
   "cell_type": "code",
   "execution_count": 19,
   "id": "1f39f069-a3d4-478d-bf96-fcac0b680754",
   "metadata": {},
   "outputs": [
    {
     "data": {
      "text/plain": [
       "('Audi', 'Merecedes', 'BMW')"
      ]
     },
     "execution_count": 19,
     "metadata": {},
     "output_type": "execute_result"
    }
   ],
   "source": [
    "cars"
   ]
  }
 ],
 "metadata": {
  "kernelspec": {
   "display_name": "Python 3 (ipykernel)",
   "language": "python",
   "name": "python3"
  },
  "language_info": {
   "codemirror_mode": {
    "name": "ipython",
    "version": 3
   },
   "file_extension": ".py",
   "mimetype": "text/x-python",
   "name": "python",
   "nbconvert_exporter": "python",
   "pygments_lexer": "ipython3",
   "version": "3.11.7"
  }
 },
 "nbformat": 4,
 "nbformat_minor": 5
}
