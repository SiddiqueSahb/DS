{
 "cells": [
  {
   "cell_type": "markdown",
   "id": "61616f03-2a78-45e2-8d1b-b4c53bcb67af",
   "metadata": {},
   "source": [
    "### Unpacking a tuple"
   ]
  },
  {
   "cell_type": "markdown",
   "id": "52bfd2cd-409d-4bd3-b7e6-b481851d7c81",
   "metadata": {},
   "source": [
    "Packing means assigning values to a tuple\n",
    "\n",
    "Unpacking means extracting values of a tuple"
   ]
  },
  {
   "cell_type": "code",
   "execution_count": 1,
   "id": "d3fcfbed-8773-4b72-b172-4b5a7e1a35b2",
   "metadata": {},
   "outputs": [],
   "source": [
    "cars = ('Audi','BMW','Mercedes','Ferarri','Lambo')"
   ]
  },
  {
   "cell_type": "code",
   "execution_count": 2,
   "id": "e817c43e-9b96-42f5-8f69-7578a647f42e",
   "metadata": {},
   "outputs": [
    {
     "data": {
      "text/plain": [
       "('Audi', 'BMW', 'Mercedes', 'Ferarri', 'Lambo')"
      ]
     },
     "execution_count": 2,
     "metadata": {},
     "output_type": "execute_result"
    }
   ],
   "source": [
    "cars"
   ]
  },
  {
   "cell_type": "code",
   "execution_count": 3,
   "id": "b233f8b7-3867-4267-a742-a63fd684a798",
   "metadata": {},
   "outputs": [],
   "source": [
    "car1,car2,car3,car4,car5 = cars\n",
    "#car1 will recieve Audi\n",
    "#car2 will recieve BMW\n",
    "#car3 will recieve Mercedes\n",
    "#car4 will recieve Ferarri\n",
    "#car5 will recieve Lambo"
   ]
  },
  {
   "cell_type": "code",
   "execution_count": 4,
   "id": "f581b6f3-3189-4ebe-aa67-a70b9fee5638",
   "metadata": {},
   "outputs": [
    {
     "data": {
      "text/plain": [
       "'Audi'"
      ]
     },
     "execution_count": 4,
     "metadata": {},
     "output_type": "execute_result"
    }
   ],
   "source": [
    "car1"
   ]
  },
  {
   "cell_type": "code",
   "execution_count": 5,
   "id": "01fc76c6-0a11-4ba9-ac51-4d517eb091d5",
   "metadata": {},
   "outputs": [
    {
     "data": {
      "text/plain": [
       "'BMW'"
      ]
     },
     "execution_count": 5,
     "metadata": {},
     "output_type": "execute_result"
    }
   ],
   "source": [
    "car2"
   ]
  },
  {
   "cell_type": "code",
   "execution_count": 6,
   "id": "f07e0de2-1515-4aa1-9d4f-25262615fd47",
   "metadata": {},
   "outputs": [
    {
     "data": {
      "text/plain": [
       "'Mercedes'"
      ]
     },
     "execution_count": 6,
     "metadata": {},
     "output_type": "execute_result"
    }
   ],
   "source": [
    "car3"
   ]
  },
  {
   "cell_type": "code",
   "execution_count": 7,
   "id": "3b43970c-fdb6-49ef-ab33-1305a3ce0696",
   "metadata": {},
   "outputs": [
    {
     "data": {
      "text/plain": [
       "'Ferarri'"
      ]
     },
     "execution_count": 7,
     "metadata": {},
     "output_type": "execute_result"
    }
   ],
   "source": [
    "car4"
   ]
  },
  {
   "cell_type": "code",
   "execution_count": 8,
   "id": "9ebaefe4-6ab0-4807-807b-ff68afb5d27a",
   "metadata": {},
   "outputs": [
    {
     "data": {
      "text/plain": [
       "'Lambo'"
      ]
     },
     "execution_count": 8,
     "metadata": {},
     "output_type": "execute_result"
    }
   ],
   "source": [
    "car5"
   ]
  },
  {
   "cell_type": "markdown",
   "id": "8d80d656-0f2d-494e-87b8-bc7ea4ecc505",
   "metadata": {},
   "source": [
    "### Use of asterik"
   ]
  },
  {
   "cell_type": "code",
   "execution_count": null,
   "id": "acbf0b64-ba78-480e-b648-bea183c1634e",
   "metadata": {},
   "outputs": [],
   "source": [
    "#We use asterik, when the number of variables are less than the value of a tuple"
   ]
  },
  {
   "cell_type": "code",
   "execution_count": 9,
   "id": "5b4394d6-c875-4b0e-af17-7fd0e1cade91",
   "metadata": {},
   "outputs": [],
   "source": [
    "car1,car2,*car3 = cars"
   ]
  },
  {
   "cell_type": "code",
   "execution_count": 10,
   "id": "57b2cd45-6a07-457e-93a9-b508eb3dd845",
   "metadata": {},
   "outputs": [
    {
     "data": {
      "text/plain": [
       "['Mercedes', 'Ferarri', 'Lambo']"
      ]
     },
     "execution_count": 10,
     "metadata": {},
     "output_type": "execute_result"
    }
   ],
   "source": [
    "car3"
   ]
  }
 ],
 "metadata": {
  "kernelspec": {
   "display_name": "Python 3 (ipykernel)",
   "language": "python",
   "name": "python3"
  },
  "language_info": {
   "codemirror_mode": {
    "name": "ipython",
    "version": 3
   },
   "file_extension": ".py",
   "mimetype": "text/x-python",
   "name": "python",
   "nbconvert_exporter": "python",
   "pygments_lexer": "ipython3",
   "version": "3.11.7"
  }
 },
 "nbformat": 4,
 "nbformat_minor": 5
}
