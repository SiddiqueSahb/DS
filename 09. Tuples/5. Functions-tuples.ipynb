{
 "cells": [
  {
   "cell_type": "code",
   "execution_count": 1,
   "id": "e1f53585-2ccf-4a1d-9573-2a82919f9b2a",
   "metadata": {},
   "outputs": [],
   "source": [
    "c,d = 1,2"
   ]
  },
  {
   "cell_type": "code",
   "execution_count": 2,
   "id": "30bf7228-775a-4823-97b4-d84cbdb654ab",
   "metadata": {},
   "outputs": [
    {
     "data": {
      "text/plain": [
       "1"
      ]
     },
     "execution_count": 2,
     "metadata": {},
     "output_type": "execute_result"
    }
   ],
   "source": [
    "c"
   ]
  },
  {
   "cell_type": "code",
   "execution_count": 3,
   "id": "e2167d2c-7d78-47f1-8109-826fca6bccf1",
   "metadata": {},
   "outputs": [
    {
     "data": {
      "text/plain": [
       "2"
      ]
     },
     "execution_count": 3,
     "metadata": {},
     "output_type": "execute_result"
    }
   ],
   "source": [
    "d"
   ]
  },
  {
   "cell_type": "code",
   "execution_count": 4,
   "id": "cde02071-a97a-436e-aba5-dd68ae0f39e1",
   "metadata": {},
   "outputs": [],
   "source": [
    "a = (1,2,3)"
   ]
  },
  {
   "cell_type": "code",
   "execution_count": 5,
   "id": "79337d06-b6d0-479a-bf3b-520ce28e4bb7",
   "metadata": {},
   "outputs": [],
   "source": [
    "b = 4,5"
   ]
  },
  {
   "cell_type": "code",
   "execution_count": 6,
   "id": "e262fbe7-17af-458a-9849-e68e40072cb3",
   "metadata": {},
   "outputs": [
    {
     "data": {
      "text/plain": [
       "True"
      ]
     },
     "execution_count": 6,
     "metadata": {},
     "output_type": "execute_result"
    }
   ],
   "source": [
    "1 in a"
   ]
  },
  {
   "cell_type": "code",
   "execution_count": 7,
   "id": "3137299f-0730-4bc5-978c-e96c50a31694",
   "metadata": {},
   "outputs": [
    {
     "data": {
      "text/plain": [
       "False"
      ]
     },
     "execution_count": 7,
     "metadata": {},
     "output_type": "execute_result"
    }
   ],
   "source": [
    "2 in b"
   ]
  },
  {
   "cell_type": "code",
   "execution_count": 8,
   "id": "10bdbff3-1670-4d4d-9bb6-2180f29e2a01",
   "metadata": {},
   "outputs": [
    {
     "data": {
      "text/plain": [
       "3"
      ]
     },
     "execution_count": 8,
     "metadata": {},
     "output_type": "execute_result"
    }
   ],
   "source": [
    "len(a)"
   ]
  },
  {
   "cell_type": "code",
   "execution_count": 9,
   "id": "5f5c31f8-2f88-47d8-b634-498f4402e438",
   "metadata": {},
   "outputs": [],
   "source": [
    "c = a + b"
   ]
  },
  {
   "cell_type": "code",
   "execution_count": 10,
   "id": "4a2d4baa-926f-44a1-8e98-ac1847ca7741",
   "metadata": {},
   "outputs": [
    {
     "data": {
      "text/plain": [
       "(1, 2, 3, 4, 5)"
      ]
     },
     "execution_count": 10,
     "metadata": {},
     "output_type": "execute_result"
    }
   ],
   "source": [
    "c"
   ]
  },
  {
   "cell_type": "code",
   "execution_count": 13,
   "id": "4ab0c44e-1c88-448c-9cbd-380a00a97798",
   "metadata": {},
   "outputs": [],
   "source": [
    "d = (a,b)  #tuples of tuples"
   ]
  },
  {
   "cell_type": "code",
   "execution_count": 14,
   "id": "54ff6fe0-443a-4547-a1af-8c3b90057f9c",
   "metadata": {},
   "outputs": [
    {
     "data": {
      "text/plain": [
       "((1, 2, 3), (4, 5))"
      ]
     },
     "execution_count": 14,
     "metadata": {},
     "output_type": "execute_result"
    }
   ],
   "source": [
    "d"
   ]
  }
 ],
 "metadata": {
  "kernelspec": {
   "display_name": "Python 3 (ipykernel)",
   "language": "python",
   "name": "python3"
  },
  "language_info": {
   "codemirror_mode": {
    "name": "ipython",
    "version": 3
   },
   "file_extension": ".py",
   "mimetype": "text/x-python",
   "name": "python",
   "nbconvert_exporter": "python",
   "pygments_lexer": "ipython3",
   "version": "3.11.7"
  }
 },
 "nbformat": 4,
 "nbformat_minor": 5
}
