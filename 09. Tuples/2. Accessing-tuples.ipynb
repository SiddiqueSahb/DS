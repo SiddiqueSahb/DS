{
 "cells": [
  {
   "cell_type": "markdown",
   "id": "207b104d-c0b9-464f-933d-061eeb11cc75",
   "metadata": {},
   "source": [
    "### Accessing tuple items through Positive Indexing"
   ]
  },
  {
   "cell_type": "markdown",
   "id": "0c38d180-61a4-48f9-a297-159dc0a75351",
   "metadata": {},
   "source": [
    "Each element of a tuple can be accessed through its index\n",
    "\n",
    "Syntax - \n",
    "tuple_name[index]\n",
    "\n",
    "index - index of the element that you want to access"
   ]
  },
  {
   "cell_type": "code",
   "execution_count": 1,
   "id": "7b3f119f-7246-4fe5-adfd-4b68add7ee77",
   "metadata": {},
   "outputs": [],
   "source": [
    "cars = ('Audi', 'Mercedes', 'BMW')"
   ]
  },
  {
   "cell_type": "code",
   "execution_count": 2,
   "id": "db796428-9044-4763-86b9-ccf77f3e7c3f",
   "metadata": {},
   "outputs": [
    {
     "data": {
      "text/plain": [
       "('Audi', 'Mercedes', 'BMW')"
      ]
     },
     "execution_count": 2,
     "metadata": {},
     "output_type": "execute_result"
    }
   ],
   "source": [
    "cars"
   ]
  },
  {
   "cell_type": "code",
   "execution_count": 3,
   "id": "55447bc6-7456-48f9-ba65-c5010fc5c5f1",
   "metadata": {},
   "outputs": [
    {
     "data": {
      "text/plain": [
       "'Mercedes'"
      ]
     },
     "execution_count": 3,
     "metadata": {},
     "output_type": "execute_result"
    }
   ],
   "source": [
    "cars[1]\n",
    "#Here, we are accessing element at index 1"
   ]
  },
  {
   "cell_type": "markdown",
   "id": "ca5ad5b7-4b3e-47d3-a97c-a6b1d6b931e3",
   "metadata": {},
   "source": [
    "Note -\n",
    "If we try to access element out of range, will result an Index Error\n",
    "\n",
    "If we provide float or any other datatype as index , it will result in Type Error\n",
    "\n",
    "We can only pass integer as index"
   ]
  },
  {
   "cell_type": "code",
   "execution_count": 5,
   "id": "598644db-f48e-496c-8694-9f2f83baab36",
   "metadata": {},
   "outputs": [
    {
     "ename": "TypeError",
     "evalue": "tuple indices must be integers or slices, not float",
     "output_type": "error",
     "traceback": [
      "\u001b[0;31m---------------------------------------------------------------------------\u001b[0m",
      "\u001b[0;31mTypeError\u001b[0m                                 Traceback (most recent call last)",
      "Cell \u001b[0;32mIn[5], line 1\u001b[0m\n\u001b[0;32m----> 1\u001b[0m cars[\u001b[38;5;241m1.0\u001b[39m]\n",
      "\u001b[0;31mTypeError\u001b[0m: tuple indices must be integers or slices, not float"
     ]
    }
   ],
   "source": [
    "cars[1.0]"
   ]
  },
  {
   "cell_type": "markdown",
   "id": "a6fa5cbb-6c84-4b25-9b34-298b4954ee5b",
   "metadata": {},
   "source": [
    "### Accessing tuple items through Negative Indexing"
   ]
  },
  {
   "cell_type": "markdown",
   "id": "c23c1038-7257-4b3a-bcdf-de6e03f12a9d",
   "metadata": {},
   "source": [
    "Index -1 refers to the last item, -2 refers to second last item, and so on"
   ]
  },
  {
   "cell_type": "code",
   "execution_count": 9,
   "id": "976f0c59-f8f9-4ce9-8c0a-0b0860c14929",
   "metadata": {},
   "outputs": [
    {
     "data": {
      "text/plain": [
       "'BMW'"
      ]
     },
     "execution_count": 9,
     "metadata": {},
     "output_type": "execute_result"
    }
   ],
   "source": [
    "cars[-1]"
   ]
  },
  {
   "cell_type": "code",
   "execution_count": 10,
   "id": "44872058-bee4-4fa5-b401-66443e254a68",
   "metadata": {},
   "outputs": [
    {
     "data": {
      "text/plain": [
       "'Mercedes'"
      ]
     },
     "execution_count": 10,
     "metadata": {},
     "output_type": "execute_result"
    }
   ],
   "source": [
    "cars[-2]"
   ]
  },
  {
   "cell_type": "markdown",
   "id": "795d85b5-5f85-4175-b2e0-333ba48820d7",
   "metadata": {},
   "source": [
    "### Accessing tuple items through slicing"
   ]
  },
  {
   "cell_type": "markdown",
   "id": "fb7ee64c-affd-43b2-8fb7-0ab8d239b9bf",
   "metadata": {},
   "source": [
    "Range of items can be accessed through slicing\n",
    "\n",
    "Syntax -\n",
    "tuple_name[index1 : index2]"
   ]
  },
  {
   "cell_type": "code",
   "execution_count": 12,
   "id": "5783ee46-a60c-4429-ba16-a649846d5b74",
   "metadata": {},
   "outputs": [
    {
     "data": {
      "text/plain": [
       "('Mercedes', 'BMW')"
      ]
     },
     "execution_count": 12,
     "metadata": {},
     "output_type": "execute_result"
    }
   ],
   "source": [
    "cars[1:3]\n",
    "# Start from the index 1 & go up to the last item"
   ]
  },
  {
   "cell_type": "code",
   "execution_count": 13,
   "id": "0b4d45a1-aefc-4d89-92d1-e3c0b64d3776",
   "metadata": {},
   "outputs": [
    {
     "data": {
      "text/plain": [
       "('Audi', 'Mercedes', 'BMW')"
      ]
     },
     "execution_count": 13,
     "metadata": {},
     "output_type": "execute_result"
    }
   ],
   "source": [
    "cars[:]\n",
    "# If we want to access entire tuple"
   ]
  }
 ],
 "metadata": {
  "kernelspec": {
   "display_name": "Python 3 (ipykernel)",
   "language": "python",
   "name": "python3"
  },
  "language_info": {
   "codemirror_mode": {
    "name": "ipython",
    "version": 3
   },
   "file_extension": ".py",
   "mimetype": "text/x-python",
   "name": "python",
   "nbconvert_exporter": "python",
   "pygments_lexer": "ipython3",
   "version": "3.11.7"
  }
 },
 "nbformat": 4,
 "nbformat_minor": 5
}
