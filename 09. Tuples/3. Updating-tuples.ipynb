{
 "cells": [
  {
   "cell_type": "markdown",
   "id": "817d351f-d5b3-4cef-bbce-f2f0de2232bf",
   "metadata": {},
   "source": [
    "### Adding items to a tuple"
   ]
  },
  {
   "cell_type": "markdown",
   "id": "61b09a13-6a0a-440e-8cb4-311a3476f178",
   "metadata": {},
   "source": [
    "It is not possible to directly add items to a tuple as tuples are immutable ( we canot add,remove or change item of a tuple)\n",
    "\n",
    "Convert tuple into a list using list method ( list method  - allow us to convert a tuple into a list )\n",
    "\n",
    "Use append method to add element to a list (append method allow us to add elemnt to a list)\n",
    "\n",
    "Now convert the list back to tuple using tuple method"
   ]
  },
  {
   "cell_type": "code",
   "execution_count": 1,
   "id": "8e7c8a75-1210-4ef7-82c6-6f5ac23cdade",
   "metadata": {},
   "outputs": [],
   "source": [
    "cars = ('BMW','Mercedes','Audi')"
   ]
  },
  {
   "cell_type": "code",
   "execution_count": 2,
   "id": "4956ab44-fe61-4d7c-8ddc-80ddc6e5b481",
   "metadata": {},
   "outputs": [
    {
     "data": {
      "text/plain": [
       "('BMW', 'Mercedes', 'Audi')"
      ]
     },
     "execution_count": 2,
     "metadata": {},
     "output_type": "execute_result"
    }
   ],
   "source": [
    "cars"
   ]
  },
  {
   "cell_type": "code",
   "execution_count": 3,
   "id": "99e271e6-41f0-417c-8af1-0d107ce7c9a6",
   "metadata": {},
   "outputs": [],
   "source": [
    "temp = list(cars)"
   ]
  },
  {
   "cell_type": "code",
   "execution_count": 4,
   "id": "0058f5cc-fb8e-4d82-84d5-8efbd2d504d3",
   "metadata": {},
   "outputs": [
    {
     "data": {
      "text/plain": [
       "['BMW', 'Mercedes', 'Audi']"
      ]
     },
     "execution_count": 4,
     "metadata": {},
     "output_type": "execute_result"
    }
   ],
   "source": [
    "temp"
   ]
  },
  {
   "cell_type": "code",
   "execution_count": 6,
   "id": "7db332d5-37e6-4ead-8d08-d79015dedb95",
   "metadata": {},
   "outputs": [],
   "source": [
    "temp.append('Suzuki')"
   ]
  },
  {
   "cell_type": "code",
   "execution_count": 7,
   "id": "f35b9394-9977-4357-8e03-ac35eed5c0cd",
   "metadata": {},
   "outputs": [
    {
     "data": {
      "text/plain": [
       "['BMW', 'Mercedes', 'Audi', 'Suzuki']"
      ]
     },
     "execution_count": 7,
     "metadata": {},
     "output_type": "execute_result"
    }
   ],
   "source": [
    "temp"
   ]
  },
  {
   "cell_type": "code",
   "execution_count": 8,
   "id": "7dfc4cca-800d-4663-aaf0-bccb70478dbd",
   "metadata": {},
   "outputs": [],
   "source": [
    "cars = tuple(temp)"
   ]
  },
  {
   "cell_type": "code",
   "execution_count": 9,
   "id": "209a15e8-1707-4294-bfc2-b8d3cfb59e3f",
   "metadata": {},
   "outputs": [
    {
     "data": {
      "text/plain": [
       "('BMW', 'Mercedes', 'Audi', 'Suzuki')"
      ]
     },
     "execution_count": 9,
     "metadata": {},
     "output_type": "execute_result"
    }
   ],
   "source": [
    "cars"
   ]
  },
  {
   "cell_type": "markdown",
   "id": "2bf60db3-ebbb-49d4-8180-c43b44ce27a3",
   "metadata": {},
   "source": [
    "### Updating items of a tuple"
   ]
  },
  {
   "cell_type": "code",
   "execution_count": 23,
   "id": "96157935-b03e-4b13-b764-8a7b734dc609",
   "metadata": {},
   "outputs": [
    {
     "data": {
      "text/plain": [
       "('BMW', 'Mercedes', 'Audi', 'Suzuki')"
      ]
     },
     "execution_count": 23,
     "metadata": {},
     "output_type": "execute_result"
    }
   ],
   "source": [
    "cars"
   ]
  },
  {
   "cell_type": "code",
   "execution_count": 24,
   "id": "6636b2c4-07fa-4c5f-a736-15b4b79f5bca",
   "metadata": {},
   "outputs": [],
   "source": [
    "temp = list(cars)"
   ]
  },
  {
   "cell_type": "code",
   "execution_count": 25,
   "id": "f40fa673-37f0-4bef-ab41-9363a354b36f",
   "metadata": {},
   "outputs": [
    {
     "data": {
      "text/plain": [
       "['BMW', 'Mercedes', 'Audi', 'Suzuki']"
      ]
     },
     "execution_count": 25,
     "metadata": {},
     "output_type": "execute_result"
    }
   ],
   "source": [
    "temp"
   ]
  },
  {
   "cell_type": "code",
   "execution_count": 26,
   "id": "9f813519-0855-4f33-a80c-699a1ff608ec",
   "metadata": {},
   "outputs": [],
   "source": [
    "temp[3] = 'Ferarri'"
   ]
  },
  {
   "cell_type": "code",
   "execution_count": 27,
   "id": "ef64a2f4-4c22-47aa-9af0-6bf190429079",
   "metadata": {},
   "outputs": [
    {
     "data": {
      "text/plain": [
       "['BMW', 'Mercedes', 'Audi', 'Ferarri']"
      ]
     },
     "execution_count": 27,
     "metadata": {},
     "output_type": "execute_result"
    }
   ],
   "source": [
    "temp"
   ]
  },
  {
   "cell_type": "code",
   "execution_count": 28,
   "id": "207cb1e1-1791-47f5-bbdf-e764d2c5ba5c",
   "metadata": {},
   "outputs": [],
   "source": [
    "cars = tuple(temp)"
   ]
  },
  {
   "cell_type": "code",
   "execution_count": 29,
   "id": "64b53804-9b67-4009-af68-c592e72d336c",
   "metadata": {},
   "outputs": [
    {
     "data": {
      "text/plain": [
       "('BMW', 'Mercedes', 'Audi', 'Ferarri')"
      ]
     },
     "execution_count": 29,
     "metadata": {},
     "output_type": "execute_result"
    }
   ],
   "source": [
    "cars"
   ]
  },
  {
   "cell_type": "markdown",
   "id": "af1d9b5b-404b-4fb1-bf9e-49e65d8ea28e",
   "metadata": {},
   "source": [
    "### Removing items of a tuple"
   ]
  },
  {
   "cell_type": "code",
   "execution_count": 31,
   "id": "771385eb-c700-4ba9-8b5d-2d5748918522",
   "metadata": {},
   "outputs": [
    {
     "data": {
      "text/plain": [
       "('BMW', 'Mercedes', 'Audi', 'Ferarri')"
      ]
     },
     "execution_count": 31,
     "metadata": {},
     "output_type": "execute_result"
    }
   ],
   "source": [
    "cars"
   ]
  },
  {
   "cell_type": "code",
   "execution_count": 32,
   "id": "ff1dd271-cf7f-4e8c-8e2f-83fabcfeeb6f",
   "metadata": {},
   "outputs": [],
   "source": [
    "temp = list(cars)"
   ]
  },
  {
   "cell_type": "code",
   "execution_count": 33,
   "id": "f7e5f7e7-0bbe-45de-8ef2-8a584c874dd3",
   "metadata": {},
   "outputs": [
    {
     "data": {
      "text/plain": [
       "['BMW', 'Mercedes', 'Audi', 'Ferarri']"
      ]
     },
     "execution_count": 33,
     "metadata": {},
     "output_type": "execute_result"
    }
   ],
   "source": [
    "temp"
   ]
  },
  {
   "cell_type": "code",
   "execution_count": 34,
   "id": "b4d48ad8-1f58-4258-99f3-d76b6d966933",
   "metadata": {},
   "outputs": [],
   "source": [
    "temp.remove('Ferarri')\n",
    "# we can remove Ferarri from the list "
   ]
  },
  {
   "cell_type": "code",
   "execution_count": 35,
   "id": "2d32063c-0523-4518-b993-d26b2989457f",
   "metadata": {},
   "outputs": [
    {
     "data": {
      "text/plain": [
       "['BMW', 'Mercedes', 'Audi']"
      ]
     },
     "execution_count": 35,
     "metadata": {},
     "output_type": "execute_result"
    }
   ],
   "source": [
    "temp"
   ]
  },
  {
   "cell_type": "code",
   "execution_count": 36,
   "id": "d478ddbf-b36c-47c4-ad98-06f2d1df749b",
   "metadata": {},
   "outputs": [],
   "source": [
    "cars = tuple(temp)"
   ]
  },
  {
   "cell_type": "code",
   "execution_count": 37,
   "id": "a4c0260b-bcda-427b-8004-051c7935c6ef",
   "metadata": {},
   "outputs": [
    {
     "data": {
      "text/plain": [
       "('BMW', 'Mercedes', 'Audi')"
      ]
     },
     "execution_count": 37,
     "metadata": {},
     "output_type": "execute_result"
    }
   ],
   "source": [
    "cars"
   ]
  },
  {
   "cell_type": "markdown",
   "id": "8b94525b-04a8-45cf-810a-389a1bcb21da",
   "metadata": {},
   "source": [
    "### Deleting entire tuple"
   ]
  },
  {
   "cell_type": "code",
   "execution_count": 38,
   "id": "42347170-5467-42d1-9b89-c68bb1b73063",
   "metadata": {},
   "outputs": [],
   "source": [
    "del cars"
   ]
  },
  {
   "cell_type": "code",
   "execution_count": 39,
   "id": "3a467dbb-7c9a-424b-9d1d-e7e4b1209d2d",
   "metadata": {},
   "outputs": [
    {
     "ename": "NameError",
     "evalue": "name 'cars' is not defined",
     "output_type": "error",
     "traceback": [
      "\u001b[0;31m---------------------------------------------------------------------------\u001b[0m",
      "\u001b[0;31mNameError\u001b[0m                                 Traceback (most recent call last)",
      "Cell \u001b[0;32mIn[39], line 1\u001b[0m\n\u001b[0;32m----> 1\u001b[0m cars\n",
      "\u001b[0;31mNameError\u001b[0m: name 'cars' is not defined"
     ]
    }
   ],
   "source": [
    "cars"
   ]
  }
 ],
 "metadata": {
  "kernelspec": {
   "display_name": "Python 3 (ipykernel)",
   "language": "python",
   "name": "python3"
  },
  "language_info": {
   "codemirror_mode": {
    "name": "ipython",
    "version": 3
   },
   "file_extension": ".py",
   "mimetype": "text/x-python",
   "name": "python",
   "nbconvert_exporter": "python",
   "pygments_lexer": "ipython3",
   "version": "3.11.7"
  }
 },
 "nbformat": 4,
 "nbformat_minor": 5
}
